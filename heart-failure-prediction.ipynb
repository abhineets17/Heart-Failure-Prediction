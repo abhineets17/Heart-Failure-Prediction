{
 "cells": [
  {
   "cell_type": "markdown",
   "metadata": {
    "id": "n6EaKJC1zSno"
   },
   "source": [
    "# Heart Failure Prediction\n",
    "![img](http://www.mydr.com.au/wp-content/uploads/2019/04/heart_failure_750.jpeg)"
   ]
  },
  {
   "cell_type": "markdown",
   "metadata": {
    "id": "6wEQXD--sF6G"
   },
   "source": [
    "## Introduction\n",
    "\n",
    "Cardiovascular diseases kill approximately 17 million people globally every year and they mainly exhibit as myocardial infarctions and heart failures. Heart failure (HF) occurs when the heart cannot pump enough blood to meet the needs of the body. In this project, we analyze a dataset containing the medical records of 299 heart failure patients collected at the Faisalabad Institute of Cardiology and at the Allied Hospital in Faisalabad (Punjab - Pakistan) during the months of April - December in 2015. It consists of 105 women and 194 men with their ages range between 40 and 95 years old. All 299 patients had left ventricular systolic dysfunction and had previous heart failures. This dataset contains 13 features, which reports clinical, body and lifestyle information of a patient namely Age, Anaemia, High Blood Pressure, Creatinine Phosphokinase (CPK), Diabetes, Ejection Fraction, Sex, Platelets, Serum Creatinine, Serum Sodium, Smoking Habit etc."
   ]
  },
  {
   "cell_type": "markdown",
   "metadata": {
    "id": "Se2vlyP0sO5Q"
   },
   "source": [
    "### About - Project:\n",
    "This Exploratory Data Analysis project is a part of \"Data Analysis with Python: Zero to Pandas\" course structured and provided by Jovian. In this project, we'll analyse the relationship between the different features of the heart failure patient included in this dataset namely the distribution of age among the patients, death rate, percentage of male and female patients, variation in the platelets amount, creatinine and sodium level in the blood. The graphical representation and visualisation of data using matplotlib and seaborn library in python helps us to easily understand a lot better about the dataset."
   ]
  },
  {
   "cell_type": "markdown",
   "metadata": {
    "id": "QUGasXwnscI3"
   },
   "source": [
    "The dataset is obtained from [Kaggle](https://www.kaggle.com/datasets/andrewmvd/heart-failure-clinical-data).\n",
    "\n",
    "Please [click here](https://bmcmedinformdecismak.biomedcentral.com/articles/10.1186/s12911-020-1023-5/tables/1) to know more about the dataset.\n",
    "\n",
    "The dataset consist of column names (attributes) which doesn't provide complete information regarding the data recorded, so we have to refer to the another table / websites to see the complete information regarding the attributes (column names) including measurement units and normal level, if required.\n",
    "\n",
    "#### Discussion of Google play store dataset will involve various steps such as:\n",
    "\n",
    "1. Loading the data into data frame\n",
    "2. Cleaning the data\n",
    "3. Extracting statistics from the dataset\n",
    "4. Exploratory analysis \n",
    "5. Questions that can be asked from the dataset\n",
    "6. Inferences & Conclusion\n",
    "7. Reference & Future Work"
   ]
  },
  {
   "cell_type": "code",
   "execution_count": 7,
   "metadata": {
    "executionInfo": {
     "elapsed": 3845,
     "status": "ok",
     "timestamp": 1663860383552,
     "user": {
      "displayName": "Avneet Kumar",
      "userId": "08327085032726843331"
     },
     "user_tz": -330
    },
    "id": "XNqBA74czSnr"
   },
   "outputs": [],
   "source": [
    "!pip install jovian --upgrade --quiet"
   ]
  },
  {
   "cell_type": "code",
   "execution_count": 8,
   "metadata": {
    "executionInfo": {
     "elapsed": 21,
     "status": "ok",
     "timestamp": 1663860383553,
     "user": {
      "displayName": "Avneet Kumar",
      "userId": "08327085032726843331"
     },
     "user_tz": -330
    },
    "id": "BbpcshvYzSns"
   },
   "outputs": [],
   "source": [
    "import jovian"
   ]
  },
  {
   "cell_type": "code",
   "execution_count": 124,
   "metadata": {
    "colab": {
     "base_uri": "https://localhost:8080/",
     "height": 87
    },
    "executionInfo": {
     "elapsed": 4223,
     "status": "ok",
     "timestamp": 1663875518101,
     "user": {
      "displayName": "Avneet Kumar",
      "userId": "08327085032726843331"
     },
     "user_tz": -330
    },
    "id": "YgE_0vqLzSnt",
    "outputId": "3a739407-fb21-40f7-ab30-2b82961ca778"
   },
   "outputs": [
    {
     "name": "stdout",
     "output_type": "stream",
     "text": [
      "[jovian] Detected Colab notebook...\u001b[0m\n",
      "[jovian] Uploading colab notebook to Jovian...\u001b[0m\n",
      "Committed successfully! https://jovian.ai/abhineets17/heart-failure-prediction\n"
     ]
    },
    {
     "data": {
      "application/vnd.google.colaboratory.intrinsic+json": {
       "type": "string"
      },
      "text/plain": [
       "'https://jovian.ai/abhineets17/heart-failure-prediction'"
      ]
     },
     "execution_count": 124,
     "metadata": {},
     "output_type": "execute_result"
    }
   ],
   "source": [
    "# Execute this to save new versions of the notebook\n",
    "jovian.commit(project=\"heart-failure-prediction\")"
   ]
  },
  {
   "cell_type": "code",
   "execution_count": 10,
   "metadata": {
    "executionInfo": {
     "elapsed": 3794,
     "status": "ok",
     "timestamp": 1663860411668,
     "user": {
      "displayName": "Avneet Kumar",
      "userId": "08327085032726843331"
     },
     "user_tz": -330
    },
    "id": "wEOHpyqCzSnt"
   },
   "outputs": [],
   "source": [
    "!pip install opendatasets --upgrade --quiet"
   ]
  },
  {
   "cell_type": "code",
   "execution_count": 12,
   "metadata": {
    "colab": {
     "base_uri": "https://localhost:8080/"
    },
    "executionInfo": {
     "elapsed": 151149,
     "status": "ok",
     "timestamp": 1663860599995,
     "user": {
      "displayName": "Avneet Kumar",
      "userId": "08327085032726843331"
     },
     "user_tz": -330
    },
    "id": "Vzq6R6eqzhHC",
    "outputId": "2012f76f-319b-4fed-dfa9-605020e38983"
   },
   "outputs": [
    {
     "name": "stdout",
     "output_type": "stream",
     "text": [
      "Please provide your Kaggle credentials to download this dataset. Learn more: http://bit.ly/kaggle-creds\n",
      "Your Kaggle username: jovianabhi\n",
      "Your Kaggle Key: ··········\n",
      "Downloading heart-failure-clinical-data.zip to ./heart-failure-clinical-data\n"
     ]
    },
    {
     "name": "stderr",
     "output_type": "stream",
     "text": [
      "100%|██████████| 3.97k/3.97k [00:00<00:00, 1.87MB/s]"
     ]
    },
    {
     "name": "stdout",
     "output_type": "stream",
     "text": [
      "\n"
     ]
    },
    {
     "name": "stderr",
     "output_type": "stream",
     "text": [
      "\n"
     ]
    }
   ],
   "source": [
    "import opendatasets as od\n",
    "\n",
    "\n",
    "download_url = \"https://www.kaggle.com/datasets/andrewmvd/heart-failure-clinical-data\"\n",
    "od.download(download_url)"
   ]
  },
  {
   "cell_type": "code",
   "execution_count": 13,
   "metadata": {
    "executionInfo": {
     "elapsed": 740,
     "status": "ok",
     "timestamp": 1663860682446,
     "user": {
      "displayName": "Avneet Kumar",
      "userId": "08327085032726843331"
     },
     "user_tz": -330
    },
    "id": "gfCrpCYbzhri"
   },
   "outputs": [],
   "source": [
    "data_filename='./heart-failure-clinical-data/heart_failure_clinical_records_dataset.csv'"
   ]
  },
  {
   "cell_type": "code",
   "execution_count": 14,
   "metadata": {
    "executionInfo": {
     "elapsed": 10,
     "status": "ok",
     "timestamp": 1663860710988,
     "user": {
      "displayName": "Avneet Kumar",
      "userId": "08327085032726843331"
     },
     "user_tz": -330
    },
    "id": "7MkikJIEzhoR"
   },
   "outputs": [],
   "source": [
    "import pandas as pd"
   ]
  },
  {
   "cell_type": "markdown",
   "metadata": {
    "id": "rhgEmNFA3Cvu"
   },
   "source": [
    "### Data Preparation and Cleaning\n",
    "\n",
    "Let's load the CSV files using the Pandas library. We'll use the name \"**heart_failure_raw_df**\" for the dataframe to indicate.\n",
    "This is unprocessed data that we might clean, filter and modify to prepare a data frame ready for analysis. So we have to extract a copy of data frame and name it as \"**heart_failure_df**\". We'll perform data preparation and cleaning operations on \"heart_failure_df\" and leave the raw data frame untouched and unmodified."
   ]
  },
  {
   "cell_type": "code",
   "execution_count": 15,
   "metadata": {
    "colab": {
     "base_uri": "https://localhost:8080/",
     "height": 488
    },
    "executionInfo": {
     "elapsed": 435,
     "status": "ok",
     "timestamp": 1663860738953,
     "user": {
      "displayName": "Avneet Kumar",
      "userId": "08327085032726843331"
     },
     "user_tz": -330
    },
    "id": "P9Mhx3RNzhl3",
    "outputId": "74e8d265-3ed8-4a9e-987f-8e077391f14a"
   },
   "outputs": [
    {
     "data": {
      "text/html": [
       "\n",
       "  <div id=\"df-2259f047-0518-4949-9ffa-1544e1d50395\">\n",
       "    <div class=\"colab-df-container\">\n",
       "      <div>\n",
       "<style scoped>\n",
       "    .dataframe tbody tr th:only-of-type {\n",
       "        vertical-align: middle;\n",
       "    }\n",
       "\n",
       "    .dataframe tbody tr th {\n",
       "        vertical-align: top;\n",
       "    }\n",
       "\n",
       "    .dataframe thead th {\n",
       "        text-align: right;\n",
       "    }\n",
       "</style>\n",
       "<table border=\"1\" class=\"dataframe\">\n",
       "  <thead>\n",
       "    <tr style=\"text-align: right;\">\n",
       "      <th></th>\n",
       "      <th>age</th>\n",
       "      <th>anaemia</th>\n",
       "      <th>creatinine_phosphokinase</th>\n",
       "      <th>diabetes</th>\n",
       "      <th>ejection_fraction</th>\n",
       "      <th>high_blood_pressure</th>\n",
       "      <th>platelets</th>\n",
       "      <th>serum_creatinine</th>\n",
       "      <th>serum_sodium</th>\n",
       "      <th>sex</th>\n",
       "      <th>smoking</th>\n",
       "      <th>time</th>\n",
       "      <th>DEATH_EVENT</th>\n",
       "    </tr>\n",
       "  </thead>\n",
       "  <tbody>\n",
       "    <tr>\n",
       "      <th>0</th>\n",
       "      <td>75.0</td>\n",
       "      <td>0</td>\n",
       "      <td>582</td>\n",
       "      <td>0</td>\n",
       "      <td>20</td>\n",
       "      <td>1</td>\n",
       "      <td>265000.00</td>\n",
       "      <td>1.9</td>\n",
       "      <td>130</td>\n",
       "      <td>1</td>\n",
       "      <td>0</td>\n",
       "      <td>4</td>\n",
       "      <td>1</td>\n",
       "    </tr>\n",
       "    <tr>\n",
       "      <th>1</th>\n",
       "      <td>55.0</td>\n",
       "      <td>0</td>\n",
       "      <td>7861</td>\n",
       "      <td>0</td>\n",
       "      <td>38</td>\n",
       "      <td>0</td>\n",
       "      <td>263358.03</td>\n",
       "      <td>1.1</td>\n",
       "      <td>136</td>\n",
       "      <td>1</td>\n",
       "      <td>0</td>\n",
       "      <td>6</td>\n",
       "      <td>1</td>\n",
       "    </tr>\n",
       "    <tr>\n",
       "      <th>2</th>\n",
       "      <td>65.0</td>\n",
       "      <td>0</td>\n",
       "      <td>146</td>\n",
       "      <td>0</td>\n",
       "      <td>20</td>\n",
       "      <td>0</td>\n",
       "      <td>162000.00</td>\n",
       "      <td>1.3</td>\n",
       "      <td>129</td>\n",
       "      <td>1</td>\n",
       "      <td>1</td>\n",
       "      <td>7</td>\n",
       "      <td>1</td>\n",
       "    </tr>\n",
       "    <tr>\n",
       "      <th>3</th>\n",
       "      <td>50.0</td>\n",
       "      <td>1</td>\n",
       "      <td>111</td>\n",
       "      <td>0</td>\n",
       "      <td>20</td>\n",
       "      <td>0</td>\n",
       "      <td>210000.00</td>\n",
       "      <td>1.9</td>\n",
       "      <td>137</td>\n",
       "      <td>1</td>\n",
       "      <td>0</td>\n",
       "      <td>7</td>\n",
       "      <td>1</td>\n",
       "    </tr>\n",
       "    <tr>\n",
       "      <th>4</th>\n",
       "      <td>65.0</td>\n",
       "      <td>1</td>\n",
       "      <td>160</td>\n",
       "      <td>1</td>\n",
       "      <td>20</td>\n",
       "      <td>0</td>\n",
       "      <td>327000.00</td>\n",
       "      <td>2.7</td>\n",
       "      <td>116</td>\n",
       "      <td>0</td>\n",
       "      <td>0</td>\n",
       "      <td>8</td>\n",
       "      <td>1</td>\n",
       "    </tr>\n",
       "    <tr>\n",
       "      <th>...</th>\n",
       "      <td>...</td>\n",
       "      <td>...</td>\n",
       "      <td>...</td>\n",
       "      <td>...</td>\n",
       "      <td>...</td>\n",
       "      <td>...</td>\n",
       "      <td>...</td>\n",
       "      <td>...</td>\n",
       "      <td>...</td>\n",
       "      <td>...</td>\n",
       "      <td>...</td>\n",
       "      <td>...</td>\n",
       "      <td>...</td>\n",
       "    </tr>\n",
       "    <tr>\n",
       "      <th>294</th>\n",
       "      <td>62.0</td>\n",
       "      <td>0</td>\n",
       "      <td>61</td>\n",
       "      <td>1</td>\n",
       "      <td>38</td>\n",
       "      <td>1</td>\n",
       "      <td>155000.00</td>\n",
       "      <td>1.1</td>\n",
       "      <td>143</td>\n",
       "      <td>1</td>\n",
       "      <td>1</td>\n",
       "      <td>270</td>\n",
       "      <td>0</td>\n",
       "    </tr>\n",
       "    <tr>\n",
       "      <th>295</th>\n",
       "      <td>55.0</td>\n",
       "      <td>0</td>\n",
       "      <td>1820</td>\n",
       "      <td>0</td>\n",
       "      <td>38</td>\n",
       "      <td>0</td>\n",
       "      <td>270000.00</td>\n",
       "      <td>1.2</td>\n",
       "      <td>139</td>\n",
       "      <td>0</td>\n",
       "      <td>0</td>\n",
       "      <td>271</td>\n",
       "      <td>0</td>\n",
       "    </tr>\n",
       "    <tr>\n",
       "      <th>296</th>\n",
       "      <td>45.0</td>\n",
       "      <td>0</td>\n",
       "      <td>2060</td>\n",
       "      <td>1</td>\n",
       "      <td>60</td>\n",
       "      <td>0</td>\n",
       "      <td>742000.00</td>\n",
       "      <td>0.8</td>\n",
       "      <td>138</td>\n",
       "      <td>0</td>\n",
       "      <td>0</td>\n",
       "      <td>278</td>\n",
       "      <td>0</td>\n",
       "    </tr>\n",
       "    <tr>\n",
       "      <th>297</th>\n",
       "      <td>45.0</td>\n",
       "      <td>0</td>\n",
       "      <td>2413</td>\n",
       "      <td>0</td>\n",
       "      <td>38</td>\n",
       "      <td>0</td>\n",
       "      <td>140000.00</td>\n",
       "      <td>1.4</td>\n",
       "      <td>140</td>\n",
       "      <td>1</td>\n",
       "      <td>1</td>\n",
       "      <td>280</td>\n",
       "      <td>0</td>\n",
       "    </tr>\n",
       "    <tr>\n",
       "      <th>298</th>\n",
       "      <td>50.0</td>\n",
       "      <td>0</td>\n",
       "      <td>196</td>\n",
       "      <td>0</td>\n",
       "      <td>45</td>\n",
       "      <td>0</td>\n",
       "      <td>395000.00</td>\n",
       "      <td>1.6</td>\n",
       "      <td>136</td>\n",
       "      <td>1</td>\n",
       "      <td>1</td>\n",
       "      <td>285</td>\n",
       "      <td>0</td>\n",
       "    </tr>\n",
       "  </tbody>\n",
       "</table>\n",
       "<p>299 rows × 13 columns</p>\n",
       "</div>\n",
       "      <button class=\"colab-df-convert\" onclick=\"convertToInteractive('df-2259f047-0518-4949-9ffa-1544e1d50395')\"\n",
       "              title=\"Convert this dataframe to an interactive table.\"\n",
       "              style=\"display:none;\">\n",
       "        \n",
       "  <svg xmlns=\"http://www.w3.org/2000/svg\" height=\"24px\"viewBox=\"0 0 24 24\"\n",
       "       width=\"24px\">\n",
       "    <path d=\"M0 0h24v24H0V0z\" fill=\"none\"/>\n",
       "    <path d=\"M18.56 5.44l.94 2.06.94-2.06 2.06-.94-2.06-.94-.94-2.06-.94 2.06-2.06.94zm-11 1L8.5 8.5l.94-2.06 2.06-.94-2.06-.94L8.5 2.5l-.94 2.06-2.06.94zm10 10l.94 2.06.94-2.06 2.06-.94-2.06-.94-.94-2.06-.94 2.06-2.06.94z\"/><path d=\"M17.41 7.96l-1.37-1.37c-.4-.4-.92-.59-1.43-.59-.52 0-1.04.2-1.43.59L10.3 9.45l-7.72 7.72c-.78.78-.78 2.05 0 2.83L4 21.41c.39.39.9.59 1.41.59.51 0 1.02-.2 1.41-.59l7.78-7.78 2.81-2.81c.8-.78.8-2.07 0-2.86zM5.41 20L4 18.59l7.72-7.72 1.47 1.35L5.41 20z\"/>\n",
       "  </svg>\n",
       "      </button>\n",
       "      \n",
       "  <style>\n",
       "    .colab-df-container {\n",
       "      display:flex;\n",
       "      flex-wrap:wrap;\n",
       "      gap: 12px;\n",
       "    }\n",
       "\n",
       "    .colab-df-convert {\n",
       "      background-color: #E8F0FE;\n",
       "      border: none;\n",
       "      border-radius: 50%;\n",
       "      cursor: pointer;\n",
       "      display: none;\n",
       "      fill: #1967D2;\n",
       "      height: 32px;\n",
       "      padding: 0 0 0 0;\n",
       "      width: 32px;\n",
       "    }\n",
       "\n",
       "    .colab-df-convert:hover {\n",
       "      background-color: #E2EBFA;\n",
       "      box-shadow: 0px 1px 2px rgba(60, 64, 67, 0.3), 0px 1px 3px 1px rgba(60, 64, 67, 0.15);\n",
       "      fill: #174EA6;\n",
       "    }\n",
       "\n",
       "    [theme=dark] .colab-df-convert {\n",
       "      background-color: #3B4455;\n",
       "      fill: #D2E3FC;\n",
       "    }\n",
       "\n",
       "    [theme=dark] .colab-df-convert:hover {\n",
       "      background-color: #434B5C;\n",
       "      box-shadow: 0px 1px 3px 1px rgba(0, 0, 0, 0.15);\n",
       "      filter: drop-shadow(0px 1px 2px rgba(0, 0, 0, 0.3));\n",
       "      fill: #FFFFFF;\n",
       "    }\n",
       "  </style>\n",
       "\n",
       "      <script>\n",
       "        const buttonEl =\n",
       "          document.querySelector('#df-2259f047-0518-4949-9ffa-1544e1d50395 button.colab-df-convert');\n",
       "        buttonEl.style.display =\n",
       "          google.colab.kernel.accessAllowed ? 'block' : 'none';\n",
       "\n",
       "        async function convertToInteractive(key) {\n",
       "          const element = document.querySelector('#df-2259f047-0518-4949-9ffa-1544e1d50395');\n",
       "          const dataTable =\n",
       "            await google.colab.kernel.invokeFunction('convertToInteractive',\n",
       "                                                     [key], {});\n",
       "          if (!dataTable) return;\n",
       "\n",
       "          const docLinkHtml = 'Like what you see? Visit the ' +\n",
       "            '<a target=\"_blank\" href=https://colab.research.google.com/notebooks/data_table.ipynb>data table notebook</a>'\n",
       "            + ' to learn more about interactive tables.';\n",
       "          element.innerHTML = '';\n",
       "          dataTable['output_type'] = 'display_data';\n",
       "          await google.colab.output.renderOutput(dataTable, element);\n",
       "          const docLink = document.createElement('div');\n",
       "          docLink.innerHTML = docLinkHtml;\n",
       "          element.appendChild(docLink);\n",
       "        }\n",
       "      </script>\n",
       "    </div>\n",
       "  </div>\n",
       "  "
      ],
      "text/plain": [
       "      age  anaemia  creatinine_phosphokinase  diabetes  ejection_fraction  \\\n",
       "0    75.0        0                       582         0                 20   \n",
       "1    55.0        0                      7861         0                 38   \n",
       "2    65.0        0                       146         0                 20   \n",
       "3    50.0        1                       111         0                 20   \n",
       "4    65.0        1                       160         1                 20   \n",
       "..    ...      ...                       ...       ...                ...   \n",
       "294  62.0        0                        61         1                 38   \n",
       "295  55.0        0                      1820         0                 38   \n",
       "296  45.0        0                      2060         1                 60   \n",
       "297  45.0        0                      2413         0                 38   \n",
       "298  50.0        0                       196         0                 45   \n",
       "\n",
       "     high_blood_pressure  platelets  serum_creatinine  serum_sodium  sex  \\\n",
       "0                      1  265000.00               1.9           130    1   \n",
       "1                      0  263358.03               1.1           136    1   \n",
       "2                      0  162000.00               1.3           129    1   \n",
       "3                      0  210000.00               1.9           137    1   \n",
       "4                      0  327000.00               2.7           116    0   \n",
       "..                   ...        ...               ...           ...  ...   \n",
       "294                    1  155000.00               1.1           143    1   \n",
       "295                    0  270000.00               1.2           139    0   \n",
       "296                    0  742000.00               0.8           138    0   \n",
       "297                    0  140000.00               1.4           140    1   \n",
       "298                    0  395000.00               1.6           136    1   \n",
       "\n",
       "     smoking  time  DEATH_EVENT  \n",
       "0          0     4            1  \n",
       "1          0     6            1  \n",
       "2          1     7            1  \n",
       "3          0     7            1  \n",
       "4          0     8            1  \n",
       "..       ...   ...          ...  \n",
       "294        1   270            0  \n",
       "295        0   271            0  \n",
       "296        0   278            0  \n",
       "297        1   280            0  \n",
       "298        1   285            0  \n",
       "\n",
       "[299 rows x 13 columns]"
      ]
     },
     "execution_count": 15,
     "metadata": {},
     "output_type": "execute_result"
    }
   ],
   "source": [
    "#convert the csv file into pandas data frame \n",
    "heart_failure_raw_df = pd.read_csv(data_filename)\n",
    "#let's extract a copy of raw df to keep the raw df unaffected / untouched \n",
    "heart_failure_df = heart_failure_raw_df.copy()\n",
    "heart_failure_df "
   ]
  },
  {
   "cell_type": "markdown",
   "metadata": {
    "id": "5G7pVLOa3kT1"
   },
   "source": [
    "We can easily identify from the above pandas data frame that the responses have been anonymized to remove personally identifiable information like name, address etc."
   ]
  },
  {
   "cell_type": "code",
   "execution_count": 16,
   "metadata": {
    "executionInfo": {
     "elapsed": 10,
     "status": "ok",
     "timestamp": 1663861447338,
     "user": {
      "displayName": "Avneet Kumar",
      "userId": "08327085032726843331"
     },
     "user_tz": -330
    },
    "id": "d69A87rKzhiO"
   },
   "outputs": [],
   "source": [
    "#importing numpy module as np \n",
    "import numpy as np "
   ]
  },
  {
   "cell_type": "markdown",
   "metadata": {
    "id": "PX8yRY3s3xMe"
   },
   "source": [
    "Let's modify our \"heart_failure_df\" data frame by dropping unnecessary Rows/Columns, renaming the column names, changing the data type of column and so on."
   ]
  },
  {
   "cell_type": "code",
   "execution_count": 17,
   "metadata": {
    "executionInfo": {
     "elapsed": 582,
     "status": "ok",
     "timestamp": 1663861630648,
     "user": {
      "displayName": "Avneet Kumar",
      "userId": "08327085032726843331"
     },
     "user_tz": -330
    },
    "id": "W5Re6y18zhgn"
   },
   "outputs": [],
   "source": [
    "#renaming DEATH_EVENT as patient_dead for my convenience \n",
    "heart_failure_df.rename(columns = {'DEATH_EVENT':'patient_dead'}, inplace = True)"
   ]
  },
  {
   "cell_type": "code",
   "execution_count": 18,
   "metadata": {
    "executionInfo": {
     "elapsed": 5,
     "status": "ok",
     "timestamp": 1663861631281,
     "user": {
      "displayName": "Avneet Kumar",
      "userId": "08327085032726843331"
     },
     "user_tz": -330
    },
    "id": "cT-aB1VNzhdR"
   },
   "outputs": [],
   "source": [
    "#drop the time column which is not necessary for our analysis \n",
    "heart_failure_df.drop(['time'],axis=1, inplace =True, errors = 'ignore')"
   ]
  },
  {
   "cell_type": "code",
   "execution_count": 19,
   "metadata": {
    "executionInfo": {
     "elapsed": 2,
     "status": "ok",
     "timestamp": 1663861631698,
     "user": {
      "displayName": "Avneet Kumar",
      "userId": "08327085032726843331"
     },
     "user_tz": -330
    },
    "id": "AxHLUSmTzhbo"
   },
   "outputs": [],
   "source": [
    "#changing the data type of age column from float to int\n",
    "heart_failure_df.age = heart_failure_df.age.astype(int)"
   ]
  },
  {
   "cell_type": "code",
   "execution_count": 20,
   "metadata": {
    "executionInfo": {
     "elapsed": 7,
     "status": "ok",
     "timestamp": 1663861632985,
     "user": {
      "displayName": "Avneet Kumar",
      "userId": "08327085032726843331"
     },
     "user_tz": -330
    },
    "id": "FA_zeDC8zhX8"
   },
   "outputs": [],
   "source": [
    "#changing the data type of following columns to bool type for our convenience \n",
    "heart_failure_df[['anaemia','diabetes','high_blood_pressure','smoking',\n",
    "                  'patient_dead']] = heart_failure_df[['anaemia','diabetes', \n",
    "                                                        'high_blood_pressure', 'smoking', 'patient_dead']].astype(bool)"
   ]
  },
  {
   "cell_type": "code",
   "execution_count": 21,
   "metadata": {
    "executionInfo": {
     "elapsed": 7,
     "status": "ok",
     "timestamp": 1663861634758,
     "user": {
      "displayName": "Avneet Kumar",
      "userId": "08327085032726843331"
     },
     "user_tz": -330
    },
    "id": "RJKsUEC5zhWG"
   },
   "outputs": [],
   "source": [
    "#changing the value of sex column to male or female\n",
    "heart_failure_df['sex'] = np.where(heart_failure_df['sex'] == 1, 'Male','Female')"
   ]
  },
  {
   "cell_type": "code",
   "execution_count": 22,
   "metadata": {
    "colab": {
     "base_uri": "https://localhost:8080/",
     "height": 488
    },
    "executionInfo": {
     "elapsed": 24,
     "status": "ok",
     "timestamp": 1663861637746,
     "user": {
      "displayName": "Avneet Kumar",
      "userId": "08327085032726843331"
     },
     "user_tz": -330
    },
    "id": "TFytZgC1zhR8",
    "outputId": "50845c7b-f1f2-486b-9940-7dc55c95aab8"
   },
   "outputs": [
    {
     "data": {
      "text/html": [
       "\n",
       "  <div id=\"df-93f01fef-2d87-4719-9bca-6326bef1f5e5\">\n",
       "    <div class=\"colab-df-container\">\n",
       "      <div>\n",
       "<style scoped>\n",
       "    .dataframe tbody tr th:only-of-type {\n",
       "        vertical-align: middle;\n",
       "    }\n",
       "\n",
       "    .dataframe tbody tr th {\n",
       "        vertical-align: top;\n",
       "    }\n",
       "\n",
       "    .dataframe thead th {\n",
       "        text-align: right;\n",
       "    }\n",
       "</style>\n",
       "<table border=\"1\" class=\"dataframe\">\n",
       "  <thead>\n",
       "    <tr style=\"text-align: right;\">\n",
       "      <th></th>\n",
       "      <th>age</th>\n",
       "      <th>anaemia</th>\n",
       "      <th>creatinine_phosphokinase</th>\n",
       "      <th>diabetes</th>\n",
       "      <th>ejection_fraction</th>\n",
       "      <th>high_blood_pressure</th>\n",
       "      <th>platelets</th>\n",
       "      <th>serum_creatinine</th>\n",
       "      <th>serum_sodium</th>\n",
       "      <th>sex</th>\n",
       "      <th>smoking</th>\n",
       "      <th>patient_dead</th>\n",
       "    </tr>\n",
       "  </thead>\n",
       "  <tbody>\n",
       "    <tr>\n",
       "      <th>0</th>\n",
       "      <td>75</td>\n",
       "      <td>False</td>\n",
       "      <td>582</td>\n",
       "      <td>False</td>\n",
       "      <td>20</td>\n",
       "      <td>True</td>\n",
       "      <td>265</td>\n",
       "      <td>1.9</td>\n",
       "      <td>130</td>\n",
       "      <td>Male</td>\n",
       "      <td>False</td>\n",
       "      <td>True</td>\n",
       "    </tr>\n",
       "    <tr>\n",
       "      <th>1</th>\n",
       "      <td>55</td>\n",
       "      <td>False</td>\n",
       "      <td>7861</td>\n",
       "      <td>False</td>\n",
       "      <td>38</td>\n",
       "      <td>False</td>\n",
       "      <td>263</td>\n",
       "      <td>1.1</td>\n",
       "      <td>136</td>\n",
       "      <td>Male</td>\n",
       "      <td>False</td>\n",
       "      <td>True</td>\n",
       "    </tr>\n",
       "    <tr>\n",
       "      <th>2</th>\n",
       "      <td>65</td>\n",
       "      <td>False</td>\n",
       "      <td>146</td>\n",
       "      <td>False</td>\n",
       "      <td>20</td>\n",
       "      <td>False</td>\n",
       "      <td>162</td>\n",
       "      <td>1.3</td>\n",
       "      <td>129</td>\n",
       "      <td>Male</td>\n",
       "      <td>True</td>\n",
       "      <td>True</td>\n",
       "    </tr>\n",
       "    <tr>\n",
       "      <th>3</th>\n",
       "      <td>50</td>\n",
       "      <td>True</td>\n",
       "      <td>111</td>\n",
       "      <td>False</td>\n",
       "      <td>20</td>\n",
       "      <td>False</td>\n",
       "      <td>210</td>\n",
       "      <td>1.9</td>\n",
       "      <td>137</td>\n",
       "      <td>Male</td>\n",
       "      <td>False</td>\n",
       "      <td>True</td>\n",
       "    </tr>\n",
       "    <tr>\n",
       "      <th>4</th>\n",
       "      <td>65</td>\n",
       "      <td>True</td>\n",
       "      <td>160</td>\n",
       "      <td>True</td>\n",
       "      <td>20</td>\n",
       "      <td>False</td>\n",
       "      <td>327</td>\n",
       "      <td>2.7</td>\n",
       "      <td>116</td>\n",
       "      <td>Female</td>\n",
       "      <td>False</td>\n",
       "      <td>True</td>\n",
       "    </tr>\n",
       "    <tr>\n",
       "      <th>...</th>\n",
       "      <td>...</td>\n",
       "      <td>...</td>\n",
       "      <td>...</td>\n",
       "      <td>...</td>\n",
       "      <td>...</td>\n",
       "      <td>...</td>\n",
       "      <td>...</td>\n",
       "      <td>...</td>\n",
       "      <td>...</td>\n",
       "      <td>...</td>\n",
       "      <td>...</td>\n",
       "      <td>...</td>\n",
       "    </tr>\n",
       "    <tr>\n",
       "      <th>294</th>\n",
       "      <td>62</td>\n",
       "      <td>False</td>\n",
       "      <td>61</td>\n",
       "      <td>True</td>\n",
       "      <td>38</td>\n",
       "      <td>True</td>\n",
       "      <td>155</td>\n",
       "      <td>1.1</td>\n",
       "      <td>143</td>\n",
       "      <td>Male</td>\n",
       "      <td>True</td>\n",
       "      <td>False</td>\n",
       "    </tr>\n",
       "    <tr>\n",
       "      <th>295</th>\n",
       "      <td>55</td>\n",
       "      <td>False</td>\n",
       "      <td>1820</td>\n",
       "      <td>False</td>\n",
       "      <td>38</td>\n",
       "      <td>False</td>\n",
       "      <td>270</td>\n",
       "      <td>1.2</td>\n",
       "      <td>139</td>\n",
       "      <td>Female</td>\n",
       "      <td>False</td>\n",
       "      <td>False</td>\n",
       "    </tr>\n",
       "    <tr>\n",
       "      <th>296</th>\n",
       "      <td>45</td>\n",
       "      <td>False</td>\n",
       "      <td>2060</td>\n",
       "      <td>True</td>\n",
       "      <td>60</td>\n",
       "      <td>False</td>\n",
       "      <td>742</td>\n",
       "      <td>0.8</td>\n",
       "      <td>138</td>\n",
       "      <td>Female</td>\n",
       "      <td>False</td>\n",
       "      <td>False</td>\n",
       "    </tr>\n",
       "    <tr>\n",
       "      <th>297</th>\n",
       "      <td>45</td>\n",
       "      <td>False</td>\n",
       "      <td>2413</td>\n",
       "      <td>False</td>\n",
       "      <td>38</td>\n",
       "      <td>False</td>\n",
       "      <td>140</td>\n",
       "      <td>1.4</td>\n",
       "      <td>140</td>\n",
       "      <td>Male</td>\n",
       "      <td>True</td>\n",
       "      <td>False</td>\n",
       "    </tr>\n",
       "    <tr>\n",
       "      <th>298</th>\n",
       "      <td>50</td>\n",
       "      <td>False</td>\n",
       "      <td>196</td>\n",
       "      <td>False</td>\n",
       "      <td>45</td>\n",
       "      <td>False</td>\n",
       "      <td>395</td>\n",
       "      <td>1.6</td>\n",
       "      <td>136</td>\n",
       "      <td>Male</td>\n",
       "      <td>True</td>\n",
       "      <td>False</td>\n",
       "    </tr>\n",
       "  </tbody>\n",
       "</table>\n",
       "<p>299 rows × 12 columns</p>\n",
       "</div>\n",
       "      <button class=\"colab-df-convert\" onclick=\"convertToInteractive('df-93f01fef-2d87-4719-9bca-6326bef1f5e5')\"\n",
       "              title=\"Convert this dataframe to an interactive table.\"\n",
       "              style=\"display:none;\">\n",
       "        \n",
       "  <svg xmlns=\"http://www.w3.org/2000/svg\" height=\"24px\"viewBox=\"0 0 24 24\"\n",
       "       width=\"24px\">\n",
       "    <path d=\"M0 0h24v24H0V0z\" fill=\"none\"/>\n",
       "    <path d=\"M18.56 5.44l.94 2.06.94-2.06 2.06-.94-2.06-.94-.94-2.06-.94 2.06-2.06.94zm-11 1L8.5 8.5l.94-2.06 2.06-.94-2.06-.94L8.5 2.5l-.94 2.06-2.06.94zm10 10l.94 2.06.94-2.06 2.06-.94-2.06-.94-.94-2.06-.94 2.06-2.06.94z\"/><path d=\"M17.41 7.96l-1.37-1.37c-.4-.4-.92-.59-1.43-.59-.52 0-1.04.2-1.43.59L10.3 9.45l-7.72 7.72c-.78.78-.78 2.05 0 2.83L4 21.41c.39.39.9.59 1.41.59.51 0 1.02-.2 1.41-.59l7.78-7.78 2.81-2.81c.8-.78.8-2.07 0-2.86zM5.41 20L4 18.59l7.72-7.72 1.47 1.35L5.41 20z\"/>\n",
       "  </svg>\n",
       "      </button>\n",
       "      \n",
       "  <style>\n",
       "    .colab-df-container {\n",
       "      display:flex;\n",
       "      flex-wrap:wrap;\n",
       "      gap: 12px;\n",
       "    }\n",
       "\n",
       "    .colab-df-convert {\n",
       "      background-color: #E8F0FE;\n",
       "      border: none;\n",
       "      border-radius: 50%;\n",
       "      cursor: pointer;\n",
       "      display: none;\n",
       "      fill: #1967D2;\n",
       "      height: 32px;\n",
       "      padding: 0 0 0 0;\n",
       "      width: 32px;\n",
       "    }\n",
       "\n",
       "    .colab-df-convert:hover {\n",
       "      background-color: #E2EBFA;\n",
       "      box-shadow: 0px 1px 2px rgba(60, 64, 67, 0.3), 0px 1px 3px 1px rgba(60, 64, 67, 0.15);\n",
       "      fill: #174EA6;\n",
       "    }\n",
       "\n",
       "    [theme=dark] .colab-df-convert {\n",
       "      background-color: #3B4455;\n",
       "      fill: #D2E3FC;\n",
       "    }\n",
       "\n",
       "    [theme=dark] .colab-df-convert:hover {\n",
       "      background-color: #434B5C;\n",
       "      box-shadow: 0px 1px 3px 1px rgba(0, 0, 0, 0.15);\n",
       "      filter: drop-shadow(0px 1px 2px rgba(0, 0, 0, 0.3));\n",
       "      fill: #FFFFFF;\n",
       "    }\n",
       "  </style>\n",
       "\n",
       "      <script>\n",
       "        const buttonEl =\n",
       "          document.querySelector('#df-93f01fef-2d87-4719-9bca-6326bef1f5e5 button.colab-df-convert');\n",
       "        buttonEl.style.display =\n",
       "          google.colab.kernel.accessAllowed ? 'block' : 'none';\n",
       "\n",
       "        async function convertToInteractive(key) {\n",
       "          const element = document.querySelector('#df-93f01fef-2d87-4719-9bca-6326bef1f5e5');\n",
       "          const dataTable =\n",
       "            await google.colab.kernel.invokeFunction('convertToInteractive',\n",
       "                                                     [key], {});\n",
       "          if (!dataTable) return;\n",
       "\n",
       "          const docLinkHtml = 'Like what you see? Visit the ' +\n",
       "            '<a target=\"_blank\" href=https://colab.research.google.com/notebooks/data_table.ipynb>data table notebook</a>'\n",
       "            + ' to learn more about interactive tables.';\n",
       "          element.innerHTML = '';\n",
       "          dataTable['output_type'] = 'display_data';\n",
       "          await google.colab.output.renderOutput(dataTable, element);\n",
       "          const docLink = document.createElement('div');\n",
       "          docLink.innerHTML = docLinkHtml;\n",
       "          element.appendChild(docLink);\n",
       "        }\n",
       "      </script>\n",
       "    </div>\n",
       "  </div>\n",
       "  "
      ],
      "text/plain": [
       "     age  anaemia  creatinine_phosphokinase  diabetes  ejection_fraction  \\\n",
       "0     75    False                       582     False                 20   \n",
       "1     55    False                      7861     False                 38   \n",
       "2     65    False                       146     False                 20   \n",
       "3     50     True                       111     False                 20   \n",
       "4     65     True                       160      True                 20   \n",
       "..   ...      ...                       ...       ...                ...   \n",
       "294   62    False                        61      True                 38   \n",
       "295   55    False                      1820     False                 38   \n",
       "296   45    False                      2060      True                 60   \n",
       "297   45    False                      2413     False                 38   \n",
       "298   50    False                       196     False                 45   \n",
       "\n",
       "     high_blood_pressure  platelets  serum_creatinine  serum_sodium     sex  \\\n",
       "0                   True        265               1.9           130    Male   \n",
       "1                  False        263               1.1           136    Male   \n",
       "2                  False        162               1.3           129    Male   \n",
       "3                  False        210               1.9           137    Male   \n",
       "4                  False        327               2.7           116  Female   \n",
       "..                   ...        ...               ...           ...     ...   \n",
       "294                 True        155               1.1           143    Male   \n",
       "295                False        270               1.2           139  Female   \n",
       "296                False        742               0.8           138  Female   \n",
       "297                False        140               1.4           140    Male   \n",
       "298                False        395               1.6           136    Male   \n",
       "\n",
       "     smoking  patient_dead  \n",
       "0      False          True  \n",
       "1      False          True  \n",
       "2       True          True  \n",
       "3      False          True  \n",
       "4      False          True  \n",
       "..       ...           ...  \n",
       "294     True         False  \n",
       "295    False         False  \n",
       "296    False         False  \n",
       "297     True         False  \n",
       "298     True         False  \n",
       "\n",
       "[299 rows x 12 columns]"
      ]
     },
     "execution_count": 22,
     "metadata": {},
     "output_type": "execute_result"
    }
   ],
   "source": [
    "#to convert the platelet-count into kilo-platelets/mcL \n",
    "heart_failure_df.platelets = (heart_failure_df. platelets/1000).astype(int)\n",
    "heart_failure_df "
   ]
  },
  {
   "cell_type": "code",
   "execution_count": 23,
   "metadata": {
    "colab": {
     "base_uri": "https://localhost:8080/"
    },
    "executionInfo": {
     "elapsed": 681,
     "status": "ok",
     "timestamp": 1663861696304,
     "user": {
      "displayName": "Avneet Kumar",
      "userId": "08327085032726843331"
     },
     "user_tz": -330
    },
    "id": "0hL4_LjjzhPZ",
    "outputId": "983eb867-52e0-4401-8b87-1f6b0a0edfb4"
   },
   "outputs": [
    {
     "data": {
      "text/plain": [
       "age                         False\n",
       "anaemia                     False\n",
       "creatinine_phosphokinase    False\n",
       "diabetes                    False\n",
       "ejection_fraction           False\n",
       "high_blood_pressure         False\n",
       "platelets                   False\n",
       "serum_creatinine            False\n",
       "serum_sodium                False\n",
       "sex                         False\n",
       "smoking                     False\n",
       "patient_dead                False\n",
       "dtype: bool"
      ]
     },
     "execution_count": 23,
     "metadata": {},
     "output_type": "execute_result"
    }
   ],
   "source": [
    "#checking for NaN values \n",
    "heart_failure_df.isnull().any()"
   ]
  },
  {
   "cell_type": "markdown",
   "metadata": {
    "id": "H8PQsvMA4vHC"
   },
   "source": [
    "From the above result, it's clear that there's no null values present in dataframe. If there's limited number of columns, we can also check whether a column has null value or not using info() function."
   ]
  },
  {
   "cell_type": "code",
   "execution_count": 24,
   "metadata": {
    "colab": {
     "base_uri": "https://localhost:8080/"
    },
    "executionInfo": {
     "elapsed": 413,
     "status": "ok",
     "timestamp": 1663861746620,
     "user": {
      "displayName": "Avneet Kumar",
      "userId": "08327085032726843331"
     },
     "user_tz": -330
    },
    "id": "dqa7JK39zhLJ",
    "outputId": "2315b2ab-5751-4e7e-cbf5-2e73e8589199"
   },
   "outputs": [
    {
     "name": "stdout",
     "output_type": "stream",
     "text": [
      "<class 'pandas.core.frame.DataFrame'>\n",
      "RangeIndex: 299 entries, 0 to 298\n",
      "Data columns (total 12 columns):\n",
      " #   Column                    Non-Null Count  Dtype  \n",
      "---  ------                    --------------  -----  \n",
      " 0   age                       299 non-null    int64  \n",
      " 1   anaemia                   299 non-null    bool   \n",
      " 2   creatinine_phosphokinase  299 non-null    int64  \n",
      " 3   diabetes                  299 non-null    bool   \n",
      " 4   ejection_fraction         299 non-null    int64  \n",
      " 5   high_blood_pressure       299 non-null    bool   \n",
      " 6   platelets                 299 non-null    int64  \n",
      " 7   serum_creatinine          299 non-null    float64\n",
      " 8   serum_sodium              299 non-null    int64  \n",
      " 9   sex                       299 non-null    object \n",
      " 10  smoking                   299 non-null    bool   \n",
      " 11  patient_dead              299 non-null    bool   \n",
      "dtypes: bool(5), float64(1), int64(5), object(1)\n",
      "memory usage: 17.9+ KB\n"
     ]
    }
   ],
   "source": [
    "heart_failure_df.info()"
   ]
  },
  {
   "cell_type": "markdown",
   "metadata": {
    "id": "QuRjG3Zz49tA"
   },
   "source": [
    "**info()** function in pandas module is used to view some basic information of a data frame. From the above output, we can clearly see that there are 299 rows and 12 column and there's no null value. Also we can see the data types of each column in the data frame."
   ]
  },
  {
   "cell_type": "code",
   "execution_count": 25,
   "metadata": {
    "colab": {
     "base_uri": "https://localhost:8080/",
     "height": 300
    },
    "executionInfo": {
     "elapsed": 14,
     "status": "ok",
     "timestamp": 1663866946353,
     "user": {
      "displayName": "Avneet Kumar",
      "userId": "08327085032726843331"
     },
     "user_tz": -330
    },
    "id": "Yp1sfAafzhE2",
    "outputId": "a62b33a5-e3e4-44de-dfb6-325fbd7fa2a5"
   },
   "outputs": [
    {
     "data": {
      "text/html": [
       "\n",
       "  <div id=\"df-5572ce20-e015-48e6-a9e6-ba3971c16615\">\n",
       "    <div class=\"colab-df-container\">\n",
       "      <div>\n",
       "<style scoped>\n",
       "    .dataframe tbody tr th:only-of-type {\n",
       "        vertical-align: middle;\n",
       "    }\n",
       "\n",
       "    .dataframe tbody tr th {\n",
       "        vertical-align: top;\n",
       "    }\n",
       "\n",
       "    .dataframe thead th {\n",
       "        text-align: right;\n",
       "    }\n",
       "</style>\n",
       "<table border=\"1\" class=\"dataframe\">\n",
       "  <thead>\n",
       "    <tr style=\"text-align: right;\">\n",
       "      <th></th>\n",
       "      <th>age</th>\n",
       "      <th>creatinine_phosphokinase</th>\n",
       "      <th>ejection_fraction</th>\n",
       "      <th>platelets</th>\n",
       "      <th>serum_creatinine</th>\n",
       "      <th>serum_sodium</th>\n",
       "    </tr>\n",
       "  </thead>\n",
       "  <tbody>\n",
       "    <tr>\n",
       "      <th>count</th>\n",
       "      <td>299.000000</td>\n",
       "      <td>299.000000</td>\n",
       "      <td>299.000000</td>\n",
       "      <td>299.000000</td>\n",
       "      <td>299.00000</td>\n",
       "      <td>299.000000</td>\n",
       "    </tr>\n",
       "    <tr>\n",
       "      <th>mean</th>\n",
       "      <td>60.829431</td>\n",
       "      <td>581.839465</td>\n",
       "      <td>38.083612</td>\n",
       "      <td>263.327759</td>\n",
       "      <td>1.39388</td>\n",
       "      <td>136.625418</td>\n",
       "    </tr>\n",
       "    <tr>\n",
       "      <th>std</th>\n",
       "      <td>11.894997</td>\n",
       "      <td>970.287881</td>\n",
       "      <td>11.834841</td>\n",
       "      <td>97.805105</td>\n",
       "      <td>1.03451</td>\n",
       "      <td>4.412477</td>\n",
       "    </tr>\n",
       "    <tr>\n",
       "      <th>min</th>\n",
       "      <td>40.000000</td>\n",
       "      <td>23.000000</td>\n",
       "      <td>14.000000</td>\n",
       "      <td>25.000000</td>\n",
       "      <td>0.50000</td>\n",
       "      <td>113.000000</td>\n",
       "    </tr>\n",
       "    <tr>\n",
       "      <th>25%</th>\n",
       "      <td>51.000000</td>\n",
       "      <td>116.500000</td>\n",
       "      <td>30.000000</td>\n",
       "      <td>212.500000</td>\n",
       "      <td>0.90000</td>\n",
       "      <td>134.000000</td>\n",
       "    </tr>\n",
       "    <tr>\n",
       "      <th>50%</th>\n",
       "      <td>60.000000</td>\n",
       "      <td>250.000000</td>\n",
       "      <td>38.000000</td>\n",
       "      <td>262.000000</td>\n",
       "      <td>1.10000</td>\n",
       "      <td>137.000000</td>\n",
       "    </tr>\n",
       "    <tr>\n",
       "      <th>75%</th>\n",
       "      <td>70.000000</td>\n",
       "      <td>582.000000</td>\n",
       "      <td>45.000000</td>\n",
       "      <td>303.500000</td>\n",
       "      <td>1.40000</td>\n",
       "      <td>140.000000</td>\n",
       "    </tr>\n",
       "    <tr>\n",
       "      <th>max</th>\n",
       "      <td>95.000000</td>\n",
       "      <td>7861.000000</td>\n",
       "      <td>80.000000</td>\n",
       "      <td>850.000000</td>\n",
       "      <td>9.40000</td>\n",
       "      <td>148.000000</td>\n",
       "    </tr>\n",
       "  </tbody>\n",
       "</table>\n",
       "</div>\n",
       "      <button class=\"colab-df-convert\" onclick=\"convertToInteractive('df-5572ce20-e015-48e6-a9e6-ba3971c16615')\"\n",
       "              title=\"Convert this dataframe to an interactive table.\"\n",
       "              style=\"display:none;\">\n",
       "        \n",
       "  <svg xmlns=\"http://www.w3.org/2000/svg\" height=\"24px\"viewBox=\"0 0 24 24\"\n",
       "       width=\"24px\">\n",
       "    <path d=\"M0 0h24v24H0V0z\" fill=\"none\"/>\n",
       "    <path d=\"M18.56 5.44l.94 2.06.94-2.06 2.06-.94-2.06-.94-.94-2.06-.94 2.06-2.06.94zm-11 1L8.5 8.5l.94-2.06 2.06-.94-2.06-.94L8.5 2.5l-.94 2.06-2.06.94zm10 10l.94 2.06.94-2.06 2.06-.94-2.06-.94-.94-2.06-.94 2.06-2.06.94z\"/><path d=\"M17.41 7.96l-1.37-1.37c-.4-.4-.92-.59-1.43-.59-.52 0-1.04.2-1.43.59L10.3 9.45l-7.72 7.72c-.78.78-.78 2.05 0 2.83L4 21.41c.39.39.9.59 1.41.59.51 0 1.02-.2 1.41-.59l7.78-7.78 2.81-2.81c.8-.78.8-2.07 0-2.86zM5.41 20L4 18.59l7.72-7.72 1.47 1.35L5.41 20z\"/>\n",
       "  </svg>\n",
       "      </button>\n",
       "      \n",
       "  <style>\n",
       "    .colab-df-container {\n",
       "      display:flex;\n",
       "      flex-wrap:wrap;\n",
       "      gap: 12px;\n",
       "    }\n",
       "\n",
       "    .colab-df-convert {\n",
       "      background-color: #E8F0FE;\n",
       "      border: none;\n",
       "      border-radius: 50%;\n",
       "      cursor: pointer;\n",
       "      display: none;\n",
       "      fill: #1967D2;\n",
       "      height: 32px;\n",
       "      padding: 0 0 0 0;\n",
       "      width: 32px;\n",
       "    }\n",
       "\n",
       "    .colab-df-convert:hover {\n",
       "      background-color: #E2EBFA;\n",
       "      box-shadow: 0px 1px 2px rgba(60, 64, 67, 0.3), 0px 1px 3px 1px rgba(60, 64, 67, 0.15);\n",
       "      fill: #174EA6;\n",
       "    }\n",
       "\n",
       "    [theme=dark] .colab-df-convert {\n",
       "      background-color: #3B4455;\n",
       "      fill: #D2E3FC;\n",
       "    }\n",
       "\n",
       "    [theme=dark] .colab-df-convert:hover {\n",
       "      background-color: #434B5C;\n",
       "      box-shadow: 0px 1px 3px 1px rgba(0, 0, 0, 0.15);\n",
       "      filter: drop-shadow(0px 1px 2px rgba(0, 0, 0, 0.3));\n",
       "      fill: #FFFFFF;\n",
       "    }\n",
       "  </style>\n",
       "\n",
       "      <script>\n",
       "        const buttonEl =\n",
       "          document.querySelector('#df-5572ce20-e015-48e6-a9e6-ba3971c16615 button.colab-df-convert');\n",
       "        buttonEl.style.display =\n",
       "          google.colab.kernel.accessAllowed ? 'block' : 'none';\n",
       "\n",
       "        async function convertToInteractive(key) {\n",
       "          const element = document.querySelector('#df-5572ce20-e015-48e6-a9e6-ba3971c16615');\n",
       "          const dataTable =\n",
       "            await google.colab.kernel.invokeFunction('convertToInteractive',\n",
       "                                                     [key], {});\n",
       "          if (!dataTable) return;\n",
       "\n",
       "          const docLinkHtml = 'Like what you see? Visit the ' +\n",
       "            '<a target=\"_blank\" href=https://colab.research.google.com/notebooks/data_table.ipynb>data table notebook</a>'\n",
       "            + ' to learn more about interactive tables.';\n",
       "          element.innerHTML = '';\n",
       "          dataTable['output_type'] = 'display_data';\n",
       "          await google.colab.output.renderOutput(dataTable, element);\n",
       "          const docLink = document.createElement('div');\n",
       "          docLink.innerHTML = docLinkHtml;\n",
       "          element.appendChild(docLink);\n",
       "        }\n",
       "      </script>\n",
       "    </div>\n",
       "  </div>\n",
       "  "
      ],
      "text/plain": [
       "              age  creatinine_phosphokinase  ejection_fraction   platelets  \\\n",
       "count  299.000000                299.000000         299.000000  299.000000   \n",
       "mean    60.829431                581.839465          38.083612  263.327759   \n",
       "std     11.894997                970.287881          11.834841   97.805105   \n",
       "min     40.000000                 23.000000          14.000000   25.000000   \n",
       "25%     51.000000                116.500000          30.000000  212.500000   \n",
       "50%     60.000000                250.000000          38.000000  262.000000   \n",
       "75%     70.000000                582.000000          45.000000  303.500000   \n",
       "max     95.000000               7861.000000          80.000000  850.000000   \n",
       "\n",
       "       serum_creatinine  serum_sodium  \n",
       "count         299.00000    299.000000  \n",
       "mean            1.39388    136.625418  \n",
       "std             1.03451      4.412477  \n",
       "min             0.50000    113.000000  \n",
       "25%             0.90000    134.000000  \n",
       "50%             1.10000    137.000000  \n",
       "75%             1.40000    140.000000  \n",
       "max             9.40000    148.000000  "
      ]
     },
     "execution_count": 25,
     "metadata": {},
     "output_type": "execute_result"
    }
   ],
   "source": [
    "heart_failure_df.describe()"
   ]
  },
  {
   "cell_type": "markdown",
   "metadata": {
    "id": "8R1JLySONJJO"
   },
   "source": [
    "**Describe()** function is used to find some basic statistical information regarding a data frame in pandas. It's normal that, the max age of patient recorded is 95 years and min age is 40 years. All other numeric value records found okay, but the maximum value of Creatinine Phosphokinase (CPK) measured is 7861, that's too high for a normal person. The maximum value of \tcreatinine phosphokinase found in a heart failure patient was around 600 micrograms per liter."
   ]
  },
  {
   "cell_type": "code",
   "execution_count": 27,
   "metadata": {
    "colab": {
     "base_uri": "https://localhost:8080/"
    },
    "executionInfo": {
     "elapsed": 378,
     "status": "ok",
     "timestamp": 1663867088797,
     "user": {
      "displayName": "Avneet Kumar",
      "userId": "08327085032726843331"
     },
     "user_tz": -330
    },
    "id": "77XGgpkE47nj",
    "outputId": "0cadd95e-b9b4-4c09-a42f-eaa3a56df09c"
   },
   "outputs": [
    {
     "name": "stdout",
     "output_type": "stream",
     "text": [
      "<class 'pandas.core.frame.DataFrame'>\n",
      "Int64Index: 36 entries, 1 to 297\n",
      "Data columns (total 12 columns):\n",
      " #   Column                    Non-Null Count  Dtype  \n",
      "---  ------                    --------------  -----  \n",
      " 0   age                       36 non-null     int64  \n",
      " 1   anaemia                   36 non-null     bool   \n",
      " 2   creatinine_phosphokinase  36 non-null     int64  \n",
      " 3   diabetes                  36 non-null     bool   \n",
      " 4   ejection_fraction         36 non-null     int64  \n",
      " 5   high_blood_pressure       36 non-null     bool   \n",
      " 6   platelets                 36 non-null     int64  \n",
      " 7   serum_creatinine          36 non-null     float64\n",
      " 8   serum_sodium              36 non-null     int64  \n",
      " 9   sex                       36 non-null     object \n",
      " 10  smoking                   36 non-null     bool   \n",
      " 11  patient_dead              36 non-null     bool   \n",
      "dtypes: bool(5), float64(1), int64(5), object(1)\n",
      "memory usage: 2.4+ KB\n"
     ]
    }
   ],
   "source": [
    "heart_failure_df[heart_failure_df.creatinine_phosphokinase > 1000].info()"
   ]
  },
  {
   "cell_type": "markdown",
   "metadata": {
    "id": "MUtHQjPyM4KA"
   },
   "source": [
    "The normal value of creatinine phosphokinase (CPK) ranges from 10 to 120 micrograms per liter, but around 36 patients has CPK level more than 1000 micrograms per liter in our observation. Since, we are not sure about the source of error or that the recorded data is correct or not. This error and huge difference in value might be due to the different measurement units. So let's drop that column and not include in our analysis."
   ]
  },
  {
   "cell_type": "code",
   "execution_count": 28,
   "metadata": {
    "executionInfo": {
     "elapsed": 409,
     "status": "ok",
     "timestamp": 1663867298589,
     "user": {
      "displayName": "Avneet Kumar",
      "userId": "08327085032726843331"
     },
     "user_tz": -330
    },
    "id": "OonXfJfH47jm"
   },
   "outputs": [],
   "source": [
    "#drop creatinine_phosphokinase column\n",
    "heart_failure_df.drop('creatinine_phosphokinase', inplace = True, axis = 1, errors ='ignore')"
   ]
  },
  {
   "cell_type": "markdown",
   "metadata": {
    "id": "DPFmEhe2OGaF"
   },
   "source": [
    "Let's check the column names of our data frame using columns() function in pandas."
   ]
  },
  {
   "cell_type": "code",
   "execution_count": 29,
   "metadata": {
    "colab": {
     "base_uri": "https://localhost:8080/"
    },
    "executionInfo": {
     "elapsed": 406,
     "status": "ok",
     "timestamp": 1663867333485,
     "user": {
      "displayName": "Avneet Kumar",
      "userId": "08327085032726843331"
     },
     "user_tz": -330
    },
    "id": "UGptJXfl47h3",
    "outputId": "f4c81ab1-697e-4ee2-864d-f433ff953397"
   },
   "outputs": [
    {
     "data": {
      "text/plain": [
       "Index(['age', 'anaemia', 'diabetes', 'ejection_fraction',\n",
       "       'high_blood_pressure', 'platelets', 'serum_creatinine', 'serum_sodium',\n",
       "       'sex', 'smoking', 'patient_dead'],\n",
       "      dtype='object')"
      ]
     },
     "execution_count": 29,
     "metadata": {},
     "output_type": "execute_result"
    }
   ],
   "source": [
    "#to display column names\n",
    "heart_failure_df.columns "
   ]
  },
  {
   "cell_type": "markdown",
   "metadata": {
    "id": "cHnJ0sPOOOos"
   },
   "source": [
    "There are 11 column in our data frame, where each column represents the attribute of the 299 heart failure patients.\n",
    "\n",
    "Column names (attributes) of the data frame doesn't provide complete information regarding the data recorded, so we have to refer to the another table or any website for reference to see the complete information regarding the attributes (column names) like explanation and measurement units. Also we have to add normal level value for the attributes, for the required column values.\n",
    "\n",
    "Pandas library in python provides various useful functions to read various file formats, here we'll use read_html function to read a table from the source website. Kindly check the reference links at the bottom of this page."
   ]
  },
  {
   "cell_type": "code",
   "execution_count": 30,
   "metadata": {
    "executionInfo": {
     "elapsed": 1106,
     "status": "ok",
     "timestamp": 1663867499064,
     "user": {
      "displayName": "Avneet Kumar",
      "userId": "08327085032726843331"
     },
     "user_tz": -330
    },
    "id": "s-WIGEXAOsB3"
   },
   "outputs": [],
   "source": [
    "#to save the html table as pandas data frame \n",
    "column_details_df = pd.read_html(\"https://bmcmedinformdecismak.biomedcentral.com/articles/10.1186/s12911-020-1023-5/tables/1 \")[0]"
   ]
  },
  {
   "cell_type": "code",
   "execution_count": 31,
   "metadata": {
    "executionInfo": {
     "elapsed": 3,
     "status": "ok",
     "timestamp": 1663867499709,
     "user": {
      "displayName": "Avneet Kumar",
      "userId": "08327085032726843331"
     },
     "user_tz": -330
    },
    "id": "UlTpu7wtOtJe"
   },
   "outputs": [],
   "source": [
    "#to drop the unnecessary column\n",
    "column_details_df.drop('Range', axis =1,inplace = True, errors='ignore' )"
   ]
  },
  {
   "cell_type": "code",
   "execution_count": 32,
   "metadata": {
    "executionInfo": {
     "elapsed": 23,
     "status": "ok",
     "timestamp": 1663867500784,
     "user": {
      "displayName": "Avneet Kumar",
      "userId": "08327085032726843331"
     },
     "user_tz": -330
    },
    "id": "JURnkC38OwSJ"
   },
   "outputs": [],
   "source": [
    "#to drop the unnecessary rows\n",
    "column_details_df.drop([3,4,7,13], axis = 0, inplace =True, errors ='ignore')"
   ]
  },
  {
   "cell_type": "code",
   "execution_count": 33,
   "metadata": {
    "colab": {
     "base_uri": "https://localhost:8080/",
     "height": 394
    },
    "executionInfo": {
     "elapsed": 694,
     "status": "ok",
     "timestamp": 1663867501943,
     "user": {
      "displayName": "Avneet Kumar",
      "userId": "08327085032726843331"
     },
     "user_tz": -330
    },
    "id": "Rxgm3KYL47fl",
    "outputId": "ff2d37ec-91c9-4d0d-f105-0a0dca0db74d"
   },
   "outputs": [
    {
     "data": {
      "text/html": [
       "\n",
       "  <div id=\"df-9d528335-7a72-43a7-a69e-37643e527f83\">\n",
       "    <div class=\"colab-df-container\">\n",
       "      <div>\n",
       "<style scoped>\n",
       "    .dataframe tbody tr th:only-of-type {\n",
       "        vertical-align: middle;\n",
       "    }\n",
       "\n",
       "    .dataframe tbody tr th {\n",
       "        vertical-align: top;\n",
       "    }\n",
       "\n",
       "    .dataframe thead th {\n",
       "        text-align: right;\n",
       "    }\n",
       "</style>\n",
       "<table border=\"1\" class=\"dataframe\">\n",
       "  <thead>\n",
       "    <tr style=\"text-align: right;\">\n",
       "      <th></th>\n",
       "      <th>feature</th>\n",
       "      <th>explanation</th>\n",
       "      <th>measurement_unit</th>\n",
       "    </tr>\n",
       "  </thead>\n",
       "  <tbody>\n",
       "    <tr>\n",
       "      <th>0</th>\n",
       "      <td>Age</td>\n",
       "      <td>Age of the patient</td>\n",
       "      <td>Years</td>\n",
       "    </tr>\n",
       "    <tr>\n",
       "      <th>1</th>\n",
       "      <td>Anaemia</td>\n",
       "      <td>Decrease of red blood cells or hemoglobin</td>\n",
       "      <td>Boolean</td>\n",
       "    </tr>\n",
       "    <tr>\n",
       "      <th>2</th>\n",
       "      <td>High blood pressure</td>\n",
       "      <td>If a patient has hypertension</td>\n",
       "      <td>Boolean</td>\n",
       "    </tr>\n",
       "    <tr>\n",
       "      <th>5</th>\n",
       "      <td>Diabetes</td>\n",
       "      <td>If the patient has diabetes</td>\n",
       "      <td>Boolean</td>\n",
       "    </tr>\n",
       "    <tr>\n",
       "      <th>6</th>\n",
       "      <td>Ejection fraction</td>\n",
       "      <td>Percentage of blood leaving</td>\n",
       "      <td>Percentage</td>\n",
       "    </tr>\n",
       "    <tr>\n",
       "      <th>8</th>\n",
       "      <td>Sex</td>\n",
       "      <td>Woman or man</td>\n",
       "      <td>Binary</td>\n",
       "    </tr>\n",
       "    <tr>\n",
       "      <th>9</th>\n",
       "      <td>Platelets</td>\n",
       "      <td>Platelets in the blood</td>\n",
       "      <td>kiloplatelets/mL</td>\n",
       "    </tr>\n",
       "    <tr>\n",
       "      <th>10</th>\n",
       "      <td>Serum creatinine</td>\n",
       "      <td>Level of creatinine in the blood</td>\n",
       "      <td>mg/dL</td>\n",
       "    </tr>\n",
       "    <tr>\n",
       "      <th>11</th>\n",
       "      <td>Serum sodium</td>\n",
       "      <td>Level of sodium in the blood</td>\n",
       "      <td>mEq/L</td>\n",
       "    </tr>\n",
       "    <tr>\n",
       "      <th>12</th>\n",
       "      <td>Smoking</td>\n",
       "      <td>If the patient smokes</td>\n",
       "      <td>Boolean</td>\n",
       "    </tr>\n",
       "    <tr>\n",
       "      <th>14</th>\n",
       "      <td>(target) death event</td>\n",
       "      <td>If the patient died during the follow-up period</td>\n",
       "      <td>Boolean</td>\n",
       "    </tr>\n",
       "  </tbody>\n",
       "</table>\n",
       "</div>\n",
       "      <button class=\"colab-df-convert\" onclick=\"convertToInteractive('df-9d528335-7a72-43a7-a69e-37643e527f83')\"\n",
       "              title=\"Convert this dataframe to an interactive table.\"\n",
       "              style=\"display:none;\">\n",
       "        \n",
       "  <svg xmlns=\"http://www.w3.org/2000/svg\" height=\"24px\"viewBox=\"0 0 24 24\"\n",
       "       width=\"24px\">\n",
       "    <path d=\"M0 0h24v24H0V0z\" fill=\"none\"/>\n",
       "    <path d=\"M18.56 5.44l.94 2.06.94-2.06 2.06-.94-2.06-.94-.94-2.06-.94 2.06-2.06.94zm-11 1L8.5 8.5l.94-2.06 2.06-.94-2.06-.94L8.5 2.5l-.94 2.06-2.06.94zm10 10l.94 2.06.94-2.06 2.06-.94-2.06-.94-.94-2.06-.94 2.06-2.06.94z\"/><path d=\"M17.41 7.96l-1.37-1.37c-.4-.4-.92-.59-1.43-.59-.52 0-1.04.2-1.43.59L10.3 9.45l-7.72 7.72c-.78.78-.78 2.05 0 2.83L4 21.41c.39.39.9.59 1.41.59.51 0 1.02-.2 1.41-.59l7.78-7.78 2.81-2.81c.8-.78.8-2.07 0-2.86zM5.41 20L4 18.59l7.72-7.72 1.47 1.35L5.41 20z\"/>\n",
       "  </svg>\n",
       "      </button>\n",
       "      \n",
       "  <style>\n",
       "    .colab-df-container {\n",
       "      display:flex;\n",
       "      flex-wrap:wrap;\n",
       "      gap: 12px;\n",
       "    }\n",
       "\n",
       "    .colab-df-convert {\n",
       "      background-color: #E8F0FE;\n",
       "      border: none;\n",
       "      border-radius: 50%;\n",
       "      cursor: pointer;\n",
       "      display: none;\n",
       "      fill: #1967D2;\n",
       "      height: 32px;\n",
       "      padding: 0 0 0 0;\n",
       "      width: 32px;\n",
       "    }\n",
       "\n",
       "    .colab-df-convert:hover {\n",
       "      background-color: #E2EBFA;\n",
       "      box-shadow: 0px 1px 2px rgba(60, 64, 67, 0.3), 0px 1px 3px 1px rgba(60, 64, 67, 0.15);\n",
       "      fill: #174EA6;\n",
       "    }\n",
       "\n",
       "    [theme=dark] .colab-df-convert {\n",
       "      background-color: #3B4455;\n",
       "      fill: #D2E3FC;\n",
       "    }\n",
       "\n",
       "    [theme=dark] .colab-df-convert:hover {\n",
       "      background-color: #434B5C;\n",
       "      box-shadow: 0px 1px 3px 1px rgba(0, 0, 0, 0.15);\n",
       "      filter: drop-shadow(0px 1px 2px rgba(0, 0, 0, 0.3));\n",
       "      fill: #FFFFFF;\n",
       "    }\n",
       "  </style>\n",
       "\n",
       "      <script>\n",
       "        const buttonEl =\n",
       "          document.querySelector('#df-9d528335-7a72-43a7-a69e-37643e527f83 button.colab-df-convert');\n",
       "        buttonEl.style.display =\n",
       "          google.colab.kernel.accessAllowed ? 'block' : 'none';\n",
       "\n",
       "        async function convertToInteractive(key) {\n",
       "          const element = document.querySelector('#df-9d528335-7a72-43a7-a69e-37643e527f83');\n",
       "          const dataTable =\n",
       "            await google.colab.kernel.invokeFunction('convertToInteractive',\n",
       "                                                     [key], {});\n",
       "          if (!dataTable) return;\n",
       "\n",
       "          const docLinkHtml = 'Like what you see? Visit the ' +\n",
       "            '<a target=\"_blank\" href=https://colab.research.google.com/notebooks/data_table.ipynb>data table notebook</a>'\n",
       "            + ' to learn more about interactive tables.';\n",
       "          element.innerHTML = '';\n",
       "          dataTable['output_type'] = 'display_data';\n",
       "          await google.colab.output.renderOutput(dataTable, element);\n",
       "          const docLink = document.createElement('div');\n",
       "          docLink.innerHTML = docLinkHtml;\n",
       "          element.appendChild(docLink);\n",
       "        }\n",
       "      </script>\n",
       "    </div>\n",
       "  </div>\n",
       "  "
      ],
      "text/plain": [
       "                 feature                                      explanation  \\\n",
       "0                    Age                               Age of the patient   \n",
       "1                Anaemia        Decrease of red blood cells or hemoglobin   \n",
       "2    High blood pressure                    If a patient has hypertension   \n",
       "5               Diabetes                      If the patient has diabetes   \n",
       "6      Ejection fraction                      Percentage of blood leaving   \n",
       "8                    Sex                                     Woman or man   \n",
       "9              Platelets                           Platelets in the blood   \n",
       "10      Serum creatinine                 Level of creatinine in the blood   \n",
       "11          Serum sodium                     Level of sodium in the blood   \n",
       "12               Smoking                            If the patient smokes   \n",
       "14  (target) death event  If the patient died during the follow-up period   \n",
       "\n",
       "    measurement_unit  \n",
       "0              Years  \n",
       "1            Boolean  \n",
       "2            Boolean  \n",
       "5            Boolean  \n",
       "6         Percentage  \n",
       "8             Binary  \n",
       "9   kiloplatelets/mL  \n",
       "10             mg/dL  \n",
       "11             mEq/L  \n",
       "12           Boolean  \n",
       "14           Boolean  "
      ]
     },
     "execution_count": 33,
     "metadata": {},
     "output_type": "execute_result"
    }
   ],
   "source": [
    "#to rename the column names\n",
    "column_details_df.columns = ['feature', 'explanation', 'measurement_unit']\n",
    "column_details_df "
   ]
  },
  {
   "cell_type": "code",
   "execution_count": 34,
   "metadata": {
    "executionInfo": {
     "elapsed": 516,
     "status": "ok",
     "timestamp": 1663867566874,
     "user": {
      "displayName": "Avneet Kumar",
      "userId": "08327085032726843331"
     },
     "user_tz": -330
    },
    "id": "_nW1Tdcb47di"
   },
   "outputs": [],
   "source": [
    "#to rearrange and rename the rows to match the heart_failure_df \n",
    "column_details_df = column_details_df.reindex([0,1,5,6,2,9,10,11,8,12,14])\n",
    "column_details_df.feature = heart_failure_df.columns"
   ]
  },
  {
   "cell_type": "code",
   "execution_count": 35,
   "metadata": {
    "executionInfo": {
     "elapsed": 418,
     "status": "ok",
     "timestamp": 1663867587431,
     "user": {
      "displayName": "Avneet Kumar",
      "userId": "08327085032726843331"
     },
     "user_tz": -330
    },
    "id": "PQls9bvc47Zb"
   },
   "outputs": [],
   "source": [
    "#to set the feature column as index for our convenience \n",
    "column_details_df.set_index(['feature'], inplace =True)"
   ]
  },
  {
   "cell_type": "markdown",
   "metadata": {
    "id": "J44FwDijPKmj"
   },
   "source": [
    "Let's correct the data in explanation and measurement unit column and another column mentioning the normal value for the attributes."
   ]
  },
  {
   "cell_type": "code",
   "execution_count": 36,
   "metadata": {
    "executionInfo": {
     "elapsed": 415,
     "status": "ok",
     "timestamp": 1663867715504,
     "user": {
      "displayName": "Avneet Kumar",
      "userId": "08327085032726843331"
     },
     "user_tz": -330
    },
    "id": "TGw2S9G947X4"
   },
   "outputs": [],
   "source": [
    "#to change the details in explanation column \n",
    "column_details_df['explanation']['anaemia', 'diabetes', 'ejection_fraction', \n",
    "                                 'high_blood_pressure', 'platelets', 'sex', \n",
    "                                 'smoking', 'patient_dead'] = ['True, if the patient has Anaemia',\n",
    "                                                               'True, if the patient has Diabetes', \n",
    "                                                                '% of blood leaving the heart at each contraction', \n",
    "                                                                'True, if the patient has High blood pressure', \n",
    "                                                                'Amount of platelets in the blood', \n",
    "                                                                'Male or Female',\n",
    "                                                                'True, if the patient smokes', \n",
    "                                                                'True, if the patient died during the follow-up period'] "
   ]
  },
  {
   "cell_type": "code",
   "execution_count": 37,
   "metadata": {
    "executionInfo": {
     "elapsed": 415,
     "status": "ok",
     "timestamp": 1663867775529,
     "user": {
      "displayName": "Avneet Kumar",
      "userId": "08327085032726843331"
     },
     "user_tz": -330
    },
    "id": "qklzo1sV47UY"
   },
   "outputs": [],
   "source": [
    "#to change the details in measurement unit column \n",
    "column_details_df.measurement_unit['sex', 'platelets','serum_creatinine',\n",
    "                                   'serum_sodium'] = ['Boolean',\n",
    "                                                      'kilo-platelets / mcL (microliter)', \n",
    "                                                      'mg/dL (milligrams per deciliter)', \n",
    "                                                      'mEq/L (milliequivalents per litre)'\n",
    "                                                         ] "
   ]
  },
  {
   "cell_type": "code",
   "execution_count": 38,
   "metadata": {
    "colab": {
     "base_uri": "https://localhost:8080/",
     "height": 426
    },
    "executionInfo": {
     "elapsed": 456,
     "status": "ok",
     "timestamp": 1663867795935,
     "user": {
      "displayName": "Avneet Kumar",
      "userId": "08327085032726843331"
     },
     "user_tz": -330
    },
    "id": "BkXYlz7A47S7",
    "outputId": "a67c4be1-4791-4a30-da22-bb8f3718e1c4"
   },
   "outputs": [
    {
     "data": {
      "text/html": [
       "\n",
       "  <div id=\"df-c6f07a9a-ab71-4136-a0ed-19d2588a2d2a\">\n",
       "    <div class=\"colab-df-container\">\n",
       "      <div>\n",
       "<style scoped>\n",
       "    .dataframe tbody tr th:only-of-type {\n",
       "        vertical-align: middle;\n",
       "    }\n",
       "\n",
       "    .dataframe tbody tr th {\n",
       "        vertical-align: top;\n",
       "    }\n",
       "\n",
       "    .dataframe thead th {\n",
       "        text-align: right;\n",
       "    }\n",
       "</style>\n",
       "<table border=\"1\" class=\"dataframe\">\n",
       "  <thead>\n",
       "    <tr style=\"text-align: right;\">\n",
       "      <th></th>\n",
       "      <th>explanation</th>\n",
       "      <th>measurement_unit</th>\n",
       "      <th>normal_value</th>\n",
       "    </tr>\n",
       "    <tr>\n",
       "      <th>feature</th>\n",
       "      <th></th>\n",
       "      <th></th>\n",
       "      <th></th>\n",
       "    </tr>\n",
       "  </thead>\n",
       "  <tbody>\n",
       "    <tr>\n",
       "      <th>age</th>\n",
       "      <td>Age of the patient</td>\n",
       "      <td>Years</td>\n",
       "      <td>None</td>\n",
       "    </tr>\n",
       "    <tr>\n",
       "      <th>anaemia</th>\n",
       "      <td>True, if the patient has Anaemia</td>\n",
       "      <td>Boolean</td>\n",
       "      <td>None</td>\n",
       "    </tr>\n",
       "    <tr>\n",
       "      <th>diabetes</th>\n",
       "      <td>True, if the patient has Diabetes</td>\n",
       "      <td>Boolean</td>\n",
       "      <td>None</td>\n",
       "    </tr>\n",
       "    <tr>\n",
       "      <th>ejection_fraction</th>\n",
       "      <td>% of blood leaving the heart at each contraction</td>\n",
       "      <td>Percentage</td>\n",
       "      <td>55% - 70%</td>\n",
       "    </tr>\n",
       "    <tr>\n",
       "      <th>high_blood_pressure</th>\n",
       "      <td>True, if the patient has High blood pressure</td>\n",
       "      <td>Boolean</td>\n",
       "      <td>None</td>\n",
       "    </tr>\n",
       "    <tr>\n",
       "      <th>platelets</th>\n",
       "      <td>Amount of platelets in the blood</td>\n",
       "      <td>kilo-platelets / mcL (microliter)</td>\n",
       "      <td>150 - 400 kilo-platelets / mcL</td>\n",
       "    </tr>\n",
       "    <tr>\n",
       "      <th>serum_creatinine</th>\n",
       "      <td>Level of creatinine in the blood</td>\n",
       "      <td>mg/dL (milligrams per deciliter)</td>\n",
       "      <td>0.6 - 1.2 mg/dL</td>\n",
       "    </tr>\n",
       "    <tr>\n",
       "      <th>serum_sodium</th>\n",
       "      <td>Level of sodium in the blood</td>\n",
       "      <td>mEq/L (milliequivalents per litre)</td>\n",
       "      <td>135 - 145 mEq /L</td>\n",
       "    </tr>\n",
       "    <tr>\n",
       "      <th>sex</th>\n",
       "      <td>Male or Female</td>\n",
       "      <td>Boolean</td>\n",
       "      <td>None</td>\n",
       "    </tr>\n",
       "    <tr>\n",
       "      <th>smoking</th>\n",
       "      <td>True, if the patient smokes</td>\n",
       "      <td>Boolean</td>\n",
       "      <td>None</td>\n",
       "    </tr>\n",
       "    <tr>\n",
       "      <th>patient_dead</th>\n",
       "      <td>True, if the patient died during the follow-up...</td>\n",
       "      <td>Boolean</td>\n",
       "      <td>None</td>\n",
       "    </tr>\n",
       "  </tbody>\n",
       "</table>\n",
       "</div>\n",
       "      <button class=\"colab-df-convert\" onclick=\"convertToInteractive('df-c6f07a9a-ab71-4136-a0ed-19d2588a2d2a')\"\n",
       "              title=\"Convert this dataframe to an interactive table.\"\n",
       "              style=\"display:none;\">\n",
       "        \n",
       "  <svg xmlns=\"http://www.w3.org/2000/svg\" height=\"24px\"viewBox=\"0 0 24 24\"\n",
       "       width=\"24px\">\n",
       "    <path d=\"M0 0h24v24H0V0z\" fill=\"none\"/>\n",
       "    <path d=\"M18.56 5.44l.94 2.06.94-2.06 2.06-.94-2.06-.94-.94-2.06-.94 2.06-2.06.94zm-11 1L8.5 8.5l.94-2.06 2.06-.94-2.06-.94L8.5 2.5l-.94 2.06-2.06.94zm10 10l.94 2.06.94-2.06 2.06-.94-2.06-.94-.94-2.06-.94 2.06-2.06.94z\"/><path d=\"M17.41 7.96l-1.37-1.37c-.4-.4-.92-.59-1.43-.59-.52 0-1.04.2-1.43.59L10.3 9.45l-7.72 7.72c-.78.78-.78 2.05 0 2.83L4 21.41c.39.39.9.59 1.41.59.51 0 1.02-.2 1.41-.59l7.78-7.78 2.81-2.81c.8-.78.8-2.07 0-2.86zM5.41 20L4 18.59l7.72-7.72 1.47 1.35L5.41 20z\"/>\n",
       "  </svg>\n",
       "      </button>\n",
       "      \n",
       "  <style>\n",
       "    .colab-df-container {\n",
       "      display:flex;\n",
       "      flex-wrap:wrap;\n",
       "      gap: 12px;\n",
       "    }\n",
       "\n",
       "    .colab-df-convert {\n",
       "      background-color: #E8F0FE;\n",
       "      border: none;\n",
       "      border-radius: 50%;\n",
       "      cursor: pointer;\n",
       "      display: none;\n",
       "      fill: #1967D2;\n",
       "      height: 32px;\n",
       "      padding: 0 0 0 0;\n",
       "      width: 32px;\n",
       "    }\n",
       "\n",
       "    .colab-df-convert:hover {\n",
       "      background-color: #E2EBFA;\n",
       "      box-shadow: 0px 1px 2px rgba(60, 64, 67, 0.3), 0px 1px 3px 1px rgba(60, 64, 67, 0.15);\n",
       "      fill: #174EA6;\n",
       "    }\n",
       "\n",
       "    [theme=dark] .colab-df-convert {\n",
       "      background-color: #3B4455;\n",
       "      fill: #D2E3FC;\n",
       "    }\n",
       "\n",
       "    [theme=dark] .colab-df-convert:hover {\n",
       "      background-color: #434B5C;\n",
       "      box-shadow: 0px 1px 3px 1px rgba(0, 0, 0, 0.15);\n",
       "      filter: drop-shadow(0px 1px 2px rgba(0, 0, 0, 0.3));\n",
       "      fill: #FFFFFF;\n",
       "    }\n",
       "  </style>\n",
       "\n",
       "      <script>\n",
       "        const buttonEl =\n",
       "          document.querySelector('#df-c6f07a9a-ab71-4136-a0ed-19d2588a2d2a button.colab-df-convert');\n",
       "        buttonEl.style.display =\n",
       "          google.colab.kernel.accessAllowed ? 'block' : 'none';\n",
       "\n",
       "        async function convertToInteractive(key) {\n",
       "          const element = document.querySelector('#df-c6f07a9a-ab71-4136-a0ed-19d2588a2d2a');\n",
       "          const dataTable =\n",
       "            await google.colab.kernel.invokeFunction('convertToInteractive',\n",
       "                                                     [key], {});\n",
       "          if (!dataTable) return;\n",
       "\n",
       "          const docLinkHtml = 'Like what you see? Visit the ' +\n",
       "            '<a target=\"_blank\" href=https://colab.research.google.com/notebooks/data_table.ipynb>data table notebook</a>'\n",
       "            + ' to learn more about interactive tables.';\n",
       "          element.innerHTML = '';\n",
       "          dataTable['output_type'] = 'display_data';\n",
       "          await google.colab.output.renderOutput(dataTable, element);\n",
       "          const docLink = document.createElement('div');\n",
       "          docLink.innerHTML = docLinkHtml;\n",
       "          element.appendChild(docLink);\n",
       "        }\n",
       "      </script>\n",
       "    </div>\n",
       "  </div>\n",
       "  "
      ],
      "text/plain": [
       "                                                           explanation  \\\n",
       "feature                                                                  \n",
       "age                                                 Age of the patient   \n",
       "anaemia                               True, if the patient has Anaemia   \n",
       "diabetes                             True, if the patient has Diabetes   \n",
       "ejection_fraction     % of blood leaving the heart at each contraction   \n",
       "high_blood_pressure       True, if the patient has High blood pressure   \n",
       "platelets                             Amount of platelets in the blood   \n",
       "serum_creatinine                      Level of creatinine in the blood   \n",
       "serum_sodium                              Level of sodium in the blood   \n",
       "sex                                                     Male or Female   \n",
       "smoking                                    True, if the patient smokes   \n",
       "patient_dead         True, if the patient died during the follow-up...   \n",
       "\n",
       "                                       measurement_unit  \\\n",
       "feature                                                   \n",
       "age                                               Years   \n",
       "anaemia                                         Boolean   \n",
       "diabetes                                        Boolean   \n",
       "ejection_fraction                            Percentage   \n",
       "high_blood_pressure                             Boolean   \n",
       "platelets             kilo-platelets / mcL (microliter)   \n",
       "serum_creatinine       mg/dL (milligrams per deciliter)   \n",
       "serum_sodium         mEq/L (milliequivalents per litre)   \n",
       "sex                                             Boolean   \n",
       "smoking                                         Boolean   \n",
       "patient_dead                                    Boolean   \n",
       "\n",
       "                                       normal_value  \n",
       "feature                                              \n",
       "age                                            None  \n",
       "anaemia                                        None  \n",
       "diabetes                                       None  \n",
       "ejection_fraction                         55% - 70%  \n",
       "high_blood_pressure                            None  \n",
       "platelets            150 - 400 kilo-platelets / mcL  \n",
       "serum_creatinine                    0.6 - 1.2 mg/dL  \n",
       "serum_sodium                       135 - 145 mEq /L  \n",
       "sex                                            None  \n",
       "smoking                                        None  \n",
       "patient_dead                                   None  "
      ]
     },
     "execution_count": 38,
     "metadata": {},
     "output_type": "execute_result"
    }
   ],
   "source": [
    "#let's add another column to mention normal values of the attributes \n",
    "column_details_df[\"normal_value\"] = ['None', \n",
    "                                     'None', \n",
    "                                     'None',\n",
    "                                     '55% - 70%',\n",
    "                                     'None', \n",
    "                                     '150 - 400 kilo-platelets / mcL', \n",
    "                                     '0.6 - 1.2 mg/dL', \n",
    "                                     '135 - 145 mEq /L', \n",
    "                                     'None', 'None', 'None'\n",
    "                                    ] \n",
    "column_details_df"
   ]
  },
  {
   "cell_type": "markdown",
   "metadata": {
    "id": "3Rbms5J3QHrD"
   },
   "source": [
    "The normal values of the ejection fraction, creatinine level, sodium level and platelets count was taken from various resources, please check the reference links at the bottom. And these values varies based on patients age, body and gender etc.,but we took the most suitable approximate value to simplify our analysis. Please be aware that there might be small changes in our analysis when compared to the real world."
   ]
  },
  {
   "cell_type": "markdown",
   "metadata": {
    "id": "Dcd7Ce75QLdX"
   },
   "source": [
    "### Datasets - Cleaned & Prepared\n",
    "Now, our both the datasets heart_failure_df and column_details_df are ready for our analysis. Let's check some basic information regarding our cleaned datasets before proceeding for visualisation methods."
   ]
  },
  {
   "cell_type": "code",
   "execution_count": 39,
   "metadata": {
    "colab": {
     "base_uri": "https://localhost:8080/"
    },
    "executionInfo": {
     "elapsed": 421,
     "status": "ok",
     "timestamp": 1663867895994,
     "user": {
      "displayName": "Avneet Kumar",
      "userId": "08327085032726843331"
     },
     "user_tz": -330
    },
    "id": "znicKC_k47Pf",
    "outputId": "5a8ddbd1-f43e-45de-9e77-d5b619dcde22"
   },
   "outputs": [
    {
     "name": "stdout",
     "output_type": "stream",
     "text": [
      "<class 'pandas.core.frame.DataFrame'>\n",
      "Index: 11 entries, age to patient_dead\n",
      "Data columns (total 3 columns):\n",
      " #   Column            Non-Null Count  Dtype \n",
      "---  ------            --------------  ----- \n",
      " 0   explanation       11 non-null     object\n",
      " 1   measurement_unit  11 non-null     object\n",
      " 2   normal_value      11 non-null     object\n",
      "dtypes: object(3)\n",
      "memory usage: 652.0+ bytes\n"
     ]
    }
   ],
   "source": [
    "column_details_df.info()"
   ]
  },
  {
   "cell_type": "markdown",
   "metadata": {
    "id": "_m70qkv2RD6W"
   },
   "source": [
    "There are 11 rows in our column_details_df which clearly describes the informations (like explanation, measurement units and normal value) regarding the 11 attributes in the heart_failure_df data frame."
   ]
  },
  {
   "cell_type": "code",
   "execution_count": 40,
   "metadata": {
    "colab": {
     "base_uri": "https://localhost:8080/"
    },
    "executionInfo": {
     "elapsed": 478,
     "status": "ok",
     "timestamp": 1663868256030,
     "user": {
      "displayName": "Avneet Kumar",
      "userId": "08327085032726843331"
     },
     "user_tz": -330
    },
    "id": "U0T5kH6YQCRi",
    "outputId": "5edbbdaf-721f-4411-8b0f-cb182aca90c7"
   },
   "outputs": [
    {
     "name": "stdout",
     "output_type": "stream",
     "text": [
      "<class 'pandas.core.frame.DataFrame'>\n",
      "RangeIndex: 299 entries, 0 to 298\n",
      "Data columns (total 11 columns):\n",
      " #   Column               Non-Null Count  Dtype  \n",
      "---  ------               --------------  -----  \n",
      " 0   age                  299 non-null    int64  \n",
      " 1   anaemia              299 non-null    bool   \n",
      " 2   diabetes             299 non-null    bool   \n",
      " 3   ejection_fraction    299 non-null    int64  \n",
      " 4   high_blood_pressure  299 non-null    bool   \n",
      " 5   platelets            299 non-null    int64  \n",
      " 6   serum_creatinine     299 non-null    float64\n",
      " 7   serum_sodium         299 non-null    int64  \n",
      " 8   sex                  299 non-null    object \n",
      " 9   smoking              299 non-null    bool   \n",
      " 10  patient_dead         299 non-null    bool   \n",
      "dtypes: bool(5), float64(1), int64(4), object(1)\n",
      "memory usage: 15.6+ KB\n"
     ]
    }
   ],
   "source": [
    "heart_failure_df.info()"
   ]
  },
  {
   "cell_type": "markdown",
   "metadata": {
    "id": "gkt0mFVRRw9t"
   },
   "source": [
    "There are 299 rows and 11 columns in our heart_failure_df with no null values. In raw dataset, there were 299 rows and 13 columns, we performed some operations to remove the unnecessary columns."
   ]
  },
  {
   "cell_type": "code",
   "execution_count": 41,
   "metadata": {
    "colab": {
     "base_uri": "https://localhost:8080/",
     "height": 300
    },
    "executionInfo": {
     "elapsed": 642,
     "status": "ok",
     "timestamp": 1663868292858,
     "user": {
      "displayName": "Avneet Kumar",
      "userId": "08327085032726843331"
     },
     "user_tz": -330
    },
    "id": "mThE417sRwjJ",
    "outputId": "5e43dc7c-4091-4ffb-cbb6-c48ae1ae293b"
   },
   "outputs": [
    {
     "data": {
      "text/html": [
       "\n",
       "  <div id=\"df-c5490290-2947-4b9c-8918-d26be8e98d8e\">\n",
       "    <div class=\"colab-df-container\">\n",
       "      <div>\n",
       "<style scoped>\n",
       "    .dataframe tbody tr th:only-of-type {\n",
       "        vertical-align: middle;\n",
       "    }\n",
       "\n",
       "    .dataframe tbody tr th {\n",
       "        vertical-align: top;\n",
       "    }\n",
       "\n",
       "    .dataframe thead th {\n",
       "        text-align: right;\n",
       "    }\n",
       "</style>\n",
       "<table border=\"1\" class=\"dataframe\">\n",
       "  <thead>\n",
       "    <tr style=\"text-align: right;\">\n",
       "      <th></th>\n",
       "      <th>age</th>\n",
       "      <th>ejection_fraction</th>\n",
       "      <th>platelets</th>\n",
       "      <th>serum_creatinine</th>\n",
       "      <th>serum_sodium</th>\n",
       "    </tr>\n",
       "  </thead>\n",
       "  <tbody>\n",
       "    <tr>\n",
       "      <th>count</th>\n",
       "      <td>299.000000</td>\n",
       "      <td>299.000000</td>\n",
       "      <td>299.000000</td>\n",
       "      <td>299.00000</td>\n",
       "      <td>299.000000</td>\n",
       "    </tr>\n",
       "    <tr>\n",
       "      <th>mean</th>\n",
       "      <td>60.829431</td>\n",
       "      <td>38.083612</td>\n",
       "      <td>263.327759</td>\n",
       "      <td>1.39388</td>\n",
       "      <td>136.625418</td>\n",
       "    </tr>\n",
       "    <tr>\n",
       "      <th>std</th>\n",
       "      <td>11.894997</td>\n",
       "      <td>11.834841</td>\n",
       "      <td>97.805105</td>\n",
       "      <td>1.03451</td>\n",
       "      <td>4.412477</td>\n",
       "    </tr>\n",
       "    <tr>\n",
       "      <th>min</th>\n",
       "      <td>40.000000</td>\n",
       "      <td>14.000000</td>\n",
       "      <td>25.000000</td>\n",
       "      <td>0.50000</td>\n",
       "      <td>113.000000</td>\n",
       "    </tr>\n",
       "    <tr>\n",
       "      <th>25%</th>\n",
       "      <td>51.000000</td>\n",
       "      <td>30.000000</td>\n",
       "      <td>212.500000</td>\n",
       "      <td>0.90000</td>\n",
       "      <td>134.000000</td>\n",
       "    </tr>\n",
       "    <tr>\n",
       "      <th>50%</th>\n",
       "      <td>60.000000</td>\n",
       "      <td>38.000000</td>\n",
       "      <td>262.000000</td>\n",
       "      <td>1.10000</td>\n",
       "      <td>137.000000</td>\n",
       "    </tr>\n",
       "    <tr>\n",
       "      <th>75%</th>\n",
       "      <td>70.000000</td>\n",
       "      <td>45.000000</td>\n",
       "      <td>303.500000</td>\n",
       "      <td>1.40000</td>\n",
       "      <td>140.000000</td>\n",
       "    </tr>\n",
       "    <tr>\n",
       "      <th>max</th>\n",
       "      <td>95.000000</td>\n",
       "      <td>80.000000</td>\n",
       "      <td>850.000000</td>\n",
       "      <td>9.40000</td>\n",
       "      <td>148.000000</td>\n",
       "    </tr>\n",
       "  </tbody>\n",
       "</table>\n",
       "</div>\n",
       "      <button class=\"colab-df-convert\" onclick=\"convertToInteractive('df-c5490290-2947-4b9c-8918-d26be8e98d8e')\"\n",
       "              title=\"Convert this dataframe to an interactive table.\"\n",
       "              style=\"display:none;\">\n",
       "        \n",
       "  <svg xmlns=\"http://www.w3.org/2000/svg\" height=\"24px\"viewBox=\"0 0 24 24\"\n",
       "       width=\"24px\">\n",
       "    <path d=\"M0 0h24v24H0V0z\" fill=\"none\"/>\n",
       "    <path d=\"M18.56 5.44l.94 2.06.94-2.06 2.06-.94-2.06-.94-.94-2.06-.94 2.06-2.06.94zm-11 1L8.5 8.5l.94-2.06 2.06-.94-2.06-.94L8.5 2.5l-.94 2.06-2.06.94zm10 10l.94 2.06.94-2.06 2.06-.94-2.06-.94-.94-2.06-.94 2.06-2.06.94z\"/><path d=\"M17.41 7.96l-1.37-1.37c-.4-.4-.92-.59-1.43-.59-.52 0-1.04.2-1.43.59L10.3 9.45l-7.72 7.72c-.78.78-.78 2.05 0 2.83L4 21.41c.39.39.9.59 1.41.59.51 0 1.02-.2 1.41-.59l7.78-7.78 2.81-2.81c.8-.78.8-2.07 0-2.86zM5.41 20L4 18.59l7.72-7.72 1.47 1.35L5.41 20z\"/>\n",
       "  </svg>\n",
       "      </button>\n",
       "      \n",
       "  <style>\n",
       "    .colab-df-container {\n",
       "      display:flex;\n",
       "      flex-wrap:wrap;\n",
       "      gap: 12px;\n",
       "    }\n",
       "\n",
       "    .colab-df-convert {\n",
       "      background-color: #E8F0FE;\n",
       "      border: none;\n",
       "      border-radius: 50%;\n",
       "      cursor: pointer;\n",
       "      display: none;\n",
       "      fill: #1967D2;\n",
       "      height: 32px;\n",
       "      padding: 0 0 0 0;\n",
       "      width: 32px;\n",
       "    }\n",
       "\n",
       "    .colab-df-convert:hover {\n",
       "      background-color: #E2EBFA;\n",
       "      box-shadow: 0px 1px 2px rgba(60, 64, 67, 0.3), 0px 1px 3px 1px rgba(60, 64, 67, 0.15);\n",
       "      fill: #174EA6;\n",
       "    }\n",
       "\n",
       "    [theme=dark] .colab-df-convert {\n",
       "      background-color: #3B4455;\n",
       "      fill: #D2E3FC;\n",
       "    }\n",
       "\n",
       "    [theme=dark] .colab-df-convert:hover {\n",
       "      background-color: #434B5C;\n",
       "      box-shadow: 0px 1px 3px 1px rgba(0, 0, 0, 0.15);\n",
       "      filter: drop-shadow(0px 1px 2px rgba(0, 0, 0, 0.3));\n",
       "      fill: #FFFFFF;\n",
       "    }\n",
       "  </style>\n",
       "\n",
       "      <script>\n",
       "        const buttonEl =\n",
       "          document.querySelector('#df-c5490290-2947-4b9c-8918-d26be8e98d8e button.colab-df-convert');\n",
       "        buttonEl.style.display =\n",
       "          google.colab.kernel.accessAllowed ? 'block' : 'none';\n",
       "\n",
       "        async function convertToInteractive(key) {\n",
       "          const element = document.querySelector('#df-c5490290-2947-4b9c-8918-d26be8e98d8e');\n",
       "          const dataTable =\n",
       "            await google.colab.kernel.invokeFunction('convertToInteractive',\n",
       "                                                     [key], {});\n",
       "          if (!dataTable) return;\n",
       "\n",
       "          const docLinkHtml = 'Like what you see? Visit the ' +\n",
       "            '<a target=\"_blank\" href=https://colab.research.google.com/notebooks/data_table.ipynb>data table notebook</a>'\n",
       "            + ' to learn more about interactive tables.';\n",
       "          element.innerHTML = '';\n",
       "          dataTable['output_type'] = 'display_data';\n",
       "          await google.colab.output.renderOutput(dataTable, element);\n",
       "          const docLink = document.createElement('div');\n",
       "          docLink.innerHTML = docLinkHtml;\n",
       "          element.appendChild(docLink);\n",
       "        }\n",
       "      </script>\n",
       "    </div>\n",
       "  </div>\n",
       "  "
      ],
      "text/plain": [
       "              age  ejection_fraction   platelets  serum_creatinine  \\\n",
       "count  299.000000         299.000000  299.000000         299.00000   \n",
       "mean    60.829431          38.083612  263.327759           1.39388   \n",
       "std     11.894997          11.834841   97.805105           1.03451   \n",
       "min     40.000000          14.000000   25.000000           0.50000   \n",
       "25%     51.000000          30.000000  212.500000           0.90000   \n",
       "50%     60.000000          38.000000  262.000000           1.10000   \n",
       "75%     70.000000          45.000000  303.500000           1.40000   \n",
       "max     95.000000          80.000000  850.000000           9.40000   \n",
       "\n",
       "       serum_sodium  \n",
       "count    299.000000  \n",
       "mean     136.625418  \n",
       "std        4.412477  \n",
       "min      113.000000  \n",
       "25%      134.000000  \n",
       "50%      137.000000  \n",
       "75%      140.000000  \n",
       "max      148.000000  "
      ]
     },
     "execution_count": 41,
     "metadata": {},
     "output_type": "execute_result"
    }
   ],
   "source": [
    "heart_failure_df.describe()"
   ]
  },
  {
   "cell_type": "markdown",
   "metadata": {
    "id": "gQ5qo9ctSA49"
   },
   "source": [
    "From the above result, we can find the average age of patients, maximum and minimum value of clinical records stored in our data frame."
   ]
  },
  {
   "cell_type": "markdown",
   "metadata": {
    "id": "ZHmlSN47SEP9"
   },
   "source": [
    "#### Number of Male and Female patients"
   ]
  },
  {
   "cell_type": "code",
   "execution_count": 42,
   "metadata": {
    "colab": {
     "base_uri": "https://localhost:8080/"
    },
    "executionInfo": {
     "elapsed": 632,
     "status": "ok",
     "timestamp": 1663868386751,
     "user": {
      "displayName": "Avneet Kumar",
      "userId": "08327085032726843331"
     },
     "user_tz": -330
    },
    "id": "Ax0PTjApQCOi",
    "outputId": "cb908bc9-0830-4db5-85dc-a9931aed211c"
   },
   "outputs": [
    {
     "data": {
      "text/plain": [
       "Male      194\n",
       "Female    105\n",
       "Name: sex, dtype: int64"
      ]
     },
     "execution_count": 42,
     "metadata": {},
     "output_type": "execute_result"
    }
   ],
   "source": [
    "heart_failure_df.sex.value_counts()"
   ]
  },
  {
   "cell_type": "markdown",
   "metadata": {
    "id": "Fcz7vX0-SPrE"
   },
   "source": [
    "#### Number of Patients with Anaemia"
   ]
  },
  {
   "cell_type": "code",
   "execution_count": 43,
   "metadata": {
    "colab": {
     "base_uri": "https://localhost:8080/"
    },
    "executionInfo": {
     "elapsed": 418,
     "status": "ok",
     "timestamp": 1663868422033,
     "user": {
      "displayName": "Avneet Kumar",
      "userId": "08327085032726843331"
     },
     "user_tz": -330
    },
    "id": "IKlV4RRyRtQ6",
    "outputId": "13cf83ec-8fd7-4b3d-8a81-d8b188172cc3"
   },
   "outputs": [
    {
     "data": {
      "text/plain": [
       "False    170\n",
       "True     129\n",
       "Name: anaemia, dtype: int64"
      ]
     },
     "execution_count": 43,
     "metadata": {},
     "output_type": "execute_result"
    }
   ],
   "source": [
    "heart_failure_df.anaemia.value_counts()"
   ]
  },
  {
   "cell_type": "markdown",
   "metadata": {
    "id": "toEMVWYQSW90"
   },
   "source": [
    "#### Number of Patients with Diabetes"
   ]
  },
  {
   "cell_type": "code",
   "execution_count": 44,
   "metadata": {
    "colab": {
     "base_uri": "https://localhost:8080/"
    },
    "executionInfo": {
     "elapsed": 933,
     "status": "ok",
     "timestamp": 1663868448917,
     "user": {
      "displayName": "Avneet Kumar",
      "userId": "08327085032726843331"
     },
     "user_tz": -330
    },
    "id": "h2nBpqIzSNGr",
    "outputId": "81da96ea-3bab-419c-9b66-96c2bf734b96"
   },
   "outputs": [
    {
     "data": {
      "text/plain": [
       "False    174\n",
       "True     125\n",
       "Name: diabetes, dtype: int64"
      ]
     },
     "execution_count": 44,
     "metadata": {},
     "output_type": "execute_result"
    }
   ],
   "source": [
    "heart_failure_df.diabetes.value_counts()"
   ]
  },
  {
   "cell_type": "markdown",
   "metadata": {
    "id": "T2BhjvT5Se7H"
   },
   "source": [
    "#### Number of Patients with High Blood Pressure"
   ]
  },
  {
   "cell_type": "code",
   "execution_count": 45,
   "metadata": {
    "colab": {
     "base_uri": "https://localhost:8080/"
    },
    "executionInfo": {
     "elapsed": 519,
     "status": "ok",
     "timestamp": 1663868479685,
     "user": {
      "displayName": "Avneet Kumar",
      "userId": "08327085032726843331"
     },
     "user_tz": -330
    },
    "id": "mJ_FJi74SNDg",
    "outputId": "d66d69d1-d9eb-4e3a-b760-f921622239a5"
   },
   "outputs": [
    {
     "data": {
      "text/plain": [
       "False    194\n",
       "True     105\n",
       "Name: high_blood_pressure, dtype: int64"
      ]
     },
     "execution_count": 45,
     "metadata": {},
     "output_type": "execute_result"
    }
   ],
   "source": [
    "heart_failure_df.high_blood_pressure.value_counts()"
   ]
  },
  {
   "cell_type": "markdown",
   "metadata": {
    "id": "BKXi4tEDSjN4"
   },
   "source": [
    "#### Number of Patients with Smoking Habit"
   ]
  },
  {
   "cell_type": "code",
   "execution_count": 46,
   "metadata": {
    "colab": {
     "base_uri": "https://localhost:8080/"
    },
    "executionInfo": {
     "elapsed": 6,
     "status": "ok",
     "timestamp": 1663868508605,
     "user": {
      "displayName": "Avneet Kumar",
      "userId": "08327085032726843331"
     },
     "user_tz": -330
    },
    "id": "LfPEnfQZSNAq",
    "outputId": "7d9c5df6-c512-4f86-a12e-aa3689d775e2"
   },
   "outputs": [
    {
     "data": {
      "text/plain": [
       "False    203\n",
       "True      96\n",
       "Name: smoking, dtype: int64"
      ]
     },
     "execution_count": 46,
     "metadata": {},
     "output_type": "execute_result"
    }
   ],
   "source": [
    "heart_failure_df.smoking.value_counts()"
   ]
  },
  {
   "cell_type": "markdown",
   "metadata": {
    "id": "wyC3KdM6SwTc"
   },
   "source": [
    "#### Number of Patients died during follow-up period"
   ]
  },
  {
   "cell_type": "code",
   "execution_count": 47,
   "metadata": {
    "colab": {
     "base_uri": "https://localhost:8080/",
     "height": 143
    },
    "executionInfo": {
     "elapsed": 460,
     "status": "ok",
     "timestamp": 1663868569277,
     "user": {
      "displayName": "Avneet Kumar",
      "userId": "08327085032726843331"
     },
     "user_tz": -330
    },
    "id": "JcvIiL-MSM-Z",
    "outputId": "94101ba0-192b-4d64-e2d5-5048f2ba8bcf"
   },
   "outputs": [
    {
     "data": {
      "text/html": [
       "\n",
       "  <div id=\"df-304e1b74-3157-42c0-b832-ba107202dacc\">\n",
       "    <div class=\"colab-df-container\">\n",
       "      <div>\n",
       "<style scoped>\n",
       "    .dataframe tbody tr th:only-of-type {\n",
       "        vertical-align: middle;\n",
       "    }\n",
       "\n",
       "    .dataframe tbody tr th {\n",
       "        vertical-align: top;\n",
       "    }\n",
       "\n",
       "    .dataframe thead th {\n",
       "        text-align: right;\n",
       "    }\n",
       "</style>\n",
       "<table border=\"1\" class=\"dataframe\">\n",
       "  <thead>\n",
       "    <tr style=\"text-align: right;\">\n",
       "      <th>patient_dead</th>\n",
       "      <th>False</th>\n",
       "      <th>True</th>\n",
       "    </tr>\n",
       "    <tr>\n",
       "      <th>sex</th>\n",
       "      <th></th>\n",
       "      <th></th>\n",
       "    </tr>\n",
       "  </thead>\n",
       "  <tbody>\n",
       "    <tr>\n",
       "      <th>Female</th>\n",
       "      <td>71</td>\n",
       "      <td>34</td>\n",
       "    </tr>\n",
       "    <tr>\n",
       "      <th>Male</th>\n",
       "      <td>132</td>\n",
       "      <td>62</td>\n",
       "    </tr>\n",
       "  </tbody>\n",
       "</table>\n",
       "</div>\n",
       "      <button class=\"colab-df-convert\" onclick=\"convertToInteractive('df-304e1b74-3157-42c0-b832-ba107202dacc')\"\n",
       "              title=\"Convert this dataframe to an interactive table.\"\n",
       "              style=\"display:none;\">\n",
       "        \n",
       "  <svg xmlns=\"http://www.w3.org/2000/svg\" height=\"24px\"viewBox=\"0 0 24 24\"\n",
       "       width=\"24px\">\n",
       "    <path d=\"M0 0h24v24H0V0z\" fill=\"none\"/>\n",
       "    <path d=\"M18.56 5.44l.94 2.06.94-2.06 2.06-.94-2.06-.94-.94-2.06-.94 2.06-2.06.94zm-11 1L8.5 8.5l.94-2.06 2.06-.94-2.06-.94L8.5 2.5l-.94 2.06-2.06.94zm10 10l.94 2.06.94-2.06 2.06-.94-2.06-.94-.94-2.06-.94 2.06-2.06.94z\"/><path d=\"M17.41 7.96l-1.37-1.37c-.4-.4-.92-.59-1.43-.59-.52 0-1.04.2-1.43.59L10.3 9.45l-7.72 7.72c-.78.78-.78 2.05 0 2.83L4 21.41c.39.39.9.59 1.41.59.51 0 1.02-.2 1.41-.59l7.78-7.78 2.81-2.81c.8-.78.8-2.07 0-2.86zM5.41 20L4 18.59l7.72-7.72 1.47 1.35L5.41 20z\"/>\n",
       "  </svg>\n",
       "      </button>\n",
       "      \n",
       "  <style>\n",
       "    .colab-df-container {\n",
       "      display:flex;\n",
       "      flex-wrap:wrap;\n",
       "      gap: 12px;\n",
       "    }\n",
       "\n",
       "    .colab-df-convert {\n",
       "      background-color: #E8F0FE;\n",
       "      border: none;\n",
       "      border-radius: 50%;\n",
       "      cursor: pointer;\n",
       "      display: none;\n",
       "      fill: #1967D2;\n",
       "      height: 32px;\n",
       "      padding: 0 0 0 0;\n",
       "      width: 32px;\n",
       "    }\n",
       "\n",
       "    .colab-df-convert:hover {\n",
       "      background-color: #E2EBFA;\n",
       "      box-shadow: 0px 1px 2px rgba(60, 64, 67, 0.3), 0px 1px 3px 1px rgba(60, 64, 67, 0.15);\n",
       "      fill: #174EA6;\n",
       "    }\n",
       "\n",
       "    [theme=dark] .colab-df-convert {\n",
       "      background-color: #3B4455;\n",
       "      fill: #D2E3FC;\n",
       "    }\n",
       "\n",
       "    [theme=dark] .colab-df-convert:hover {\n",
       "      background-color: #434B5C;\n",
       "      box-shadow: 0px 1px 3px 1px rgba(0, 0, 0, 0.15);\n",
       "      filter: drop-shadow(0px 1px 2px rgba(0, 0, 0, 0.3));\n",
       "      fill: #FFFFFF;\n",
       "    }\n",
       "  </style>\n",
       "\n",
       "      <script>\n",
       "        const buttonEl =\n",
       "          document.querySelector('#df-304e1b74-3157-42c0-b832-ba107202dacc button.colab-df-convert');\n",
       "        buttonEl.style.display =\n",
       "          google.colab.kernel.accessAllowed ? 'block' : 'none';\n",
       "\n",
       "        async function convertToInteractive(key) {\n",
       "          const element = document.querySelector('#df-304e1b74-3157-42c0-b832-ba107202dacc');\n",
       "          const dataTable =\n",
       "            await google.colab.kernel.invokeFunction('convertToInteractive',\n",
       "                                                     [key], {});\n",
       "          if (!dataTable) return;\n",
       "\n",
       "          const docLinkHtml = 'Like what you see? Visit the ' +\n",
       "            '<a target=\"_blank\" href=https://colab.research.google.com/notebooks/data_table.ipynb>data table notebook</a>'\n",
       "            + ' to learn more about interactive tables.';\n",
       "          element.innerHTML = '';\n",
       "          dataTable['output_type'] = 'display_data';\n",
       "          await google.colab.output.renderOutput(dataTable, element);\n",
       "          const docLink = document.createElement('div');\n",
       "          docLink.innerHTML = docLinkHtml;\n",
       "          element.appendChild(docLink);\n",
       "        }\n",
       "      </script>\n",
       "    </div>\n",
       "  </div>\n",
       "  "
      ],
      "text/plain": [
       "patient_dead  False  True\n",
       "sex                      \n",
       "Female           71    34\n",
       "Male            132    62"
      ]
     },
     "execution_count": 47,
     "metadata": {},
     "output_type": "execute_result"
    }
   ],
   "source": [
    "heart_failure_df.groupby(['patient_dead', 'sex']).size().reset_index().pivot(columns= 'patient_dead',index = 'sex', values=0) "
   ]
  },
  {
   "cell_type": "markdown",
   "metadata": {
    "id": "MaoPpn3jS8BT"
   },
   "source": [
    "#### Number of Patients with Abnormal Ejection Fraction"
   ]
  },
  {
   "cell_type": "code",
   "execution_count": 48,
   "metadata": {
    "colab": {
     "base_uri": "https://localhost:8080/",
     "height": 35
    },
    "executionInfo": {
     "elapsed": 821,
     "status": "ok",
     "timestamp": 1663868608138,
     "user": {
      "displayName": "Avneet Kumar",
      "userId": "08327085032726843331"
     },
     "user_tz": -330
    },
    "id": "MhrqsEUOSM7S",
    "outputId": "9cd02ed0-0b41-4630-d880-bbf3c15ddbf2"
   },
   "outputs": [
    {
     "data": {
      "application/vnd.google.colaboratory.intrinsic+json": {
       "type": "string"
      },
      "text/plain": [
       "'55% - 70%'"
      ]
     },
     "execution_count": 48,
     "metadata": {},
     "output_type": "execute_result"
    }
   ],
   "source": [
    "#find the normal value of Ejection Fraction \n",
    "column_details_df.normal_value['ejection_fraction']"
   ]
  },
  {
   "cell_type": "code",
   "execution_count": 49,
   "metadata": {
    "colab": {
     "base_uri": "https://localhost:8080/",
     "height": 488
    },
    "executionInfo": {
     "elapsed": 680,
     "status": "ok",
     "timestamp": 1663868682251,
     "user": {
      "displayName": "Avneet Kumar",
      "userId": "08327085032726843331"
     },
     "user_tz": -330
    },
    "id": "tpDtkihbSM5L",
    "outputId": "45411014-b005-40eb-f065-89072f8509a6"
   },
   "outputs": [
    {
     "data": {
      "text/html": [
       "\n",
       "  <div id=\"df-266e3a11-5841-44dd-ab51-e31a233c9795\">\n",
       "    <div class=\"colab-df-container\">\n",
       "      <div>\n",
       "<style scoped>\n",
       "    .dataframe tbody tr th:only-of-type {\n",
       "        vertical-align: middle;\n",
       "    }\n",
       "\n",
       "    .dataframe tbody tr th {\n",
       "        vertical-align: top;\n",
       "    }\n",
       "\n",
       "    .dataframe thead th {\n",
       "        text-align: right;\n",
       "    }\n",
       "</style>\n",
       "<table border=\"1\" class=\"dataframe\">\n",
       "  <thead>\n",
       "    <tr style=\"text-align: right;\">\n",
       "      <th></th>\n",
       "      <th>age</th>\n",
       "      <th>anaemia</th>\n",
       "      <th>diabetes</th>\n",
       "      <th>ejection_fraction</th>\n",
       "      <th>high_blood_pressure</th>\n",
       "      <th>platelets</th>\n",
       "      <th>serum_creatinine</th>\n",
       "      <th>serum_sodium</th>\n",
       "      <th>sex</th>\n",
       "      <th>smoking</th>\n",
       "      <th>patient_dead</th>\n",
       "    </tr>\n",
       "  </thead>\n",
       "  <tbody>\n",
       "    <tr>\n",
       "      <th>0</th>\n",
       "      <td>75</td>\n",
       "      <td>False</td>\n",
       "      <td>False</td>\n",
       "      <td>20</td>\n",
       "      <td>True</td>\n",
       "      <td>265</td>\n",
       "      <td>1.9</td>\n",
       "      <td>130</td>\n",
       "      <td>Male</td>\n",
       "      <td>False</td>\n",
       "      <td>True</td>\n",
       "    </tr>\n",
       "    <tr>\n",
       "      <th>1</th>\n",
       "      <td>55</td>\n",
       "      <td>False</td>\n",
       "      <td>False</td>\n",
       "      <td>38</td>\n",
       "      <td>False</td>\n",
       "      <td>263</td>\n",
       "      <td>1.1</td>\n",
       "      <td>136</td>\n",
       "      <td>Male</td>\n",
       "      <td>False</td>\n",
       "      <td>True</td>\n",
       "    </tr>\n",
       "    <tr>\n",
       "      <th>2</th>\n",
       "      <td>65</td>\n",
       "      <td>False</td>\n",
       "      <td>False</td>\n",
       "      <td>20</td>\n",
       "      <td>False</td>\n",
       "      <td>162</td>\n",
       "      <td>1.3</td>\n",
       "      <td>129</td>\n",
       "      <td>Male</td>\n",
       "      <td>True</td>\n",
       "      <td>True</td>\n",
       "    </tr>\n",
       "    <tr>\n",
       "      <th>3</th>\n",
       "      <td>50</td>\n",
       "      <td>True</td>\n",
       "      <td>False</td>\n",
       "      <td>20</td>\n",
       "      <td>False</td>\n",
       "      <td>210</td>\n",
       "      <td>1.9</td>\n",
       "      <td>137</td>\n",
       "      <td>Male</td>\n",
       "      <td>False</td>\n",
       "      <td>True</td>\n",
       "    </tr>\n",
       "    <tr>\n",
       "      <th>4</th>\n",
       "      <td>65</td>\n",
       "      <td>True</td>\n",
       "      <td>True</td>\n",
       "      <td>20</td>\n",
       "      <td>False</td>\n",
       "      <td>327</td>\n",
       "      <td>2.7</td>\n",
       "      <td>116</td>\n",
       "      <td>Female</td>\n",
       "      <td>False</td>\n",
       "      <td>True</td>\n",
       "    </tr>\n",
       "    <tr>\n",
       "      <th>...</th>\n",
       "      <td>...</td>\n",
       "      <td>...</td>\n",
       "      <td>...</td>\n",
       "      <td>...</td>\n",
       "      <td>...</td>\n",
       "      <td>...</td>\n",
       "      <td>...</td>\n",
       "      <td>...</td>\n",
       "      <td>...</td>\n",
       "      <td>...</td>\n",
       "      <td>...</td>\n",
       "    </tr>\n",
       "    <tr>\n",
       "      <th>293</th>\n",
       "      <td>63</td>\n",
       "      <td>True</td>\n",
       "      <td>True</td>\n",
       "      <td>35</td>\n",
       "      <td>False</td>\n",
       "      <td>179</td>\n",
       "      <td>0.9</td>\n",
       "      <td>136</td>\n",
       "      <td>Male</td>\n",
       "      <td>True</td>\n",
       "      <td>False</td>\n",
       "    </tr>\n",
       "    <tr>\n",
       "      <th>294</th>\n",
       "      <td>62</td>\n",
       "      <td>False</td>\n",
       "      <td>True</td>\n",
       "      <td>38</td>\n",
       "      <td>True</td>\n",
       "      <td>155</td>\n",
       "      <td>1.1</td>\n",
       "      <td>143</td>\n",
       "      <td>Male</td>\n",
       "      <td>True</td>\n",
       "      <td>False</td>\n",
       "    </tr>\n",
       "    <tr>\n",
       "      <th>295</th>\n",
       "      <td>55</td>\n",
       "      <td>False</td>\n",
       "      <td>False</td>\n",
       "      <td>38</td>\n",
       "      <td>False</td>\n",
       "      <td>270</td>\n",
       "      <td>1.2</td>\n",
       "      <td>139</td>\n",
       "      <td>Female</td>\n",
       "      <td>False</td>\n",
       "      <td>False</td>\n",
       "    </tr>\n",
       "    <tr>\n",
       "      <th>297</th>\n",
       "      <td>45</td>\n",
       "      <td>False</td>\n",
       "      <td>False</td>\n",
       "      <td>38</td>\n",
       "      <td>False</td>\n",
       "      <td>140</td>\n",
       "      <td>1.4</td>\n",
       "      <td>140</td>\n",
       "      <td>Male</td>\n",
       "      <td>True</td>\n",
       "      <td>False</td>\n",
       "    </tr>\n",
       "    <tr>\n",
       "      <th>298</th>\n",
       "      <td>50</td>\n",
       "      <td>False</td>\n",
       "      <td>False</td>\n",
       "      <td>45</td>\n",
       "      <td>False</td>\n",
       "      <td>395</td>\n",
       "      <td>1.6</td>\n",
       "      <td>136</td>\n",
       "      <td>Male</td>\n",
       "      <td>True</td>\n",
       "      <td>False</td>\n",
       "    </tr>\n",
       "  </tbody>\n",
       "</table>\n",
       "<p>261 rows × 11 columns</p>\n",
       "</div>\n",
       "      <button class=\"colab-df-convert\" onclick=\"convertToInteractive('df-266e3a11-5841-44dd-ab51-e31a233c9795')\"\n",
       "              title=\"Convert this dataframe to an interactive table.\"\n",
       "              style=\"display:none;\">\n",
       "        \n",
       "  <svg xmlns=\"http://www.w3.org/2000/svg\" height=\"24px\"viewBox=\"0 0 24 24\"\n",
       "       width=\"24px\">\n",
       "    <path d=\"M0 0h24v24H0V0z\" fill=\"none\"/>\n",
       "    <path d=\"M18.56 5.44l.94 2.06.94-2.06 2.06-.94-2.06-.94-.94-2.06-.94 2.06-2.06.94zm-11 1L8.5 8.5l.94-2.06 2.06-.94-2.06-.94L8.5 2.5l-.94 2.06-2.06.94zm10 10l.94 2.06.94-2.06 2.06-.94-2.06-.94-.94-2.06-.94 2.06-2.06.94z\"/><path d=\"M17.41 7.96l-1.37-1.37c-.4-.4-.92-.59-1.43-.59-.52 0-1.04.2-1.43.59L10.3 9.45l-7.72 7.72c-.78.78-.78 2.05 0 2.83L4 21.41c.39.39.9.59 1.41.59.51 0 1.02-.2 1.41-.59l7.78-7.78 2.81-2.81c.8-.78.8-2.07 0-2.86zM5.41 20L4 18.59l7.72-7.72 1.47 1.35L5.41 20z\"/>\n",
       "  </svg>\n",
       "      </button>\n",
       "      \n",
       "  <style>\n",
       "    .colab-df-container {\n",
       "      display:flex;\n",
       "      flex-wrap:wrap;\n",
       "      gap: 12px;\n",
       "    }\n",
       "\n",
       "    .colab-df-convert {\n",
       "      background-color: #E8F0FE;\n",
       "      border: none;\n",
       "      border-radius: 50%;\n",
       "      cursor: pointer;\n",
       "      display: none;\n",
       "      fill: #1967D2;\n",
       "      height: 32px;\n",
       "      padding: 0 0 0 0;\n",
       "      width: 32px;\n",
       "    }\n",
       "\n",
       "    .colab-df-convert:hover {\n",
       "      background-color: #E2EBFA;\n",
       "      box-shadow: 0px 1px 2px rgba(60, 64, 67, 0.3), 0px 1px 3px 1px rgba(60, 64, 67, 0.15);\n",
       "      fill: #174EA6;\n",
       "    }\n",
       "\n",
       "    [theme=dark] .colab-df-convert {\n",
       "      background-color: #3B4455;\n",
       "      fill: #D2E3FC;\n",
       "    }\n",
       "\n",
       "    [theme=dark] .colab-df-convert:hover {\n",
       "      background-color: #434B5C;\n",
       "      box-shadow: 0px 1px 3px 1px rgba(0, 0, 0, 0.15);\n",
       "      filter: drop-shadow(0px 1px 2px rgba(0, 0, 0, 0.3));\n",
       "      fill: #FFFFFF;\n",
       "    }\n",
       "  </style>\n",
       "\n",
       "      <script>\n",
       "        const buttonEl =\n",
       "          document.querySelector('#df-266e3a11-5841-44dd-ab51-e31a233c9795 button.colab-df-convert');\n",
       "        buttonEl.style.display =\n",
       "          google.colab.kernel.accessAllowed ? 'block' : 'none';\n",
       "\n",
       "        async function convertToInteractive(key) {\n",
       "          const element = document.querySelector('#df-266e3a11-5841-44dd-ab51-e31a233c9795');\n",
       "          const dataTable =\n",
       "            await google.colab.kernel.invokeFunction('convertToInteractive',\n",
       "                                                     [key], {});\n",
       "          if (!dataTable) return;\n",
       "\n",
       "          const docLinkHtml = 'Like what you see? Visit the ' +\n",
       "            '<a target=\"_blank\" href=https://colab.research.google.com/notebooks/data_table.ipynb>data table notebook</a>'\n",
       "            + ' to learn more about interactive tables.';\n",
       "          element.innerHTML = '';\n",
       "          dataTable['output_type'] = 'display_data';\n",
       "          await google.colab.output.renderOutput(dataTable, element);\n",
       "          const docLink = document.createElement('div');\n",
       "          docLink.innerHTML = docLinkHtml;\n",
       "          element.appendChild(docLink);\n",
       "        }\n",
       "      </script>\n",
       "    </div>\n",
       "  </div>\n",
       "  "
      ],
      "text/plain": [
       "     age  anaemia  diabetes  ejection_fraction  high_blood_pressure  \\\n",
       "0     75    False     False                 20                 True   \n",
       "1     55    False     False                 38                False   \n",
       "2     65    False     False                 20                False   \n",
       "3     50     True     False                 20                False   \n",
       "4     65     True      True                 20                False   \n",
       "..   ...      ...       ...                ...                  ...   \n",
       "293   63     True      True                 35                False   \n",
       "294   62    False      True                 38                 True   \n",
       "295   55    False     False                 38                False   \n",
       "297   45    False     False                 38                False   \n",
       "298   50    False     False                 45                False   \n",
       "\n",
       "     platelets  serum_creatinine  serum_sodium     sex  smoking  patient_dead  \n",
       "0          265               1.9           130    Male    False          True  \n",
       "1          263               1.1           136    Male    False          True  \n",
       "2          162               1.3           129    Male     True          True  \n",
       "3          210               1.9           137    Male    False          True  \n",
       "4          327               2.7           116  Female    False          True  \n",
       "..         ...               ...           ...     ...      ...           ...  \n",
       "293        179               0.9           136    Male     True         False  \n",
       "294        155               1.1           143    Male     True         False  \n",
       "295        270               1.2           139  Female    False         False  \n",
       "297        140               1.4           140    Male     True         False  \n",
       "298        395               1.6           136    Male     True         False  \n",
       "\n",
       "[261 rows x 11 columns]"
      ]
     },
     "execution_count": 49,
     "metadata": {},
     "output_type": "execute_result"
    }
   ],
   "source": [
    "# Abnormal Ejection Fraction(abn_ef)\n",
    "abn_ef = heart_failure_df[(heart_failure_df.ejection_fraction < 55) | (heart_failure_df.ejection_fraction >70)]\n",
    "abn_ef"
   ]
  },
  {
   "cell_type": "markdown",
   "metadata": {
    "id": "gm6oSd7HTZ7g"
   },
   "source": [
    "The normal value of Ejection Fraction ranges from 55% to 70%. Here, we found that there are 261 patients with abnormal Ejection Fraction."
   ]
  },
  {
   "cell_type": "markdown",
   "metadata": {
    "id": "bBsZ6G9ETdYi"
   },
   "source": [
    "#### Number of Patients with Abnormal Platelets Count"
   ]
  },
  {
   "cell_type": "code",
   "execution_count": 50,
   "metadata": {
    "colab": {
     "base_uri": "https://localhost:8080/",
     "height": 35
    },
    "executionInfo": {
     "elapsed": 752,
     "status": "ok",
     "timestamp": 1663868743308,
     "user": {
      "displayName": "Avneet Kumar",
      "userId": "08327085032726843331"
     },
     "user_tz": -330
    },
    "id": "EVeMozWlRtLi",
    "outputId": "7fa82dbb-c5c1-4ca3-c40f-99dc4ed7d367"
   },
   "outputs": [
    {
     "data": {
      "application/vnd.google.colaboratory.intrinsic+json": {
       "type": "string"
      },
      "text/plain": [
       "'150 - 400 kilo-platelets / mcL'"
      ]
     },
     "execution_count": 50,
     "metadata": {},
     "output_type": "execute_result"
    }
   ],
   "source": [
    "#find the normal value of Platelets Count \n",
    "column_details_df.normal_value['platelets']"
   ]
  },
  {
   "cell_type": "code",
   "execution_count": 51,
   "metadata": {
    "colab": {
     "base_uri": "https://localhost:8080/",
     "height": 1000
    },
    "executionInfo": {
     "elapsed": 467,
     "status": "ok",
     "timestamp": 1663868791636,
     "user": {
      "displayName": "Avneet Kumar",
      "userId": "08327085032726843331"
     },
     "user_tz": -330
    },
    "id": "U6x9l3IoRtIh",
    "outputId": "9737c58f-66ff-49ba-fdfe-2f7f9e3c4e36"
   },
   "outputs": [
    {
     "data": {
      "text/html": [
       "\n",
       "  <div id=\"df-9f371c00-8f7b-4b36-aba9-76ccc3034e0e\">\n",
       "    <div class=\"colab-df-container\">\n",
       "      <div>\n",
       "<style scoped>\n",
       "    .dataframe tbody tr th:only-of-type {\n",
       "        vertical-align: middle;\n",
       "    }\n",
       "\n",
       "    .dataframe tbody tr th {\n",
       "        vertical-align: top;\n",
       "    }\n",
       "\n",
       "    .dataframe thead th {\n",
       "        text-align: right;\n",
       "    }\n",
       "</style>\n",
       "<table border=\"1\" class=\"dataframe\">\n",
       "  <thead>\n",
       "    <tr style=\"text-align: right;\">\n",
       "      <th></th>\n",
       "      <th>age</th>\n",
       "      <th>anaemia</th>\n",
       "      <th>diabetes</th>\n",
       "      <th>ejection_fraction</th>\n",
       "      <th>high_blood_pressure</th>\n",
       "      <th>platelets</th>\n",
       "      <th>serum_creatinine</th>\n",
       "      <th>serum_sodium</th>\n",
       "      <th>sex</th>\n",
       "      <th>smoking</th>\n",
       "      <th>patient_dead</th>\n",
       "    </tr>\n",
       "  </thead>\n",
       "  <tbody>\n",
       "    <tr>\n",
       "      <th>6</th>\n",
       "      <td>75</td>\n",
       "      <td>True</td>\n",
       "      <td>False</td>\n",
       "      <td>15</td>\n",
       "      <td>False</td>\n",
       "      <td>127</td>\n",
       "      <td>1.20</td>\n",
       "      <td>137</td>\n",
       "      <td>Male</td>\n",
       "      <td>False</td>\n",
       "      <td>True</td>\n",
       "    </tr>\n",
       "    <tr>\n",
       "      <th>7</th>\n",
       "      <td>60</td>\n",
       "      <td>True</td>\n",
       "      <td>True</td>\n",
       "      <td>60</td>\n",
       "      <td>False</td>\n",
       "      <td>454</td>\n",
       "      <td>1.10</td>\n",
       "      <td>131</td>\n",
       "      <td>Male</td>\n",
       "      <td>True</td>\n",
       "      <td>True</td>\n",
       "    </tr>\n",
       "    <tr>\n",
       "      <th>12</th>\n",
       "      <td>45</td>\n",
       "      <td>True</td>\n",
       "      <td>False</td>\n",
       "      <td>30</td>\n",
       "      <td>False</td>\n",
       "      <td>136</td>\n",
       "      <td>1.10</td>\n",
       "      <td>137</td>\n",
       "      <td>Male</td>\n",
       "      <td>False</td>\n",
       "      <td>True</td>\n",
       "    </tr>\n",
       "    <tr>\n",
       "      <th>14</th>\n",
       "      <td>49</td>\n",
       "      <td>True</td>\n",
       "      <td>False</td>\n",
       "      <td>30</td>\n",
       "      <td>True</td>\n",
       "      <td>427</td>\n",
       "      <td>1.00</td>\n",
       "      <td>138</td>\n",
       "      <td>Female</td>\n",
       "      <td>False</td>\n",
       "      <td>False</td>\n",
       "    </tr>\n",
       "    <tr>\n",
       "      <th>15</th>\n",
       "      <td>82</td>\n",
       "      <td>True</td>\n",
       "      <td>False</td>\n",
       "      <td>50</td>\n",
       "      <td>False</td>\n",
       "      <td>47</td>\n",
       "      <td>1.30</td>\n",
       "      <td>136</td>\n",
       "      <td>Male</td>\n",
       "      <td>False</td>\n",
       "      <td>True</td>\n",
       "    </tr>\n",
       "    <tr>\n",
       "      <th>19</th>\n",
       "      <td>48</td>\n",
       "      <td>True</td>\n",
       "      <td>True</td>\n",
       "      <td>55</td>\n",
       "      <td>False</td>\n",
       "      <td>87</td>\n",
       "      <td>1.90</td>\n",
       "      <td>121</td>\n",
       "      <td>Female</td>\n",
       "      <td>False</td>\n",
       "      <td>True</td>\n",
       "    </tr>\n",
       "    <tr>\n",
       "      <th>25</th>\n",
       "      <td>80</td>\n",
       "      <td>False</td>\n",
       "      <td>True</td>\n",
       "      <td>38</td>\n",
       "      <td>False</td>\n",
       "      <td>149</td>\n",
       "      <td>1.90</td>\n",
       "      <td>144</td>\n",
       "      <td>Male</td>\n",
       "      <td>True</td>\n",
       "      <td>True</td>\n",
       "    </tr>\n",
       "    <tr>\n",
       "      <th>47</th>\n",
       "      <td>60</td>\n",
       "      <td>False</td>\n",
       "      <td>True</td>\n",
       "      <td>38</td>\n",
       "      <td>True</td>\n",
       "      <td>451</td>\n",
       "      <td>0.60</td>\n",
       "      <td>138</td>\n",
       "      <td>Male</td>\n",
       "      <td>True</td>\n",
       "      <td>True</td>\n",
       "    </tr>\n",
       "    <tr>\n",
       "      <th>48</th>\n",
       "      <td>80</td>\n",
       "      <td>True</td>\n",
       "      <td>False</td>\n",
       "      <td>20</td>\n",
       "      <td>True</td>\n",
       "      <td>140</td>\n",
       "      <td>4.40</td>\n",
       "      <td>133</td>\n",
       "      <td>Male</td>\n",
       "      <td>False</td>\n",
       "      <td>True</td>\n",
       "    </tr>\n",
       "    <tr>\n",
       "      <th>51</th>\n",
       "      <td>53</td>\n",
       "      <td>True</td>\n",
       "      <td>False</td>\n",
       "      <td>20</td>\n",
       "      <td>True</td>\n",
       "      <td>418</td>\n",
       "      <td>1.40</td>\n",
       "      <td>139</td>\n",
       "      <td>Female</td>\n",
       "      <td>False</td>\n",
       "      <td>True</td>\n",
       "    </tr>\n",
       "    <tr>\n",
       "      <th>55</th>\n",
       "      <td>95</td>\n",
       "      <td>True</td>\n",
       "      <td>False</td>\n",
       "      <td>30</td>\n",
       "      <td>False</td>\n",
       "      <td>461</td>\n",
       "      <td>2.00</td>\n",
       "      <td>132</td>\n",
       "      <td>Male</td>\n",
       "      <td>False</td>\n",
       "      <td>True</td>\n",
       "    </tr>\n",
       "    <tr>\n",
       "      <th>65</th>\n",
       "      <td>60</td>\n",
       "      <td>False</td>\n",
       "      <td>False</td>\n",
       "      <td>20</td>\n",
       "      <td>False</td>\n",
       "      <td>119</td>\n",
       "      <td>2.90</td>\n",
       "      <td>127</td>\n",
       "      <td>Male</td>\n",
       "      <td>True</td>\n",
       "      <td>True</td>\n",
       "    </tr>\n",
       "    <tr>\n",
       "      <th>69</th>\n",
       "      <td>65</td>\n",
       "      <td>False</td>\n",
       "      <td>True</td>\n",
       "      <td>25</td>\n",
       "      <td>False</td>\n",
       "      <td>497</td>\n",
       "      <td>1.83</td>\n",
       "      <td>135</td>\n",
       "      <td>Male</td>\n",
       "      <td>False</td>\n",
       "      <td>True</td>\n",
       "    </tr>\n",
       "    <tr>\n",
       "      <th>71</th>\n",
       "      <td>58</td>\n",
       "      <td>False</td>\n",
       "      <td>True</td>\n",
       "      <td>35</td>\n",
       "      <td>False</td>\n",
       "      <td>122</td>\n",
       "      <td>0.90</td>\n",
       "      <td>139</td>\n",
       "      <td>Male</td>\n",
       "      <td>True</td>\n",
       "      <td>False</td>\n",
       "    </tr>\n",
       "    <tr>\n",
       "      <th>73</th>\n",
       "      <td>65</td>\n",
       "      <td>False</td>\n",
       "      <td>True</td>\n",
       "      <td>50</td>\n",
       "      <td>False</td>\n",
       "      <td>149</td>\n",
       "      <td>1.30</td>\n",
       "      <td>137</td>\n",
       "      <td>Male</td>\n",
       "      <td>True</td>\n",
       "      <td>False</td>\n",
       "    </tr>\n",
       "    <tr>\n",
       "      <th>85</th>\n",
       "      <td>51</td>\n",
       "      <td>False</td>\n",
       "      <td>False</td>\n",
       "      <td>50</td>\n",
       "      <td>False</td>\n",
       "      <td>406</td>\n",
       "      <td>0.70</td>\n",
       "      <td>140</td>\n",
       "      <td>Male</td>\n",
       "      <td>False</td>\n",
       "      <td>False</td>\n",
       "    </tr>\n",
       "    <tr>\n",
       "      <th>102</th>\n",
       "      <td>80</td>\n",
       "      <td>False</td>\n",
       "      <td>False</td>\n",
       "      <td>25</td>\n",
       "      <td>False</td>\n",
       "      <td>149</td>\n",
       "      <td>1.10</td>\n",
       "      <td>144</td>\n",
       "      <td>Male</td>\n",
       "      <td>True</td>\n",
       "      <td>False</td>\n",
       "    </tr>\n",
       "    <tr>\n",
       "      <th>105</th>\n",
       "      <td>72</td>\n",
       "      <td>True</td>\n",
       "      <td>False</td>\n",
       "      <td>30</td>\n",
       "      <td>True</td>\n",
       "      <td>621</td>\n",
       "      <td>1.70</td>\n",
       "      <td>138</td>\n",
       "      <td>Female</td>\n",
       "      <td>True</td>\n",
       "      <td>True</td>\n",
       "    </tr>\n",
       "    <tr>\n",
       "      <th>109</th>\n",
       "      <td>45</td>\n",
       "      <td>False</td>\n",
       "      <td>True</td>\n",
       "      <td>35</td>\n",
       "      <td>False</td>\n",
       "      <td>850</td>\n",
       "      <td>1.30</td>\n",
       "      <td>142</td>\n",
       "      <td>Male</td>\n",
       "      <td>True</td>\n",
       "      <td>False</td>\n",
       "    </tr>\n",
       "    <tr>\n",
       "      <th>117</th>\n",
       "      <td>85</td>\n",
       "      <td>True</td>\n",
       "      <td>False</td>\n",
       "      <td>60</td>\n",
       "      <td>False</td>\n",
       "      <td>507</td>\n",
       "      <td>3.20</td>\n",
       "      <td>138</td>\n",
       "      <td>Female</td>\n",
       "      <td>False</td>\n",
       "      <td>False</td>\n",
       "    </tr>\n",
       "    <tr>\n",
       "      <th>123</th>\n",
       "      <td>60</td>\n",
       "      <td>True</td>\n",
       "      <td>False</td>\n",
       "      <td>30</td>\n",
       "      <td>True</td>\n",
       "      <td>127</td>\n",
       "      <td>0.90</td>\n",
       "      <td>145</td>\n",
       "      <td>Female</td>\n",
       "      <td>False</td>\n",
       "      <td>False</td>\n",
       "    </tr>\n",
       "    <tr>\n",
       "      <th>162</th>\n",
       "      <td>63</td>\n",
       "      <td>True</td>\n",
       "      <td>False</td>\n",
       "      <td>40</td>\n",
       "      <td>False</td>\n",
       "      <td>448</td>\n",
       "      <td>0.90</td>\n",
       "      <td>137</td>\n",
       "      <td>Male</td>\n",
       "      <td>True</td>\n",
       "      <td>False</td>\n",
       "    </tr>\n",
       "    <tr>\n",
       "      <th>163</th>\n",
       "      <td>50</td>\n",
       "      <td>True</td>\n",
       "      <td>True</td>\n",
       "      <td>35</td>\n",
       "      <td>False</td>\n",
       "      <td>75</td>\n",
       "      <td>0.90</td>\n",
       "      <td>142</td>\n",
       "      <td>Female</td>\n",
       "      <td>False</td>\n",
       "      <td>True</td>\n",
       "    </tr>\n",
       "    <tr>\n",
       "      <th>167</th>\n",
       "      <td>59</td>\n",
       "      <td>False</td>\n",
       "      <td>True</td>\n",
       "      <td>20</td>\n",
       "      <td>False</td>\n",
       "      <td>70</td>\n",
       "      <td>2.40</td>\n",
       "      <td>134</td>\n",
       "      <td>Male</td>\n",
       "      <td>False</td>\n",
       "      <td>True</td>\n",
       "    </tr>\n",
       "    <tr>\n",
       "      <th>176</th>\n",
       "      <td>69</td>\n",
       "      <td>False</td>\n",
       "      <td>False</td>\n",
       "      <td>40</td>\n",
       "      <td>False</td>\n",
       "      <td>105</td>\n",
       "      <td>1.00</td>\n",
       "      <td>135</td>\n",
       "      <td>Male</td>\n",
       "      <td>True</td>\n",
       "      <td>False</td>\n",
       "    </tr>\n",
       "    <tr>\n",
       "      <th>177</th>\n",
       "      <td>49</td>\n",
       "      <td>True</td>\n",
       "      <td>False</td>\n",
       "      <td>50</td>\n",
       "      <td>False</td>\n",
       "      <td>132</td>\n",
       "      <td>1.00</td>\n",
       "      <td>140</td>\n",
       "      <td>Female</td>\n",
       "      <td>False</td>\n",
       "      <td>False</td>\n",
       "    </tr>\n",
       "    <tr>\n",
       "      <th>194</th>\n",
       "      <td>45</td>\n",
       "      <td>False</td>\n",
       "      <td>False</td>\n",
       "      <td>20</td>\n",
       "      <td>True</td>\n",
       "      <td>126</td>\n",
       "      <td>1.60</td>\n",
       "      <td>135</td>\n",
       "      <td>Male</td>\n",
       "      <td>False</td>\n",
       "      <td>True</td>\n",
       "    </tr>\n",
       "    <tr>\n",
       "      <th>200</th>\n",
       "      <td>63</td>\n",
       "      <td>True</td>\n",
       "      <td>False</td>\n",
       "      <td>45</td>\n",
       "      <td>False</td>\n",
       "      <td>73</td>\n",
       "      <td>0.70</td>\n",
       "      <td>137</td>\n",
       "      <td>Male</td>\n",
       "      <td>False</td>\n",
       "      <td>False</td>\n",
       "    </tr>\n",
       "    <tr>\n",
       "      <th>211</th>\n",
       "      <td>50</td>\n",
       "      <td>False</td>\n",
       "      <td>False</td>\n",
       "      <td>62</td>\n",
       "      <td>True</td>\n",
       "      <td>147</td>\n",
       "      <td>0.80</td>\n",
       "      <td>140</td>\n",
       "      <td>Male</td>\n",
       "      <td>True</td>\n",
       "      <td>False</td>\n",
       "    </tr>\n",
       "    <tr>\n",
       "      <th>212</th>\n",
       "      <td>78</td>\n",
       "      <td>False</td>\n",
       "      <td>False</td>\n",
       "      <td>50</td>\n",
       "      <td>False</td>\n",
       "      <td>481</td>\n",
       "      <td>1.40</td>\n",
       "      <td>138</td>\n",
       "      <td>Male</td>\n",
       "      <td>True</td>\n",
       "      <td>False</td>\n",
       "    </tr>\n",
       "    <tr>\n",
       "      <th>223</th>\n",
       "      <td>47</td>\n",
       "      <td>False</td>\n",
       "      <td>False</td>\n",
       "      <td>25</td>\n",
       "      <td>False</td>\n",
       "      <td>130</td>\n",
       "      <td>0.80</td>\n",
       "      <td>134</td>\n",
       "      <td>Male</td>\n",
       "      <td>False</td>\n",
       "      <td>False</td>\n",
       "    </tr>\n",
       "    <tr>\n",
       "      <th>224</th>\n",
       "      <td>58</td>\n",
       "      <td>False</td>\n",
       "      <td>True</td>\n",
       "      <td>25</td>\n",
       "      <td>False</td>\n",
       "      <td>504</td>\n",
       "      <td>1.00</td>\n",
       "      <td>138</td>\n",
       "      <td>Male</td>\n",
       "      <td>False</td>\n",
       "      <td>False</td>\n",
       "    </tr>\n",
       "    <tr>\n",
       "      <th>227</th>\n",
       "      <td>55</td>\n",
       "      <td>True</td>\n",
       "      <td>False</td>\n",
       "      <td>35</td>\n",
       "      <td>True</td>\n",
       "      <td>141</td>\n",
       "      <td>1.00</td>\n",
       "      <td>140</td>\n",
       "      <td>Male</td>\n",
       "      <td>False</td>\n",
       "      <td>False</td>\n",
       "    </tr>\n",
       "    <tr>\n",
       "      <th>230</th>\n",
       "      <td>60</td>\n",
       "      <td>False</td>\n",
       "      <td>False</td>\n",
       "      <td>30</td>\n",
       "      <td>False</td>\n",
       "      <td>62</td>\n",
       "      <td>1.70</td>\n",
       "      <td>127</td>\n",
       "      <td>Female</td>\n",
       "      <td>False</td>\n",
       "      <td>True</td>\n",
       "    </tr>\n",
       "    <tr>\n",
       "      <th>235</th>\n",
       "      <td>77</td>\n",
       "      <td>True</td>\n",
       "      <td>False</td>\n",
       "      <td>50</td>\n",
       "      <td>True</td>\n",
       "      <td>406</td>\n",
       "      <td>1.10</td>\n",
       "      <td>137</td>\n",
       "      <td>Male</td>\n",
       "      <td>False</td>\n",
       "      <td>False</td>\n",
       "    </tr>\n",
       "    <tr>\n",
       "      <th>240</th>\n",
       "      <td>70</td>\n",
       "      <td>False</td>\n",
       "      <td>True</td>\n",
       "      <td>35</td>\n",
       "      <td>True</td>\n",
       "      <td>533</td>\n",
       "      <td>1.30</td>\n",
       "      <td>139</td>\n",
       "      <td>Female</td>\n",
       "      <td>False</td>\n",
       "      <td>False</td>\n",
       "    </tr>\n",
       "    <tr>\n",
       "      <th>250</th>\n",
       "      <td>50</td>\n",
       "      <td>False</td>\n",
       "      <td>False</td>\n",
       "      <td>30</td>\n",
       "      <td>True</td>\n",
       "      <td>404</td>\n",
       "      <td>0.50</td>\n",
       "      <td>139</td>\n",
       "      <td>Female</td>\n",
       "      <td>False</td>\n",
       "      <td>False</td>\n",
       "    </tr>\n",
       "    <tr>\n",
       "      <th>264</th>\n",
       "      <td>61</td>\n",
       "      <td>False</td>\n",
       "      <td>True</td>\n",
       "      <td>38</td>\n",
       "      <td>False</td>\n",
       "      <td>147</td>\n",
       "      <td>1.20</td>\n",
       "      <td>141</td>\n",
       "      <td>Male</td>\n",
       "      <td>False</td>\n",
       "      <td>False</td>\n",
       "    </tr>\n",
       "    <tr>\n",
       "      <th>267</th>\n",
       "      <td>56</td>\n",
       "      <td>True</td>\n",
       "      <td>True</td>\n",
       "      <td>38</td>\n",
       "      <td>False</td>\n",
       "      <td>133</td>\n",
       "      <td>1.70</td>\n",
       "      <td>140</td>\n",
       "      <td>Male</td>\n",
       "      <td>False</td>\n",
       "      <td>False</td>\n",
       "    </tr>\n",
       "    <tr>\n",
       "      <th>275</th>\n",
       "      <td>45</td>\n",
       "      <td>False</td>\n",
       "      <td>False</td>\n",
       "      <td>38</td>\n",
       "      <td>True</td>\n",
       "      <td>422</td>\n",
       "      <td>0.80</td>\n",
       "      <td>137</td>\n",
       "      <td>Female</td>\n",
       "      <td>False</td>\n",
       "      <td>False</td>\n",
       "    </tr>\n",
       "    <tr>\n",
       "      <th>277</th>\n",
       "      <td>70</td>\n",
       "      <td>False</td>\n",
       "      <td>True</td>\n",
       "      <td>38</td>\n",
       "      <td>False</td>\n",
       "      <td>25</td>\n",
       "      <td>1.10</td>\n",
       "      <td>140</td>\n",
       "      <td>Male</td>\n",
       "      <td>False</td>\n",
       "      <td>False</td>\n",
       "    </tr>\n",
       "    <tr>\n",
       "      <th>279</th>\n",
       "      <td>55</td>\n",
       "      <td>False</td>\n",
       "      <td>True</td>\n",
       "      <td>38</td>\n",
       "      <td>False</td>\n",
       "      <td>451</td>\n",
       "      <td>1.30</td>\n",
       "      <td>136</td>\n",
       "      <td>Female</td>\n",
       "      <td>False</td>\n",
       "      <td>False</td>\n",
       "    </tr>\n",
       "    <tr>\n",
       "      <th>281</th>\n",
       "      <td>70</td>\n",
       "      <td>False</td>\n",
       "      <td>False</td>\n",
       "      <td>40</td>\n",
       "      <td>False</td>\n",
       "      <td>51</td>\n",
       "      <td>2.70</td>\n",
       "      <td>136</td>\n",
       "      <td>Male</td>\n",
       "      <td>True</td>\n",
       "      <td>False</td>\n",
       "    </tr>\n",
       "    <tr>\n",
       "      <th>287</th>\n",
       "      <td>45</td>\n",
       "      <td>False</td>\n",
       "      <td>True</td>\n",
       "      <td>55</td>\n",
       "      <td>False</td>\n",
       "      <td>543</td>\n",
       "      <td>1.00</td>\n",
       "      <td>132</td>\n",
       "      <td>Female</td>\n",
       "      <td>False</td>\n",
       "      <td>False</td>\n",
       "    </tr>\n",
       "    <tr>\n",
       "      <th>291</th>\n",
       "      <td>60</td>\n",
       "      <td>False</td>\n",
       "      <td>False</td>\n",
       "      <td>35</td>\n",
       "      <td>False</td>\n",
       "      <td>133</td>\n",
       "      <td>1.40</td>\n",
       "      <td>139</td>\n",
       "      <td>Male</td>\n",
       "      <td>False</td>\n",
       "      <td>False</td>\n",
       "    </tr>\n",
       "    <tr>\n",
       "      <th>296</th>\n",
       "      <td>45</td>\n",
       "      <td>False</td>\n",
       "      <td>True</td>\n",
       "      <td>60</td>\n",
       "      <td>False</td>\n",
       "      <td>742</td>\n",
       "      <td>0.80</td>\n",
       "      <td>138</td>\n",
       "      <td>Female</td>\n",
       "      <td>False</td>\n",
       "      <td>False</td>\n",
       "    </tr>\n",
       "    <tr>\n",
       "      <th>297</th>\n",
       "      <td>45</td>\n",
       "      <td>False</td>\n",
       "      <td>False</td>\n",
       "      <td>38</td>\n",
       "      <td>False</td>\n",
       "      <td>140</td>\n",
       "      <td>1.40</td>\n",
       "      <td>140</td>\n",
       "      <td>Male</td>\n",
       "      <td>True</td>\n",
       "      <td>False</td>\n",
       "    </tr>\n",
       "  </tbody>\n",
       "</table>\n",
       "</div>\n",
       "      <button class=\"colab-df-convert\" onclick=\"convertToInteractive('df-9f371c00-8f7b-4b36-aba9-76ccc3034e0e')\"\n",
       "              title=\"Convert this dataframe to an interactive table.\"\n",
       "              style=\"display:none;\">\n",
       "        \n",
       "  <svg xmlns=\"http://www.w3.org/2000/svg\" height=\"24px\"viewBox=\"0 0 24 24\"\n",
       "       width=\"24px\">\n",
       "    <path d=\"M0 0h24v24H0V0z\" fill=\"none\"/>\n",
       "    <path d=\"M18.56 5.44l.94 2.06.94-2.06 2.06-.94-2.06-.94-.94-2.06-.94 2.06-2.06.94zm-11 1L8.5 8.5l.94-2.06 2.06-.94-2.06-.94L8.5 2.5l-.94 2.06-2.06.94zm10 10l.94 2.06.94-2.06 2.06-.94-2.06-.94-.94-2.06-.94 2.06-2.06.94z\"/><path d=\"M17.41 7.96l-1.37-1.37c-.4-.4-.92-.59-1.43-.59-.52 0-1.04.2-1.43.59L10.3 9.45l-7.72 7.72c-.78.78-.78 2.05 0 2.83L4 21.41c.39.39.9.59 1.41.59.51 0 1.02-.2 1.41-.59l7.78-7.78 2.81-2.81c.8-.78.8-2.07 0-2.86zM5.41 20L4 18.59l7.72-7.72 1.47 1.35L5.41 20z\"/>\n",
       "  </svg>\n",
       "      </button>\n",
       "      \n",
       "  <style>\n",
       "    .colab-df-container {\n",
       "      display:flex;\n",
       "      flex-wrap:wrap;\n",
       "      gap: 12px;\n",
       "    }\n",
       "\n",
       "    .colab-df-convert {\n",
       "      background-color: #E8F0FE;\n",
       "      border: none;\n",
       "      border-radius: 50%;\n",
       "      cursor: pointer;\n",
       "      display: none;\n",
       "      fill: #1967D2;\n",
       "      height: 32px;\n",
       "      padding: 0 0 0 0;\n",
       "      width: 32px;\n",
       "    }\n",
       "\n",
       "    .colab-df-convert:hover {\n",
       "      background-color: #E2EBFA;\n",
       "      box-shadow: 0px 1px 2px rgba(60, 64, 67, 0.3), 0px 1px 3px 1px rgba(60, 64, 67, 0.15);\n",
       "      fill: #174EA6;\n",
       "    }\n",
       "\n",
       "    [theme=dark] .colab-df-convert {\n",
       "      background-color: #3B4455;\n",
       "      fill: #D2E3FC;\n",
       "    }\n",
       "\n",
       "    [theme=dark] .colab-df-convert:hover {\n",
       "      background-color: #434B5C;\n",
       "      box-shadow: 0px 1px 3px 1px rgba(0, 0, 0, 0.15);\n",
       "      filter: drop-shadow(0px 1px 2px rgba(0, 0, 0, 0.3));\n",
       "      fill: #FFFFFF;\n",
       "    }\n",
       "  </style>\n",
       "\n",
       "      <script>\n",
       "        const buttonEl =\n",
       "          document.querySelector('#df-9f371c00-8f7b-4b36-aba9-76ccc3034e0e button.colab-df-convert');\n",
       "        buttonEl.style.display =\n",
       "          google.colab.kernel.accessAllowed ? 'block' : 'none';\n",
       "\n",
       "        async function convertToInteractive(key) {\n",
       "          const element = document.querySelector('#df-9f371c00-8f7b-4b36-aba9-76ccc3034e0e');\n",
       "          const dataTable =\n",
       "            await google.colab.kernel.invokeFunction('convertToInteractive',\n",
       "                                                     [key], {});\n",
       "          if (!dataTable) return;\n",
       "\n",
       "          const docLinkHtml = 'Like what you see? Visit the ' +\n",
       "            '<a target=\"_blank\" href=https://colab.research.google.com/notebooks/data_table.ipynb>data table notebook</a>'\n",
       "            + ' to learn more about interactive tables.';\n",
       "          element.innerHTML = '';\n",
       "          dataTable['output_type'] = 'display_data';\n",
       "          await google.colab.output.renderOutput(dataTable, element);\n",
       "          const docLink = document.createElement('div');\n",
       "          docLink.innerHTML = docLinkHtml;\n",
       "          element.appendChild(docLink);\n",
       "        }\n",
       "      </script>\n",
       "    </div>\n",
       "  </div>\n",
       "  "
      ],
      "text/plain": [
       "     age  anaemia  diabetes  ejection_fraction  high_blood_pressure  \\\n",
       "6     75     True     False                 15                False   \n",
       "7     60     True      True                 60                False   \n",
       "12    45     True     False                 30                False   \n",
       "14    49     True     False                 30                 True   \n",
       "15    82     True     False                 50                False   \n",
       "19    48     True      True                 55                False   \n",
       "25    80    False      True                 38                False   \n",
       "47    60    False      True                 38                 True   \n",
       "48    80     True     False                 20                 True   \n",
       "51    53     True     False                 20                 True   \n",
       "55    95     True     False                 30                False   \n",
       "65    60    False     False                 20                False   \n",
       "69    65    False      True                 25                False   \n",
       "71    58    False      True                 35                False   \n",
       "73    65    False      True                 50                False   \n",
       "85    51    False     False                 50                False   \n",
       "102   80    False     False                 25                False   \n",
       "105   72     True     False                 30                 True   \n",
       "109   45    False      True                 35                False   \n",
       "117   85     True     False                 60                False   \n",
       "123   60     True     False                 30                 True   \n",
       "162   63     True     False                 40                False   \n",
       "163   50     True      True                 35                False   \n",
       "167   59    False      True                 20                False   \n",
       "176   69    False     False                 40                False   \n",
       "177   49     True     False                 50                False   \n",
       "194   45    False     False                 20                 True   \n",
       "200   63     True     False                 45                False   \n",
       "211   50    False     False                 62                 True   \n",
       "212   78    False     False                 50                False   \n",
       "223   47    False     False                 25                False   \n",
       "224   58    False      True                 25                False   \n",
       "227   55     True     False                 35                 True   \n",
       "230   60    False     False                 30                False   \n",
       "235   77     True     False                 50                 True   \n",
       "240   70    False      True                 35                 True   \n",
       "250   50    False     False                 30                 True   \n",
       "264   61    False      True                 38                False   \n",
       "267   56     True      True                 38                False   \n",
       "275   45    False     False                 38                 True   \n",
       "277   70    False      True                 38                False   \n",
       "279   55    False      True                 38                False   \n",
       "281   70    False     False                 40                False   \n",
       "287   45    False      True                 55                False   \n",
       "291   60    False     False                 35                False   \n",
       "296   45    False      True                 60                False   \n",
       "297   45    False     False                 38                False   \n",
       "\n",
       "     platelets  serum_creatinine  serum_sodium     sex  smoking  patient_dead  \n",
       "6          127              1.20           137    Male    False          True  \n",
       "7          454              1.10           131    Male     True          True  \n",
       "12         136              1.10           137    Male    False          True  \n",
       "14         427              1.00           138  Female    False         False  \n",
       "15          47              1.30           136    Male    False          True  \n",
       "19          87              1.90           121  Female    False          True  \n",
       "25         149              1.90           144    Male     True          True  \n",
       "47         451              0.60           138    Male     True          True  \n",
       "48         140              4.40           133    Male    False          True  \n",
       "51         418              1.40           139  Female    False          True  \n",
       "55         461              2.00           132    Male    False          True  \n",
       "65         119              2.90           127    Male     True          True  \n",
       "69         497              1.83           135    Male    False          True  \n",
       "71         122              0.90           139    Male     True         False  \n",
       "73         149              1.30           137    Male     True         False  \n",
       "85         406              0.70           140    Male    False         False  \n",
       "102        149              1.10           144    Male     True         False  \n",
       "105        621              1.70           138  Female     True          True  \n",
       "109        850              1.30           142    Male     True         False  \n",
       "117        507              3.20           138  Female    False         False  \n",
       "123        127              0.90           145  Female    False         False  \n",
       "162        448              0.90           137    Male     True         False  \n",
       "163         75              0.90           142  Female    False          True  \n",
       "167         70              2.40           134    Male    False          True  \n",
       "176        105              1.00           135    Male     True         False  \n",
       "177        132              1.00           140  Female    False         False  \n",
       "194        126              1.60           135    Male    False          True  \n",
       "200         73              0.70           137    Male    False         False  \n",
       "211        147              0.80           140    Male     True         False  \n",
       "212        481              1.40           138    Male     True         False  \n",
       "223        130              0.80           134    Male    False         False  \n",
       "224        504              1.00           138    Male    False         False  \n",
       "227        141              1.00           140    Male    False         False  \n",
       "230         62              1.70           127  Female    False          True  \n",
       "235        406              1.10           137    Male    False         False  \n",
       "240        533              1.30           139  Female    False         False  \n",
       "250        404              0.50           139  Female    False         False  \n",
       "264        147              1.20           141    Male    False         False  \n",
       "267        133              1.70           140    Male    False         False  \n",
       "275        422              0.80           137  Female    False         False  \n",
       "277         25              1.10           140    Male    False         False  \n",
       "279        451              1.30           136  Female    False         False  \n",
       "281         51              2.70           136    Male     True         False  \n",
       "287        543              1.00           132  Female    False         False  \n",
       "291        133              1.40           139    Male    False         False  \n",
       "296        742              0.80           138  Female    False         False  \n",
       "297        140              1.40           140    Male     True         False  "
      ]
     },
     "execution_count": 51,
     "metadata": {},
     "output_type": "execute_result"
    }
   ],
   "source": [
    "#Abnormal Platelets Count(abn_platelets)\n",
    "abn_platelets = heart_failure_df[(heart_failure_df.platelets < 150) | (heart_failure_df.platelets >400)]\n",
    "abn_platelets"
   ]
  },
  {
   "cell_type": "markdown",
   "metadata": {
    "id": "nP5LG4z2TzR9"
   },
   "source": [
    "The normal value of Platelets Count ranges from 150 - 400 kilo-platelets / mcL. Here, we found that there are 47 patients with abnormal Platelets Count"
   ]
  },
  {
   "cell_type": "markdown",
   "metadata": {
    "id": "ymASv1VwT9Ns"
   },
   "source": [
    "#### Number of Patients with Abnormal Creatinine level in the blood"
   ]
  },
  {
   "cell_type": "code",
   "execution_count": 52,
   "metadata": {
    "colab": {
     "base_uri": "https://localhost:8080/",
     "height": 35
    },
    "executionInfo": {
     "elapsed": 732,
     "status": "ok",
     "timestamp": 1663868871276,
     "user": {
      "displayName": "Avneet Kumar",
      "userId": "08327085032726843331"
     },
     "user_tz": -330
    },
    "id": "suBZNFwOTkZ3",
    "outputId": "4eeb7c36-2559-4068-f053-482b6bbbe17f"
   },
   "outputs": [
    {
     "data": {
      "application/vnd.google.colaboratory.intrinsic+json": {
       "type": "string"
      },
      "text/plain": [
       "'0.6 - 1.2 mg/dL'"
      ]
     },
     "execution_count": 52,
     "metadata": {},
     "output_type": "execute_result"
    }
   ],
   "source": [
    "#find the normal value of Creatinine level in the blood \n",
    "column_details_df.normal_value['serum_creatinine']"
   ]
  },
  {
   "cell_type": "code",
   "execution_count": 53,
   "metadata": {
    "colab": {
     "base_uri": "https://localhost:8080/",
     "height": 488
    },
    "executionInfo": {
     "elapsed": 673,
     "status": "ok",
     "timestamp": 1663868957579,
     "user": {
      "displayName": "Avneet Kumar",
      "userId": "08327085032726843331"
     },
     "user_tz": -330
    },
    "id": "qzfltHseTkW3",
    "outputId": "3a4e6dad-ca1e-478c-a00e-4ae86cb755b4"
   },
   "outputs": [
    {
     "data": {
      "text/html": [
       "\n",
       "  <div id=\"df-faadaf94-9563-4edd-969e-2e76fe35334a\">\n",
       "    <div class=\"colab-df-container\">\n",
       "      <div>\n",
       "<style scoped>\n",
       "    .dataframe tbody tr th:only-of-type {\n",
       "        vertical-align: middle;\n",
       "    }\n",
       "\n",
       "    .dataframe tbody tr th {\n",
       "        vertical-align: top;\n",
       "    }\n",
       "\n",
       "    .dataframe thead th {\n",
       "        text-align: right;\n",
       "    }\n",
       "</style>\n",
       "<table border=\"1\" class=\"dataframe\">\n",
       "  <thead>\n",
       "    <tr style=\"text-align: right;\">\n",
       "      <th></th>\n",
       "      <th>age</th>\n",
       "      <th>anaemia</th>\n",
       "      <th>diabetes</th>\n",
       "      <th>ejection_fraction</th>\n",
       "      <th>high_blood_pressure</th>\n",
       "      <th>platelets</th>\n",
       "      <th>serum_creatinine</th>\n",
       "      <th>serum_sodium</th>\n",
       "      <th>sex</th>\n",
       "      <th>smoking</th>\n",
       "      <th>patient_dead</th>\n",
       "    </tr>\n",
       "  </thead>\n",
       "  <tbody>\n",
       "    <tr>\n",
       "      <th>0</th>\n",
       "      <td>75</td>\n",
       "      <td>False</td>\n",
       "      <td>False</td>\n",
       "      <td>20</td>\n",
       "      <td>True</td>\n",
       "      <td>265</td>\n",
       "      <td>1.9</td>\n",
       "      <td>130</td>\n",
       "      <td>Male</td>\n",
       "      <td>False</td>\n",
       "      <td>True</td>\n",
       "    </tr>\n",
       "    <tr>\n",
       "      <th>2</th>\n",
       "      <td>65</td>\n",
       "      <td>False</td>\n",
       "      <td>False</td>\n",
       "      <td>20</td>\n",
       "      <td>False</td>\n",
       "      <td>162</td>\n",
       "      <td>1.3</td>\n",
       "      <td>129</td>\n",
       "      <td>Male</td>\n",
       "      <td>True</td>\n",
       "      <td>True</td>\n",
       "    </tr>\n",
       "    <tr>\n",
       "      <th>3</th>\n",
       "      <td>50</td>\n",
       "      <td>True</td>\n",
       "      <td>False</td>\n",
       "      <td>20</td>\n",
       "      <td>False</td>\n",
       "      <td>210</td>\n",
       "      <td>1.9</td>\n",
       "      <td>137</td>\n",
       "      <td>Male</td>\n",
       "      <td>False</td>\n",
       "      <td>True</td>\n",
       "    </tr>\n",
       "    <tr>\n",
       "      <th>4</th>\n",
       "      <td>65</td>\n",
       "      <td>True</td>\n",
       "      <td>True</td>\n",
       "      <td>20</td>\n",
       "      <td>False</td>\n",
       "      <td>327</td>\n",
       "      <td>2.7</td>\n",
       "      <td>116</td>\n",
       "      <td>Female</td>\n",
       "      <td>False</td>\n",
       "      <td>True</td>\n",
       "    </tr>\n",
       "    <tr>\n",
       "      <th>5</th>\n",
       "      <td>90</td>\n",
       "      <td>True</td>\n",
       "      <td>False</td>\n",
       "      <td>40</td>\n",
       "      <td>True</td>\n",
       "      <td>204</td>\n",
       "      <td>2.1</td>\n",
       "      <td>132</td>\n",
       "      <td>Male</td>\n",
       "      <td>True</td>\n",
       "      <td>True</td>\n",
       "    </tr>\n",
       "    <tr>\n",
       "      <th>...</th>\n",
       "      <td>...</td>\n",
       "      <td>...</td>\n",
       "      <td>...</td>\n",
       "      <td>...</td>\n",
       "      <td>...</td>\n",
       "      <td>...</td>\n",
       "      <td>...</td>\n",
       "      <td>...</td>\n",
       "      <td>...</td>\n",
       "      <td>...</td>\n",
       "      <td>...</td>\n",
       "    </tr>\n",
       "    <tr>\n",
       "      <th>282</th>\n",
       "      <td>42</td>\n",
       "      <td>False</td>\n",
       "      <td>False</td>\n",
       "      <td>30</td>\n",
       "      <td>False</td>\n",
       "      <td>215</td>\n",
       "      <td>3.8</td>\n",
       "      <td>128</td>\n",
       "      <td>Male</td>\n",
       "      <td>True</td>\n",
       "      <td>False</td>\n",
       "    </tr>\n",
       "    <tr>\n",
       "      <th>286</th>\n",
       "      <td>60</td>\n",
       "      <td>False</td>\n",
       "      <td>False</td>\n",
       "      <td>35</td>\n",
       "      <td>False</td>\n",
       "      <td>279</td>\n",
       "      <td>1.7</td>\n",
       "      <td>140</td>\n",
       "      <td>Male</td>\n",
       "      <td>False</td>\n",
       "      <td>False</td>\n",
       "    </tr>\n",
       "    <tr>\n",
       "      <th>291</th>\n",
       "      <td>60</td>\n",
       "      <td>False</td>\n",
       "      <td>False</td>\n",
       "      <td>35</td>\n",
       "      <td>False</td>\n",
       "      <td>133</td>\n",
       "      <td>1.4</td>\n",
       "      <td>139</td>\n",
       "      <td>Male</td>\n",
       "      <td>False</td>\n",
       "      <td>False</td>\n",
       "    </tr>\n",
       "    <tr>\n",
       "      <th>297</th>\n",
       "      <td>45</td>\n",
       "      <td>False</td>\n",
       "      <td>False</td>\n",
       "      <td>38</td>\n",
       "      <td>False</td>\n",
       "      <td>140</td>\n",
       "      <td>1.4</td>\n",
       "      <td>140</td>\n",
       "      <td>Male</td>\n",
       "      <td>True</td>\n",
       "      <td>False</td>\n",
       "    </tr>\n",
       "    <tr>\n",
       "      <th>298</th>\n",
       "      <td>50</td>\n",
       "      <td>False</td>\n",
       "      <td>False</td>\n",
       "      <td>45</td>\n",
       "      <td>False</td>\n",
       "      <td>395</td>\n",
       "      <td>1.6</td>\n",
       "      <td>136</td>\n",
       "      <td>Male</td>\n",
       "      <td>True</td>\n",
       "      <td>False</td>\n",
       "    </tr>\n",
       "  </tbody>\n",
       "</table>\n",
       "<p>102 rows × 11 columns</p>\n",
       "</div>\n",
       "      <button class=\"colab-df-convert\" onclick=\"convertToInteractive('df-faadaf94-9563-4edd-969e-2e76fe35334a')\"\n",
       "              title=\"Convert this dataframe to an interactive table.\"\n",
       "              style=\"display:none;\">\n",
       "        \n",
       "  <svg xmlns=\"http://www.w3.org/2000/svg\" height=\"24px\"viewBox=\"0 0 24 24\"\n",
       "       width=\"24px\">\n",
       "    <path d=\"M0 0h24v24H0V0z\" fill=\"none\"/>\n",
       "    <path d=\"M18.56 5.44l.94 2.06.94-2.06 2.06-.94-2.06-.94-.94-2.06-.94 2.06-2.06.94zm-11 1L8.5 8.5l.94-2.06 2.06-.94-2.06-.94L8.5 2.5l-.94 2.06-2.06.94zm10 10l.94 2.06.94-2.06 2.06-.94-2.06-.94-.94-2.06-.94 2.06-2.06.94z\"/><path d=\"M17.41 7.96l-1.37-1.37c-.4-.4-.92-.59-1.43-.59-.52 0-1.04.2-1.43.59L10.3 9.45l-7.72 7.72c-.78.78-.78 2.05 0 2.83L4 21.41c.39.39.9.59 1.41.59.51 0 1.02-.2 1.41-.59l7.78-7.78 2.81-2.81c.8-.78.8-2.07 0-2.86zM5.41 20L4 18.59l7.72-7.72 1.47 1.35L5.41 20z\"/>\n",
       "  </svg>\n",
       "      </button>\n",
       "      \n",
       "  <style>\n",
       "    .colab-df-container {\n",
       "      display:flex;\n",
       "      flex-wrap:wrap;\n",
       "      gap: 12px;\n",
       "    }\n",
       "\n",
       "    .colab-df-convert {\n",
       "      background-color: #E8F0FE;\n",
       "      border: none;\n",
       "      border-radius: 50%;\n",
       "      cursor: pointer;\n",
       "      display: none;\n",
       "      fill: #1967D2;\n",
       "      height: 32px;\n",
       "      padding: 0 0 0 0;\n",
       "      width: 32px;\n",
       "    }\n",
       "\n",
       "    .colab-df-convert:hover {\n",
       "      background-color: #E2EBFA;\n",
       "      box-shadow: 0px 1px 2px rgba(60, 64, 67, 0.3), 0px 1px 3px 1px rgba(60, 64, 67, 0.15);\n",
       "      fill: #174EA6;\n",
       "    }\n",
       "\n",
       "    [theme=dark] .colab-df-convert {\n",
       "      background-color: #3B4455;\n",
       "      fill: #D2E3FC;\n",
       "    }\n",
       "\n",
       "    [theme=dark] .colab-df-convert:hover {\n",
       "      background-color: #434B5C;\n",
       "      box-shadow: 0px 1px 3px 1px rgba(0, 0, 0, 0.15);\n",
       "      filter: drop-shadow(0px 1px 2px rgba(0, 0, 0, 0.3));\n",
       "      fill: #FFFFFF;\n",
       "    }\n",
       "  </style>\n",
       "\n",
       "      <script>\n",
       "        const buttonEl =\n",
       "          document.querySelector('#df-faadaf94-9563-4edd-969e-2e76fe35334a button.colab-df-convert');\n",
       "        buttonEl.style.display =\n",
       "          google.colab.kernel.accessAllowed ? 'block' : 'none';\n",
       "\n",
       "        async function convertToInteractive(key) {\n",
       "          const element = document.querySelector('#df-faadaf94-9563-4edd-969e-2e76fe35334a');\n",
       "          const dataTable =\n",
       "            await google.colab.kernel.invokeFunction('convertToInteractive',\n",
       "                                                     [key], {});\n",
       "          if (!dataTable) return;\n",
       "\n",
       "          const docLinkHtml = 'Like what you see? Visit the ' +\n",
       "            '<a target=\"_blank\" href=https://colab.research.google.com/notebooks/data_table.ipynb>data table notebook</a>'\n",
       "            + ' to learn more about interactive tables.';\n",
       "          element.innerHTML = '';\n",
       "          dataTable['output_type'] = 'display_data';\n",
       "          await google.colab.output.renderOutput(dataTable, element);\n",
       "          const docLink = document.createElement('div');\n",
       "          docLink.innerHTML = docLinkHtml;\n",
       "          element.appendChild(docLink);\n",
       "        }\n",
       "      </script>\n",
       "    </div>\n",
       "  </div>\n",
       "  "
      ],
      "text/plain": [
       "     age  anaemia  diabetes  ejection_fraction  high_blood_pressure  \\\n",
       "0     75    False     False                 20                 True   \n",
       "2     65    False     False                 20                False   \n",
       "3     50     True     False                 20                False   \n",
       "4     65     True      True                 20                False   \n",
       "5     90     True     False                 40                 True   \n",
       "..   ...      ...       ...                ...                  ...   \n",
       "282   42    False     False                 30                False   \n",
       "286   60    False     False                 35                False   \n",
       "291   60    False     False                 35                False   \n",
       "297   45    False     False                 38                False   \n",
       "298   50    False     False                 45                False   \n",
       "\n",
       "     platelets  serum_creatinine  serum_sodium     sex  smoking  patient_dead  \n",
       "0          265               1.9           130    Male    False          True  \n",
       "2          162               1.3           129    Male     True          True  \n",
       "3          210               1.9           137    Male    False          True  \n",
       "4          327               2.7           116  Female    False          True  \n",
       "5          204               2.1           132    Male     True          True  \n",
       "..         ...               ...           ...     ...      ...           ...  \n",
       "282        215               3.8           128    Male     True         False  \n",
       "286        279               1.7           140    Male    False         False  \n",
       "291        133               1.4           139    Male    False         False  \n",
       "297        140               1.4           140    Male     True         False  \n",
       "298        395               1.6           136    Male     True         False  \n",
       "\n",
       "[102 rows x 11 columns]"
      ]
     },
     "execution_count": 53,
     "metadata": {},
     "output_type": "execute_result"
    }
   ],
   "source": [
    "#Abnormal Creatinine level in the blood(abn_creatinine)\n",
    "abn_creatinine = heart_failure_df[(heart_failure_df.serum_creatinine < 0.6) | (heart_failure_df.serum_creatinine >1.2)]\n",
    "abn_creatinine"
   ]
  },
  {
   "cell_type": "markdown",
   "metadata": {
    "id": "SmCY3vCoUiD9"
   },
   "source": [
    "The normal value of Platelets Count ranges from 0.6 - 1.2 mg/dL. Here, we found that there are 102 patients with abnormal Creatinine level in the blood."
   ]
  },
  {
   "cell_type": "markdown",
   "metadata": {
    "id": "8F869dk0UlQN"
   },
   "source": [
    "#### Number of Patients with Abnormal Sodium level in the blood"
   ]
  },
  {
   "cell_type": "code",
   "execution_count": 54,
   "metadata": {
    "colab": {
     "base_uri": "https://localhost:8080/",
     "height": 35
    },
    "executionInfo": {
     "elapsed": 481,
     "status": "ok",
     "timestamp": 1663869112064,
     "user": {
      "displayName": "Avneet Kumar",
      "userId": "08327085032726843331"
     },
     "user_tz": -330
    },
    "id": "_Xj5_UamRtGt",
    "outputId": "c37f158b-75d3-4d95-b43a-03fbc8fbd85d"
   },
   "outputs": [
    {
     "data": {
      "application/vnd.google.colaboratory.intrinsic+json": {
       "type": "string"
      },
      "text/plain": [
       "'135 - 145 mEq /L'"
      ]
     },
     "execution_count": 54,
     "metadata": {},
     "output_type": "execute_result"
    }
   ],
   "source": [
    "#find the normal value of Sodium level in the blood \n",
    "column_details_df.normal_value['serum_sodium']"
   ]
  },
  {
   "cell_type": "code",
   "execution_count": 55,
   "metadata": {
    "colab": {
     "base_uri": "https://localhost:8080/",
     "height": 488
    },
    "executionInfo": {
     "elapsed": 714,
     "status": "ok",
     "timestamp": 1663869144903,
     "user": {
      "displayName": "Avneet Kumar",
      "userId": "08327085032726843331"
     },
     "user_tz": -330
    },
    "id": "MerzOFESRtDR",
    "outputId": "c34792ae-4d36-4d86-c622-4cebd771df39"
   },
   "outputs": [
    {
     "data": {
      "text/html": [
       "\n",
       "  <div id=\"df-0365391d-73bf-4a3a-91dd-fb4044c7bb16\">\n",
       "    <div class=\"colab-df-container\">\n",
       "      <div>\n",
       "<style scoped>\n",
       "    .dataframe tbody tr th:only-of-type {\n",
       "        vertical-align: middle;\n",
       "    }\n",
       "\n",
       "    .dataframe tbody tr th {\n",
       "        vertical-align: top;\n",
       "    }\n",
       "\n",
       "    .dataframe thead th {\n",
       "        text-align: right;\n",
       "    }\n",
       "</style>\n",
       "<table border=\"1\" class=\"dataframe\">\n",
       "  <thead>\n",
       "    <tr style=\"text-align: right;\">\n",
       "      <th></th>\n",
       "      <th>age</th>\n",
       "      <th>anaemia</th>\n",
       "      <th>diabetes</th>\n",
       "      <th>ejection_fraction</th>\n",
       "      <th>high_blood_pressure</th>\n",
       "      <th>platelets</th>\n",
       "      <th>serum_creatinine</th>\n",
       "      <th>serum_sodium</th>\n",
       "      <th>sex</th>\n",
       "      <th>smoking</th>\n",
       "      <th>patient_dead</th>\n",
       "    </tr>\n",
       "  </thead>\n",
       "  <tbody>\n",
       "    <tr>\n",
       "      <th>0</th>\n",
       "      <td>75</td>\n",
       "      <td>False</td>\n",
       "      <td>False</td>\n",
       "      <td>20</td>\n",
       "      <td>True</td>\n",
       "      <td>265</td>\n",
       "      <td>1.9</td>\n",
       "      <td>130</td>\n",
       "      <td>Male</td>\n",
       "      <td>False</td>\n",
       "      <td>True</td>\n",
       "    </tr>\n",
       "    <tr>\n",
       "      <th>2</th>\n",
       "      <td>65</td>\n",
       "      <td>False</td>\n",
       "      <td>False</td>\n",
       "      <td>20</td>\n",
       "      <td>False</td>\n",
       "      <td>162</td>\n",
       "      <td>1.3</td>\n",
       "      <td>129</td>\n",
       "      <td>Male</td>\n",
       "      <td>True</td>\n",
       "      <td>True</td>\n",
       "    </tr>\n",
       "    <tr>\n",
       "      <th>4</th>\n",
       "      <td>65</td>\n",
       "      <td>True</td>\n",
       "      <td>True</td>\n",
       "      <td>20</td>\n",
       "      <td>False</td>\n",
       "      <td>327</td>\n",
       "      <td>2.7</td>\n",
       "      <td>116</td>\n",
       "      <td>Female</td>\n",
       "      <td>False</td>\n",
       "      <td>True</td>\n",
       "    </tr>\n",
       "    <tr>\n",
       "      <th>5</th>\n",
       "      <td>90</td>\n",
       "      <td>True</td>\n",
       "      <td>False</td>\n",
       "      <td>40</td>\n",
       "      <td>True</td>\n",
       "      <td>204</td>\n",
       "      <td>2.1</td>\n",
       "      <td>132</td>\n",
       "      <td>Male</td>\n",
       "      <td>True</td>\n",
       "      <td>True</td>\n",
       "    </tr>\n",
       "    <tr>\n",
       "      <th>7</th>\n",
       "      <td>60</td>\n",
       "      <td>True</td>\n",
       "      <td>True</td>\n",
       "      <td>60</td>\n",
       "      <td>False</td>\n",
       "      <td>454</td>\n",
       "      <td>1.1</td>\n",
       "      <td>131</td>\n",
       "      <td>Male</td>\n",
       "      <td>True</td>\n",
       "      <td>True</td>\n",
       "    </tr>\n",
       "    <tr>\n",
       "      <th>...</th>\n",
       "      <td>...</td>\n",
       "      <td>...</td>\n",
       "      <td>...</td>\n",
       "      <td>...</td>\n",
       "      <td>...</td>\n",
       "      <td>...</td>\n",
       "      <td>...</td>\n",
       "      <td>...</td>\n",
       "      <td>...</td>\n",
       "      <td>...</td>\n",
       "      <td>...</td>\n",
       "    </tr>\n",
       "    <tr>\n",
       "      <th>270</th>\n",
       "      <td>44</td>\n",
       "      <td>False</td>\n",
       "      <td>True</td>\n",
       "      <td>30</td>\n",
       "      <td>True</td>\n",
       "      <td>263</td>\n",
       "      <td>1.6</td>\n",
       "      <td>130</td>\n",
       "      <td>Male</td>\n",
       "      <td>True</td>\n",
       "      <td>False</td>\n",
       "    </tr>\n",
       "    <tr>\n",
       "      <th>271</th>\n",
       "      <td>51</td>\n",
       "      <td>False</td>\n",
       "      <td>True</td>\n",
       "      <td>40</td>\n",
       "      <td>False</td>\n",
       "      <td>221</td>\n",
       "      <td>0.9</td>\n",
       "      <td>134</td>\n",
       "      <td>Female</td>\n",
       "      <td>False</td>\n",
       "      <td>False</td>\n",
       "    </tr>\n",
       "    <tr>\n",
       "      <th>272</th>\n",
       "      <td>67</td>\n",
       "      <td>False</td>\n",
       "      <td>False</td>\n",
       "      <td>38</td>\n",
       "      <td>False</td>\n",
       "      <td>215</td>\n",
       "      <td>1.2</td>\n",
       "      <td>133</td>\n",
       "      <td>Female</td>\n",
       "      <td>False</td>\n",
       "      <td>False</td>\n",
       "    </tr>\n",
       "    <tr>\n",
       "      <th>282</th>\n",
       "      <td>42</td>\n",
       "      <td>False</td>\n",
       "      <td>False</td>\n",
       "      <td>30</td>\n",
       "      <td>False</td>\n",
       "      <td>215</td>\n",
       "      <td>3.8</td>\n",
       "      <td>128</td>\n",
       "      <td>Male</td>\n",
       "      <td>True</td>\n",
       "      <td>False</td>\n",
       "    </tr>\n",
       "    <tr>\n",
       "      <th>287</th>\n",
       "      <td>45</td>\n",
       "      <td>False</td>\n",
       "      <td>True</td>\n",
       "      <td>55</td>\n",
       "      <td>False</td>\n",
       "      <td>543</td>\n",
       "      <td>1.0</td>\n",
       "      <td>132</td>\n",
       "      <td>Female</td>\n",
       "      <td>False</td>\n",
       "      <td>False</td>\n",
       "    </tr>\n",
       "  </tbody>\n",
       "</table>\n",
       "<p>85 rows × 11 columns</p>\n",
       "</div>\n",
       "      <button class=\"colab-df-convert\" onclick=\"convertToInteractive('df-0365391d-73bf-4a3a-91dd-fb4044c7bb16')\"\n",
       "              title=\"Convert this dataframe to an interactive table.\"\n",
       "              style=\"display:none;\">\n",
       "        \n",
       "  <svg xmlns=\"http://www.w3.org/2000/svg\" height=\"24px\"viewBox=\"0 0 24 24\"\n",
       "       width=\"24px\">\n",
       "    <path d=\"M0 0h24v24H0V0z\" fill=\"none\"/>\n",
       "    <path d=\"M18.56 5.44l.94 2.06.94-2.06 2.06-.94-2.06-.94-.94-2.06-.94 2.06-2.06.94zm-11 1L8.5 8.5l.94-2.06 2.06-.94-2.06-.94L8.5 2.5l-.94 2.06-2.06.94zm10 10l.94 2.06.94-2.06 2.06-.94-2.06-.94-.94-2.06-.94 2.06-2.06.94z\"/><path d=\"M17.41 7.96l-1.37-1.37c-.4-.4-.92-.59-1.43-.59-.52 0-1.04.2-1.43.59L10.3 9.45l-7.72 7.72c-.78.78-.78 2.05 0 2.83L4 21.41c.39.39.9.59 1.41.59.51 0 1.02-.2 1.41-.59l7.78-7.78 2.81-2.81c.8-.78.8-2.07 0-2.86zM5.41 20L4 18.59l7.72-7.72 1.47 1.35L5.41 20z\"/>\n",
       "  </svg>\n",
       "      </button>\n",
       "      \n",
       "  <style>\n",
       "    .colab-df-container {\n",
       "      display:flex;\n",
       "      flex-wrap:wrap;\n",
       "      gap: 12px;\n",
       "    }\n",
       "\n",
       "    .colab-df-convert {\n",
       "      background-color: #E8F0FE;\n",
       "      border: none;\n",
       "      border-radius: 50%;\n",
       "      cursor: pointer;\n",
       "      display: none;\n",
       "      fill: #1967D2;\n",
       "      height: 32px;\n",
       "      padding: 0 0 0 0;\n",
       "      width: 32px;\n",
       "    }\n",
       "\n",
       "    .colab-df-convert:hover {\n",
       "      background-color: #E2EBFA;\n",
       "      box-shadow: 0px 1px 2px rgba(60, 64, 67, 0.3), 0px 1px 3px 1px rgba(60, 64, 67, 0.15);\n",
       "      fill: #174EA6;\n",
       "    }\n",
       "\n",
       "    [theme=dark] .colab-df-convert {\n",
       "      background-color: #3B4455;\n",
       "      fill: #D2E3FC;\n",
       "    }\n",
       "\n",
       "    [theme=dark] .colab-df-convert:hover {\n",
       "      background-color: #434B5C;\n",
       "      box-shadow: 0px 1px 3px 1px rgba(0, 0, 0, 0.15);\n",
       "      filter: drop-shadow(0px 1px 2px rgba(0, 0, 0, 0.3));\n",
       "      fill: #FFFFFF;\n",
       "    }\n",
       "  </style>\n",
       "\n",
       "      <script>\n",
       "        const buttonEl =\n",
       "          document.querySelector('#df-0365391d-73bf-4a3a-91dd-fb4044c7bb16 button.colab-df-convert');\n",
       "        buttonEl.style.display =\n",
       "          google.colab.kernel.accessAllowed ? 'block' : 'none';\n",
       "\n",
       "        async function convertToInteractive(key) {\n",
       "          const element = document.querySelector('#df-0365391d-73bf-4a3a-91dd-fb4044c7bb16');\n",
       "          const dataTable =\n",
       "            await google.colab.kernel.invokeFunction('convertToInteractive',\n",
       "                                                     [key], {});\n",
       "          if (!dataTable) return;\n",
       "\n",
       "          const docLinkHtml = 'Like what you see? Visit the ' +\n",
       "            '<a target=\"_blank\" href=https://colab.research.google.com/notebooks/data_table.ipynb>data table notebook</a>'\n",
       "            + ' to learn more about interactive tables.';\n",
       "          element.innerHTML = '';\n",
       "          dataTable['output_type'] = 'display_data';\n",
       "          await google.colab.output.renderOutput(dataTable, element);\n",
       "          const docLink = document.createElement('div');\n",
       "          docLink.innerHTML = docLinkHtml;\n",
       "          element.appendChild(docLink);\n",
       "        }\n",
       "      </script>\n",
       "    </div>\n",
       "  </div>\n",
       "  "
      ],
      "text/plain": [
       "     age  anaemia  diabetes  ejection_fraction  high_blood_pressure  \\\n",
       "0     75    False     False                 20                 True   \n",
       "2     65    False     False                 20                False   \n",
       "4     65     True      True                 20                False   \n",
       "5     90     True     False                 40                 True   \n",
       "7     60     True      True                 60                False   \n",
       "..   ...      ...       ...                ...                  ...   \n",
       "270   44    False      True                 30                 True   \n",
       "271   51    False      True                 40                False   \n",
       "272   67    False     False                 38                False   \n",
       "282   42    False     False                 30                False   \n",
       "287   45    False      True                 55                False   \n",
       "\n",
       "     platelets  serum_creatinine  serum_sodium     sex  smoking  patient_dead  \n",
       "0          265               1.9           130    Male    False          True  \n",
       "2          162               1.3           129    Male     True          True  \n",
       "4          327               2.7           116  Female    False          True  \n",
       "5          204               2.1           132    Male     True          True  \n",
       "7          454               1.1           131    Male     True          True  \n",
       "..         ...               ...           ...     ...      ...           ...  \n",
       "270        263               1.6           130    Male     True         False  \n",
       "271        221               0.9           134  Female    False         False  \n",
       "272        215               1.2           133  Female    False         False  \n",
       "282        215               3.8           128    Male     True         False  \n",
       "287        543               1.0           132  Female    False         False  \n",
       "\n",
       "[85 rows x 11 columns]"
      ]
     },
     "execution_count": 55,
     "metadata": {},
     "output_type": "execute_result"
    }
   ],
   "source": [
    "#Abnormal Sodium level in the blood(abn_sodium)\n",
    "abn_sodium = heart_failure_df[(heart_failure_df.serum_sodium < 135) | (heart_failure_df.serum_sodium >145)]\n",
    "abn_sodium "
   ]
  },
  {
   "cell_type": "markdown",
   "metadata": {
    "id": "wNnZqSiKVK9z"
   },
   "source": [
    "The normal value of Sodium level in the blood ranges from 135 - 145 mEq/L. Here, we found that there are 85 patients with abnormal Sodium level in the blood."
   ]
  },
  {
   "cell_type": "markdown",
   "metadata": {
    "id": "llpDzzmgVMhC"
   },
   "source": [
    "### Sample Data"
   ]
  },
  {
   "cell_type": "markdown",
   "metadata": {
    "id": "fBJ5BEDFVTUf"
   },
   "source": [
    "We've now cleaned up and prepared the dataset for our analysis. Let's take a look at a sample of rows from the data frame."
   ]
  },
  {
   "cell_type": "code",
   "execution_count": 56,
   "metadata": {
    "colab": {
     "base_uri": "https://localhost:8080/",
     "height": 270
    },
    "executionInfo": {
     "elapsed": 590,
     "status": "ok",
     "timestamp": 1663869219771,
     "user": {
      "displayName": "Avneet Kumar",
      "userId": "08327085032726843331"
     },
     "user_tz": -330
    },
    "id": "SckreWd5RtBr",
    "outputId": "453609e0-8041-48e1-d0c6-bee08a5857d6"
   },
   "outputs": [
    {
     "data": {
      "text/html": [
       "\n",
       "  <div id=\"df-0743bb9a-7e96-422c-b369-88ccf6eb5f7c\">\n",
       "    <div class=\"colab-df-container\">\n",
       "      <div>\n",
       "<style scoped>\n",
       "    .dataframe tbody tr th:only-of-type {\n",
       "        vertical-align: middle;\n",
       "    }\n",
       "\n",
       "    .dataframe tbody tr th {\n",
       "        vertical-align: top;\n",
       "    }\n",
       "\n",
       "    .dataframe thead th {\n",
       "        text-align: right;\n",
       "    }\n",
       "</style>\n",
       "<table border=\"1\" class=\"dataframe\">\n",
       "  <thead>\n",
       "    <tr style=\"text-align: right;\">\n",
       "      <th></th>\n",
       "      <th>age</th>\n",
       "      <th>anaemia</th>\n",
       "      <th>diabetes</th>\n",
       "      <th>ejection_fraction</th>\n",
       "      <th>high_blood_pressure</th>\n",
       "      <th>platelets</th>\n",
       "      <th>serum_creatinine</th>\n",
       "      <th>serum_sodium</th>\n",
       "      <th>sex</th>\n",
       "      <th>smoking</th>\n",
       "      <th>patient_dead</th>\n",
       "    </tr>\n",
       "  </thead>\n",
       "  <tbody>\n",
       "    <tr>\n",
       "      <th>280</th>\n",
       "      <td>70</td>\n",
       "      <td>False</td>\n",
       "      <td>True</td>\n",
       "      <td>40</td>\n",
       "      <td>False</td>\n",
       "      <td>241</td>\n",
       "      <td>1.0</td>\n",
       "      <td>137</td>\n",
       "      <td>Male</td>\n",
       "      <td>False</td>\n",
       "      <td>False</td>\n",
       "    </tr>\n",
       "    <tr>\n",
       "      <th>275</th>\n",
       "      <td>45</td>\n",
       "      <td>False</td>\n",
       "      <td>False</td>\n",
       "      <td>38</td>\n",
       "      <td>True</td>\n",
       "      <td>422</td>\n",
       "      <td>0.8</td>\n",
       "      <td>137</td>\n",
       "      <td>Female</td>\n",
       "      <td>False</td>\n",
       "      <td>False</td>\n",
       "    </tr>\n",
       "    <tr>\n",
       "      <th>245</th>\n",
       "      <td>61</td>\n",
       "      <td>True</td>\n",
       "      <td>True</td>\n",
       "      <td>38</td>\n",
       "      <td>False</td>\n",
       "      <td>282</td>\n",
       "      <td>1.4</td>\n",
       "      <td>137</td>\n",
       "      <td>Male</td>\n",
       "      <td>False</td>\n",
       "      <td>False</td>\n",
       "    </tr>\n",
       "    <tr>\n",
       "      <th>211</th>\n",
       "      <td>50</td>\n",
       "      <td>False</td>\n",
       "      <td>False</td>\n",
       "      <td>62</td>\n",
       "      <td>True</td>\n",
       "      <td>147</td>\n",
       "      <td>0.8</td>\n",
       "      <td>140</td>\n",
       "      <td>Male</td>\n",
       "      <td>True</td>\n",
       "      <td>False</td>\n",
       "    </tr>\n",
       "    <tr>\n",
       "      <th>288</th>\n",
       "      <td>65</td>\n",
       "      <td>False</td>\n",
       "      <td>True</td>\n",
       "      <td>35</td>\n",
       "      <td>False</td>\n",
       "      <td>263</td>\n",
       "      <td>1.1</td>\n",
       "      <td>142</td>\n",
       "      <td>Female</td>\n",
       "      <td>False</td>\n",
       "      <td>False</td>\n",
       "    </tr>\n",
       "  </tbody>\n",
       "</table>\n",
       "</div>\n",
       "      <button class=\"colab-df-convert\" onclick=\"convertToInteractive('df-0743bb9a-7e96-422c-b369-88ccf6eb5f7c')\"\n",
       "              title=\"Convert this dataframe to an interactive table.\"\n",
       "              style=\"display:none;\">\n",
       "        \n",
       "  <svg xmlns=\"http://www.w3.org/2000/svg\" height=\"24px\"viewBox=\"0 0 24 24\"\n",
       "       width=\"24px\">\n",
       "    <path d=\"M0 0h24v24H0V0z\" fill=\"none\"/>\n",
       "    <path d=\"M18.56 5.44l.94 2.06.94-2.06 2.06-.94-2.06-.94-.94-2.06-.94 2.06-2.06.94zm-11 1L8.5 8.5l.94-2.06 2.06-.94-2.06-.94L8.5 2.5l-.94 2.06-2.06.94zm10 10l.94 2.06.94-2.06 2.06-.94-2.06-.94-.94-2.06-.94 2.06-2.06.94z\"/><path d=\"M17.41 7.96l-1.37-1.37c-.4-.4-.92-.59-1.43-.59-.52 0-1.04.2-1.43.59L10.3 9.45l-7.72 7.72c-.78.78-.78 2.05 0 2.83L4 21.41c.39.39.9.59 1.41.59.51 0 1.02-.2 1.41-.59l7.78-7.78 2.81-2.81c.8-.78.8-2.07 0-2.86zM5.41 20L4 18.59l7.72-7.72 1.47 1.35L5.41 20z\"/>\n",
       "  </svg>\n",
       "      </button>\n",
       "      \n",
       "  <style>\n",
       "    .colab-df-container {\n",
       "      display:flex;\n",
       "      flex-wrap:wrap;\n",
       "      gap: 12px;\n",
       "    }\n",
       "\n",
       "    .colab-df-convert {\n",
       "      background-color: #E8F0FE;\n",
       "      border: none;\n",
       "      border-radius: 50%;\n",
       "      cursor: pointer;\n",
       "      display: none;\n",
       "      fill: #1967D2;\n",
       "      height: 32px;\n",
       "      padding: 0 0 0 0;\n",
       "      width: 32px;\n",
       "    }\n",
       "\n",
       "    .colab-df-convert:hover {\n",
       "      background-color: #E2EBFA;\n",
       "      box-shadow: 0px 1px 2px rgba(60, 64, 67, 0.3), 0px 1px 3px 1px rgba(60, 64, 67, 0.15);\n",
       "      fill: #174EA6;\n",
       "    }\n",
       "\n",
       "    [theme=dark] .colab-df-convert {\n",
       "      background-color: #3B4455;\n",
       "      fill: #D2E3FC;\n",
       "    }\n",
       "\n",
       "    [theme=dark] .colab-df-convert:hover {\n",
       "      background-color: #434B5C;\n",
       "      box-shadow: 0px 1px 3px 1px rgba(0, 0, 0, 0.15);\n",
       "      filter: drop-shadow(0px 1px 2px rgba(0, 0, 0, 0.3));\n",
       "      fill: #FFFFFF;\n",
       "    }\n",
       "  </style>\n",
       "\n",
       "      <script>\n",
       "        const buttonEl =\n",
       "          document.querySelector('#df-0743bb9a-7e96-422c-b369-88ccf6eb5f7c button.colab-df-convert');\n",
       "        buttonEl.style.display =\n",
       "          google.colab.kernel.accessAllowed ? 'block' : 'none';\n",
       "\n",
       "        async function convertToInteractive(key) {\n",
       "          const element = document.querySelector('#df-0743bb9a-7e96-422c-b369-88ccf6eb5f7c');\n",
       "          const dataTable =\n",
       "            await google.colab.kernel.invokeFunction('convertToInteractive',\n",
       "                                                     [key], {});\n",
       "          if (!dataTable) return;\n",
       "\n",
       "          const docLinkHtml = 'Like what you see? Visit the ' +\n",
       "            '<a target=\"_blank\" href=https://colab.research.google.com/notebooks/data_table.ipynb>data table notebook</a>'\n",
       "            + ' to learn more about interactive tables.';\n",
       "          element.innerHTML = '';\n",
       "          dataTable['output_type'] = 'display_data';\n",
       "          await google.colab.output.renderOutput(dataTable, element);\n",
       "          const docLink = document.createElement('div');\n",
       "          docLink.innerHTML = docLinkHtml;\n",
       "          element.appendChild(docLink);\n",
       "        }\n",
       "      </script>\n",
       "    </div>\n",
       "  </div>\n",
       "  "
      ],
      "text/plain": [
       "     age  anaemia  diabetes  ejection_fraction  high_blood_pressure  \\\n",
       "280   70    False      True                 40                False   \n",
       "275   45    False     False                 38                 True   \n",
       "245   61     True      True                 38                False   \n",
       "211   50    False     False                 62                 True   \n",
       "288   65    False      True                 35                False   \n",
       "\n",
       "     platelets  serum_creatinine  serum_sodium     sex  smoking  patient_dead  \n",
       "280        241               1.0           137    Male    False         False  \n",
       "275        422               0.8           137  Female    False         False  \n",
       "245        282               1.4           137    Male    False         False  \n",
       "211        147               0.8           140    Male     True         False  \n",
       "288        263               1.1           142  Female    False         False  "
      ]
     },
     "execution_count": 56,
     "metadata": {},
     "output_type": "execute_result"
    }
   ],
   "source": [
    "heart_failure_df.sample(5)"
   ]
  },
  {
   "cell_type": "markdown",
   "metadata": {
    "id": "ax_KdeNpVivO"
   },
   "source": [
    "## Exploratory Data Analysis & Visualization"
   ]
  },
  {
   "cell_type": "markdown",
   "metadata": {
    "id": "FjhdLwjrVycI"
   },
   "source": [
    "Data visualization is the representation of data through use of common graphics, such as charts, plots, infographics, and even animations. These visual displays of information communicate complex data relationships and data-driven insights in a way that is easy to understand.\n",
    "\n",
    "Let's install and import \"seaborn\" library as \"sns\" and \"matplotlib.pyplot\" module as \"plt\" to perform some visualization operations on our data frame to understand the distribution and relationships of attributes."
   ]
  },
  {
   "cell_type": "code",
   "execution_count": 57,
   "metadata": {
    "colab": {
     "base_uri": "https://localhost:8080/"
    },
    "executionInfo": {
     "elapsed": 12590,
     "status": "ok",
     "timestamp": 1663869358626,
     "user": {
      "displayName": "Avneet Kumar",
      "userId": "08327085032726843331"
     },
     "user_tz": -330
    },
    "id": "uFCqXeqSVc2E",
    "outputId": "ecf3b7e0-6ae7-4a46-e799-2368171dc27f"
   },
   "outputs": [
    {
     "name": "stdout",
     "output_type": "stream",
     "text": [
      "\u001b[K     |████████████████████████████████| 11.2 MB 7.5 MB/s \n",
      "\u001b[K     |████████████████████████████████| 285 kB 54.4 MB/s \n",
      "\u001b[K     |████████████████████████████████| 959 kB 70.2 MB/s \n",
      "\u001b[?25h"
     ]
    }
   ],
   "source": [
    "!pip install matplotlib seaborn --upgrade --quiet "
   ]
  },
  {
   "cell_type": "code",
   "execution_count": 58,
   "metadata": {
    "executionInfo": {
     "elapsed": 1156,
     "status": "ok",
     "timestamp": 1663869385352,
     "user": {
      "displayName": "Avneet Kumar",
      "userId": "08327085032726843331"
     },
     "user_tz": -330
    },
    "id": "Y5UeqGb_VcyO"
   },
   "outputs": [],
   "source": [
    "import seaborn as sns\n",
    "import matplotlib\n",
    "import matplotlib.pyplot as plt\n",
    "import matplotlib.patches as mpatches\n",
    "%matplotlib inline"
   ]
  },
  {
   "cell_type": "code",
   "execution_count": 59,
   "metadata": {
    "executionInfo": {
     "elapsed": 419,
     "status": "ok",
     "timestamp": 1663869408699,
     "user": {
      "displayName": "Avneet Kumar",
      "userId": "08327085032726843331"
     },
     "user_tz": -330
    },
    "id": "Jwi_8P24Vcug"
   },
   "outputs": [],
   "source": [
    "#set some default style for our graphs\n",
    "sns.set_style('darkgrid')\n",
    "matplotlib.rcParams['font.size'] = 14\n",
    "matplotlib.rcParams['figure.figsize'] = (9, 5)\n",
    "matplotlib.rcParams['figure.facecolor'] = 'white'"
   ]
  },
  {
   "cell_type": "markdown",
   "metadata": {
    "id": "MHY9aegHWKIE"
   },
   "source": [
    "### Age"
   ]
  },
  {
   "cell_type": "markdown",
   "metadata": {
    "id": "WDV8fjzxWXpH"
   },
   "source": [
    "Let's have a look at the distribution of age of the heart failure patients recorded in our dataset by using \"hist\" function from \"matplotlib.pyplot\" which is used to create histograms.\n",
    "\n",
    "\"A histogram represents the distribution of a variable by creating bins (interval) along the range of values and showing vertical bars to indicate the number of observations in each bin\"."
   ]
  },
  {
   "cell_type": "code",
   "execution_count": 63,
   "metadata": {
    "executionInfo": {
     "elapsed": 7326,
     "status": "ok",
     "timestamp": 1663869780321,
     "user": {
      "displayName": "Avneet Kumar",
      "userId": "08327085032726843331"
     },
     "user_tz": -330
    },
    "id": "ta5ST2ZoXWpL"
   },
   "outputs": [],
   "source": [
    "\n",
    "!pip install matplotlib==3.1.3 --quiet"
   ]
  },
  {
   "cell_type": "markdown",
   "metadata": {
    "id": "QTLaLShGXw6t"
   },
   "source": [
    "ImportError: cannot import name '_png' from 'matplotlib' (/usr/local/lib/python3.7/dist-packages/matplotlib/__init__.py) site:stackoverflow.com\n",
    "not work thas by we install matplotlib==3.1.3 and its work."
   ]
  },
  {
   "cell_type": "code",
   "execution_count": 64,
   "metadata": {
    "colab": {
     "base_uri": "https://localhost:8080/",
     "height": 362
    },
    "executionInfo": {
     "elapsed": 1371,
     "status": "ok",
     "timestamp": 1663869786460,
     "user": {
      "displayName": "Avneet Kumar",
      "userId": "08327085032726843331"
     },
     "user_tz": -330
    },
    "id": "J_X47lU5Vcr_",
    "outputId": "afc964bc-b491-42a5-c5a5-c68278ee079e"
   },
   "outputs": [
    {
     "data": {
      "image/png": "[encoded data removed]",
      "text/plain": [
       "<Figure size 648x360 with 1 Axes>"
      ]
     },
     "metadata": {},
     "output_type": "display_data"
    }
   ],
   "source": [
    "plt.hist(heart_failure_df.age, bins=np.arange(40,100, 5), color ='mediumpurple')\n",
    "plt.xlabel(\"Age of Patients (Years)\")\n",
    "plt.ylabel(\"Number of Patients\")\n",
    "plt.title(\"Distribution of Age\");"
   ]
  },
  {
   "cell_type": "markdown",
   "metadata": {
    "id": "0V2lRT8NYEz2"
   },
   "source": [
    "From the above histogram, it's clear that most of the patients falls under 60-65 age group and the next place goes to 50-55 age group.\n",
    "\n",
    "The life expectancy of a person in Pakistan in 2015 was approximately 67 years. It's obvious that the number of patients recorded starts declining from 65-70 age group. You can see the complete list of life expectancy of people in Pakistan (1950 - 2021) using the link given in the reference section."
   ]
  },
  {
   "cell_type": "markdown",
   "metadata": {
    "id": "2aasVaY_YJPq"
   },
   "source": [
    "### Gender\n"
   ]
  },
  {
   "cell_type": "code",
   "execution_count": 65,
   "metadata": {
    "executionInfo": {
     "elapsed": 458,
     "status": "ok",
     "timestamp": 1663869973333,
     "user": {
      "displayName": "Avneet Kumar",
      "userId": "08327085032726843331"
     },
     "user_tz": -330
    },
    "id": "yVfqlChMQCL8"
   },
   "outputs": [],
   "source": [
    "#to store the gender counts into a variable\n",
    "gender_counts = heart_failure_df.sex.value_counts()"
   ]
  },
  {
   "cell_type": "code",
   "execution_count": 66,
   "metadata": {
    "colab": {
     "base_uri": "https://localhost:8080/",
     "height": 377
    },
    "executionInfo": {
     "elapsed": 927,
     "status": "ok",
     "timestamp": 1663869993751,
     "user": {
      "displayName": "Avneet Kumar",
      "userId": "08327085032726843331"
     },
     "user_tz": -330
    },
    "id": "BdGDlUh-QCJ_",
    "outputId": "2f2baaa8-b708-4f94-ac48-2877c3bc7be6"
   },
   "outputs": [
    {
     "data": {
      "image/png": "[encoded data removed]",
      "text/plain": [
       "<Figure size 864x432 with 1 Axes>"
      ]
     },
     "metadata": {},
     "output_type": "display_data"
    }
   ],
   "source": [
    "plt.figure(figsize=(12, 6))\n",
    "plt.pie(gender_counts, labels = gender_counts.index, autopct ='%.1f%%', \n",
    "        startangle = 90, explode = [0.1, 0], colors = ['lightskyblue', 'plum'])\n",
    "plt.title(\"Gender Distribution (Male or Female)\");"
   ]
  },
  {
   "cell_type": "markdown",
   "metadata": {
    "id": "F-ExHEu6YaMy"
   },
   "source": [
    "As we can clearly see, only 35.1% of the heart failure patients were female in our observation. This means that we have more number of male patients when compared to females in the dataset. So, we can easily say that this dataset is slightly imbalanced."
   ]
  },
  {
   "cell_type": "markdown",
   "metadata": {
    "id": "DD6mJwHpYgN6"
   },
   "source": [
    "### Death"
   ]
  },
  {
   "cell_type": "markdown",
   "metadata": {
    "id": "U8Axh8HtYh7k"
   },
   "source": [
    "Let's check the relationship between death of the patients and their age group and gender."
   ]
  },
  {
   "cell_type": "markdown",
   "metadata": {
    "id": "VaSV4pMgYmMo"
   },
   "source": [
    "#### Death Rate"
   ]
  },
  {
   "cell_type": "markdown",
   "metadata": {
    "id": "8K4oXFWpYr_b"
   },
   "source": [
    "An important factor to look at is the percentage of patients died during the follow-up period. Let's use pie chart to visualize."
   ]
  },
  {
   "cell_type": "code",
   "execution_count": 67,
   "metadata": {
    "colab": {
     "base_uri": "https://localhost:8080/"
    },
    "executionInfo": {
     "elapsed": 567,
     "status": "ok",
     "timestamp": 1663870112579,
     "user": {
      "displayName": "Avneet Kumar",
      "userId": "08327085032726843331"
     },
     "user_tz": -330
    },
    "id": "vxEVt41QQCHb",
    "outputId": "28d70784-686a-44d8-db8d-faa669ea9573"
   },
   "outputs": [
    {
     "data": {
      "text/plain": [
       "False    203\n",
       "True      96\n",
       "Name: patient_dead, dtype: int64"
      ]
     },
     "execution_count": 67,
     "metadata": {},
     "output_type": "execute_result"
    }
   ],
   "source": [
    "#count number of patients dead\n",
    "dead_counts = heart_failure_df.patient_dead.value_counts()\n",
    "dead_counts "
   ]
  },
  {
   "cell_type": "code",
   "execution_count": 70,
   "metadata": {
    "colab": {
     "base_uri": "https://localhost:8080/",
     "height": 377
    },
    "executionInfo": {
     "elapsed": 539,
     "status": "ok",
     "timestamp": 1663870195136,
     "user": {
      "displayName": "Avneet Kumar",
      "userId": "08327085032726843331"
     },
     "user_tz": -330
    },
    "id": "EoQxW4ZTQCFo",
    "outputId": "a8a7624f-cc69-44b8-87c9-60b7e148a28a"
   },
   "outputs": [
    {
     "data": {
      "image/png": "[encoded data removed]",
      "text/plain": [
       "<Figure size 864x432 with 1 Axes>"
      ]
     },
     "metadata": {},
     "output_type": "display_data"
    }
   ],
   "source": [
    "plt.figure(figsize=(12, 6))\n",
    "plt.pie(dead_counts, labels = ['Alive', 'Dead'] , autopct ='%.1f%%', \n",
    "        startangle = 90, explode=[0.1, 0], colors =['#808080', 'lightcoral'])\n",
    "plt.title(\"Percentage of Patients Dead & Alive\");"
   ]
  },
  {
   "cell_type": "markdown",
   "metadata": {
    "id": "9dG7yW0dZHBu"
   },
   "source": [
    "As we can clearly see that, the percentage of patients died during the follow-up period is 32.1%. This might be because the data mentioned in our data frame corresponds to only the certain period of time (April'15 - December'15) and more number of patients might have died after this period which isn't recorded."
   ]
  },
  {
   "cell_type": "markdown",
   "metadata": {
    "id": "cEz6f8bWZQRw"
   },
   "source": [
    "#### Death and Age Group"
   ]
  },
  {
   "cell_type": "markdown",
   "metadata": {
    "id": "x3z9aq5JZUGs"
   },
   "source": [
    "Let's define a helper function to create another column in our actual data frame which describes the age group of the heart failure patients. Since, the age of patients ranges from 40 to 95 years. Let's group them into a category like '40-45', '45-50', '50-55', '55-60' and so on. Age groups of the patient helps us to easily understand and visualize relationship of various attributes with age."
   ]
  },
  {
   "cell_type": "code",
   "execution_count": 72,
   "metadata": {
    "executionInfo": {
     "elapsed": 2028,
     "status": "ok",
     "timestamp": 1663870416021,
     "user": {
      "displayName": "Avneet Kumar",
      "userId": "08327085032726843331"
     },
     "user_tz": -330
    },
    "id": "t_yaIAGLY1n3"
   },
   "outputs": [],
   "source": [
    "def create_range_series(number_series):\n",
    "    \"\"\"Creates a series with range(group) for the numeric values \n",
    "    provided in another series which is passed as an argument.\n",
    "    This function takes only one argument which is (Pandas) series object, \n",
    "    returns another (Pandas) series object. \n",
    "    \n",
    "    Argument:\n",
    "        number_series - A column in pandas data frame with numeric values. \n",
    "    \"\"\"\n",
    "    condition = [\n",
    "    (number_series >= 0) & (number_series < 5), \n",
    "    (number_series >= 5) & (number_series < 10), \n",
    "    (number_series >= 10) & (number_series < 15), \n",
    "    (number_series >= 15) & (number_series < 20), \n",
    "    (number_series >= 20) & (number_series < 25), \n",
    "    (number_series >= 25) & (number_series < 30), \n",
    "    (number_series >= 30) & (number_series < 35), \n",
    "    (number_series >= 35) & (number_series < 40), \n",
    "    (number_series >= 40) & (number_series < 45), \n",
    "    (number_series >= 45) & (number_series < 50), \n",
    "    (number_series >= 50) & (number_series < 55), \n",
    "    (number_series >= 55) & (number_series < 60), \n",
    "    (number_series >= 60) & (number_series < 65), \n",
    "    (number_series >= 65) & (number_series < 70), \n",
    "    (number_series >= 70) & (number_series < 75), \n",
    "    (number_series >= 75) & (number_series < 80), \n",
    "    (number_series >= 80) & (number_series < 85), \n",
    "    (number_series >= 85) & (number_series < 90), \n",
    "    (number_series >= 90) & (number_series < 95), \n",
    "    (number_series >= 95) & (number_series < 100)\n",
    "    ]\n",
    "    \n",
    "    output = ['0-5', '5-10', '10-15', '15-20', '20-25', '25-30', '30-35', \n",
    "              '35-40', '40-45', '45-50', '50-55', '55-60','60-65','65-70', \n",
    "              '70-75','75-80','80-85', '85-90', '90-95', '95-100'\n",
    "              ] \n",
    "    result = np.select(condition, output, '>100')\n",
    "    return pd.Series(result)"
   ]
  },
  {
   "cell_type": "code",
   "execution_count": 73,
   "metadata": {
    "colab": {
     "base_uri": "https://localhost:8080/",
     "height": 488
    },
    "executionInfo": {
     "elapsed": 446,
     "status": "ok",
     "timestamp": 1663870436808,
     "user": {
      "displayName": "Avneet Kumar",
      "userId": "08327085032726843331"
     },
     "user_tz": -330
    },
    "id": "V2PKnTEYY1jz",
    "outputId": "b7039c47-5d4d-4f0f-94f3-30111dfc3a70"
   },
   "outputs": [
    {
     "data": {
      "text/html": [
       "\n",
       "  <div id=\"df-c02e3020-8f51-4376-b824-c6e79bb99c35\">\n",
       "    <div class=\"colab-df-container\">\n",
       "      <div>\n",
       "<style scoped>\n",
       "    .dataframe tbody tr th:only-of-type {\n",
       "        vertical-align: middle;\n",
       "    }\n",
       "\n",
       "    .dataframe tbody tr th {\n",
       "        vertical-align: top;\n",
       "    }\n",
       "\n",
       "    .dataframe thead th {\n",
       "        text-align: right;\n",
       "    }\n",
       "</style>\n",
       "<table border=\"1\" class=\"dataframe\">\n",
       "  <thead>\n",
       "    <tr style=\"text-align: right;\">\n",
       "      <th></th>\n",
       "      <th>age</th>\n",
       "      <th>anaemia</th>\n",
       "      <th>diabetes</th>\n",
       "      <th>ejection_fraction</th>\n",
       "      <th>high_blood_pressure</th>\n",
       "      <th>platelets</th>\n",
       "      <th>serum_creatinine</th>\n",
       "      <th>serum_sodium</th>\n",
       "      <th>sex</th>\n",
       "      <th>smoking</th>\n",
       "      <th>patient_dead</th>\n",
       "      <th>age_group</th>\n",
       "    </tr>\n",
       "  </thead>\n",
       "  <tbody>\n",
       "    <tr>\n",
       "      <th>0</th>\n",
       "      <td>75</td>\n",
       "      <td>False</td>\n",
       "      <td>False</td>\n",
       "      <td>20</td>\n",
       "      <td>True</td>\n",
       "      <td>265</td>\n",
       "      <td>1.9</td>\n",
       "      <td>130</td>\n",
       "      <td>Male</td>\n",
       "      <td>False</td>\n",
       "      <td>True</td>\n",
       "      <td>75-80</td>\n",
       "    </tr>\n",
       "    <tr>\n",
       "      <th>1</th>\n",
       "      <td>55</td>\n",
       "      <td>False</td>\n",
       "      <td>False</td>\n",
       "      <td>38</td>\n",
       "      <td>False</td>\n",
       "      <td>263</td>\n",
       "      <td>1.1</td>\n",
       "      <td>136</td>\n",
       "      <td>Male</td>\n",
       "      <td>False</td>\n",
       "      <td>True</td>\n",
       "      <td>55-60</td>\n",
       "    </tr>\n",
       "    <tr>\n",
       "      <th>2</th>\n",
       "      <td>65</td>\n",
       "      <td>False</td>\n",
       "      <td>False</td>\n",
       "      <td>20</td>\n",
       "      <td>False</td>\n",
       "      <td>162</td>\n",
       "      <td>1.3</td>\n",
       "      <td>129</td>\n",
       "      <td>Male</td>\n",
       "      <td>True</td>\n",
       "      <td>True</td>\n",
       "      <td>65-70</td>\n",
       "    </tr>\n",
       "    <tr>\n",
       "      <th>3</th>\n",
       "      <td>50</td>\n",
       "      <td>True</td>\n",
       "      <td>False</td>\n",
       "      <td>20</td>\n",
       "      <td>False</td>\n",
       "      <td>210</td>\n",
       "      <td>1.9</td>\n",
       "      <td>137</td>\n",
       "      <td>Male</td>\n",
       "      <td>False</td>\n",
       "      <td>True</td>\n",
       "      <td>50-55</td>\n",
       "    </tr>\n",
       "    <tr>\n",
       "      <th>4</th>\n",
       "      <td>65</td>\n",
       "      <td>True</td>\n",
       "      <td>True</td>\n",
       "      <td>20</td>\n",
       "      <td>False</td>\n",
       "      <td>327</td>\n",
       "      <td>2.7</td>\n",
       "      <td>116</td>\n",
       "      <td>Female</td>\n",
       "      <td>False</td>\n",
       "      <td>True</td>\n",
       "      <td>65-70</td>\n",
       "    </tr>\n",
       "    <tr>\n",
       "      <th>...</th>\n",
       "      <td>...</td>\n",
       "      <td>...</td>\n",
       "      <td>...</td>\n",
       "      <td>...</td>\n",
       "      <td>...</td>\n",
       "      <td>...</td>\n",
       "      <td>...</td>\n",
       "      <td>...</td>\n",
       "      <td>...</td>\n",
       "      <td>...</td>\n",
       "      <td>...</td>\n",
       "      <td>...</td>\n",
       "    </tr>\n",
       "    <tr>\n",
       "      <th>294</th>\n",
       "      <td>62</td>\n",
       "      <td>False</td>\n",
       "      <td>True</td>\n",
       "      <td>38</td>\n",
       "      <td>True</td>\n",
       "      <td>155</td>\n",
       "      <td>1.1</td>\n",
       "      <td>143</td>\n",
       "      <td>Male</td>\n",
       "      <td>True</td>\n",
       "      <td>False</td>\n",
       "      <td>60-65</td>\n",
       "    </tr>\n",
       "    <tr>\n",
       "      <th>295</th>\n",
       "      <td>55</td>\n",
       "      <td>False</td>\n",
       "      <td>False</td>\n",
       "      <td>38</td>\n",
       "      <td>False</td>\n",
       "      <td>270</td>\n",
       "      <td>1.2</td>\n",
       "      <td>139</td>\n",
       "      <td>Female</td>\n",
       "      <td>False</td>\n",
       "      <td>False</td>\n",
       "      <td>55-60</td>\n",
       "    </tr>\n",
       "    <tr>\n",
       "      <th>296</th>\n",
       "      <td>45</td>\n",
       "      <td>False</td>\n",
       "      <td>True</td>\n",
       "      <td>60</td>\n",
       "      <td>False</td>\n",
       "      <td>742</td>\n",
       "      <td>0.8</td>\n",
       "      <td>138</td>\n",
       "      <td>Female</td>\n",
       "      <td>False</td>\n",
       "      <td>False</td>\n",
       "      <td>45-50</td>\n",
       "    </tr>\n",
       "    <tr>\n",
       "      <th>297</th>\n",
       "      <td>45</td>\n",
       "      <td>False</td>\n",
       "      <td>False</td>\n",
       "      <td>38</td>\n",
       "      <td>False</td>\n",
       "      <td>140</td>\n",
       "      <td>1.4</td>\n",
       "      <td>140</td>\n",
       "      <td>Male</td>\n",
       "      <td>True</td>\n",
       "      <td>False</td>\n",
       "      <td>45-50</td>\n",
       "    </tr>\n",
       "    <tr>\n",
       "      <th>298</th>\n",
       "      <td>50</td>\n",
       "      <td>False</td>\n",
       "      <td>False</td>\n",
       "      <td>45</td>\n",
       "      <td>False</td>\n",
       "      <td>395</td>\n",
       "      <td>1.6</td>\n",
       "      <td>136</td>\n",
       "      <td>Male</td>\n",
       "      <td>True</td>\n",
       "      <td>False</td>\n",
       "      <td>50-55</td>\n",
       "    </tr>\n",
       "  </tbody>\n",
       "</table>\n",
       "<p>299 rows × 12 columns</p>\n",
       "</div>\n",
       "      <button class=\"colab-df-convert\" onclick=\"convertToInteractive('df-c02e3020-8f51-4376-b824-c6e79bb99c35')\"\n",
       "              title=\"Convert this dataframe to an interactive table.\"\n",
       "              style=\"display:none;\">\n",
       "        \n",
       "  <svg xmlns=\"http://www.w3.org/2000/svg\" height=\"24px\"viewBox=\"0 0 24 24\"\n",
       "       width=\"24px\">\n",
       "    <path d=\"M0 0h24v24H0V0z\" fill=\"none\"/>\n",
       "    <path d=\"M18.56 5.44l.94 2.06.94-2.06 2.06-.94-2.06-.94-.94-2.06-.94 2.06-2.06.94zm-11 1L8.5 8.5l.94-2.06 2.06-.94-2.06-.94L8.5 2.5l-.94 2.06-2.06.94zm10 10l.94 2.06.94-2.06 2.06-.94-2.06-.94-.94-2.06-.94 2.06-2.06.94z\"/><path d=\"M17.41 7.96l-1.37-1.37c-.4-.4-.92-.59-1.43-.59-.52 0-1.04.2-1.43.59L10.3 9.45l-7.72 7.72c-.78.78-.78 2.05 0 2.83L4 21.41c.39.39.9.59 1.41.59.51 0 1.02-.2 1.41-.59l7.78-7.78 2.81-2.81c.8-.78.8-2.07 0-2.86zM5.41 20L4 18.59l7.72-7.72 1.47 1.35L5.41 20z\"/>\n",
       "  </svg>\n",
       "      </button>\n",
       "      \n",
       "  <style>\n",
       "    .colab-df-container {\n",
       "      display:flex;\n",
       "      flex-wrap:wrap;\n",
       "      gap: 12px;\n",
       "    }\n",
       "\n",
       "    .colab-df-convert {\n",
       "      background-color: #E8F0FE;\n",
       "      border: none;\n",
       "      border-radius: 50%;\n",
       "      cursor: pointer;\n",
       "      display: none;\n",
       "      fill: #1967D2;\n",
       "      height: 32px;\n",
       "      padding: 0 0 0 0;\n",
       "      width: 32px;\n",
       "    }\n",
       "\n",
       "    .colab-df-convert:hover {\n",
       "      background-color: #E2EBFA;\n",
       "      box-shadow: 0px 1px 2px rgba(60, 64, 67, 0.3), 0px 1px 3px 1px rgba(60, 64, 67, 0.15);\n",
       "      fill: #174EA6;\n",
       "    }\n",
       "\n",
       "    [theme=dark] .colab-df-convert {\n",
       "      background-color: #3B4455;\n",
       "      fill: #D2E3FC;\n",
       "    }\n",
       "\n",
       "    [theme=dark] .colab-df-convert:hover {\n",
       "      background-color: #434B5C;\n",
       "      box-shadow: 0px 1px 3px 1px rgba(0, 0, 0, 0.15);\n",
       "      filter: drop-shadow(0px 1px 2px rgba(0, 0, 0, 0.3));\n",
       "      fill: #FFFFFF;\n",
       "    }\n",
       "  </style>\n",
       "\n",
       "      <script>\n",
       "        const buttonEl =\n",
       "          document.querySelector('#df-c02e3020-8f51-4376-b824-c6e79bb99c35 button.colab-df-convert');\n",
       "        buttonEl.style.display =\n",
       "          google.colab.kernel.accessAllowed ? 'block' : 'none';\n",
       "\n",
       "        async function convertToInteractive(key) {\n",
       "          const element = document.querySelector('#df-c02e3020-8f51-4376-b824-c6e79bb99c35');\n",
       "          const dataTable =\n",
       "            await google.colab.kernel.invokeFunction('convertToInteractive',\n",
       "                                                     [key], {});\n",
       "          if (!dataTable) return;\n",
       "\n",
       "          const docLinkHtml = 'Like what you see? Visit the ' +\n",
       "            '<a target=\"_blank\" href=https://colab.research.google.com/notebooks/data_table.ipynb>data table notebook</a>'\n",
       "            + ' to learn more about interactive tables.';\n",
       "          element.innerHTML = '';\n",
       "          dataTable['output_type'] = 'display_data';\n",
       "          await google.colab.output.renderOutput(dataTable, element);\n",
       "          const docLink = document.createElement('div');\n",
       "          docLink.innerHTML = docLinkHtml;\n",
       "          element.appendChild(docLink);\n",
       "        }\n",
       "      </script>\n",
       "    </div>\n",
       "  </div>\n",
       "  "
      ],
      "text/plain": [
       "     age  anaemia  diabetes  ejection_fraction  high_blood_pressure  \\\n",
       "0     75    False     False                 20                 True   \n",
       "1     55    False     False                 38                False   \n",
       "2     65    False     False                 20                False   \n",
       "3     50     True     False                 20                False   \n",
       "4     65     True      True                 20                False   \n",
       "..   ...      ...       ...                ...                  ...   \n",
       "294   62    False      True                 38                 True   \n",
       "295   55    False     False                 38                False   \n",
       "296   45    False      True                 60                False   \n",
       "297   45    False     False                 38                False   \n",
       "298   50    False     False                 45                False   \n",
       "\n",
       "     platelets  serum_creatinine  serum_sodium     sex  smoking  patient_dead  \\\n",
       "0          265               1.9           130    Male    False          True   \n",
       "1          263               1.1           136    Male    False          True   \n",
       "2          162               1.3           129    Male     True          True   \n",
       "3          210               1.9           137    Male    False          True   \n",
       "4          327               2.7           116  Female    False          True   \n",
       "..         ...               ...           ...     ...      ...           ...   \n",
       "294        155               1.1           143    Male     True         False   \n",
       "295        270               1.2           139  Female    False         False   \n",
       "296        742               0.8           138  Female    False         False   \n",
       "297        140               1.4           140    Male     True         False   \n",
       "298        395               1.6           136    Male     True         False   \n",
       "\n",
       "    age_group  \n",
       "0       75-80  \n",
       "1       55-60  \n",
       "2       65-70  \n",
       "3       50-55  \n",
       "4       65-70  \n",
       "..        ...  \n",
       "294     60-65  \n",
       "295     55-60  \n",
       "296     45-50  \n",
       "297     45-50  \n",
       "298     50-55  \n",
       "\n",
       "[299 rows x 12 columns]"
      ]
     },
     "execution_count": 73,
     "metadata": {},
     "output_type": "execute_result"
    }
   ],
   "source": [
    "#to create a column with age group \n",
    "heart_failure_df['age_group'] = create_range_series(heart_failure_df.age)\n",
    "heart_failure_df"
   ]
  },
  {
   "cell_type": "markdown",
   "metadata": {
    "id": "f1vFMaZ4aE5C"
   },
   "source": [
    "Now that we have created another column in our 'heart_failure_df' data frame for the age groups using our helper function 'create_range_series', let's find the number of patients dead corresponding to the particular age group."
   ]
  },
  {
   "cell_type": "code",
   "execution_count": 74,
   "metadata": {
    "executionInfo": {
     "elapsed": 405,
     "status": "ok",
     "timestamp": 1663870491053,
     "user": {
      "displayName": "Avneet Kumar",
      "userId": "08327085032726843331"
     },
     "user_tz": -330
    },
    "id": "SiUR_FLWY1hQ"
   },
   "outputs": [],
   "source": [
    "dead_patients = heart_failure_df[heart_failure_df.patient_dead == True].groupby('age_group').count()\n",
    "alive_patients = heart_failure_df[heart_failure_df.patient_dead == False].groupby('age_group').count()"
   ]
  },
  {
   "cell_type": "code",
   "execution_count": 76,
   "metadata": {
    "colab": {
     "base_uri": "https://localhost:8080/",
     "height": 721
    },
    "executionInfo": {
     "elapsed": 2757,
     "status": "ok",
     "timestamp": 1663870565959,
     "user": {
      "displayName": "Avneet Kumar",
      "userId": "08327085032726843331"
     },
     "user_tz": -330
    },
    "id": "elKOWJ-aY1fI",
    "outputId": "d6fa00b5-3caf-4fd6-b8ca-7fe0f0b8ecf0"
   },
   "outputs": [
    {
     "name": "stderr",
     "output_type": "stream",
     "text": [
      "/usr/local/lib/python3.7/dist-packages/ipykernel_launcher.py:3: FutureWarning: \n",
      "\n",
      "The `ci` parameter is deprecated. Use `errorbar=None` for the same effect.\n",
      "\n",
      "  This is separate from the ipykernel package so we can avoid doing imports until\n"
     ]
    },
    {
     "data": {
      "image/png": "[encoded data removed]",
      "text/plain": [
       "<Figure size 864x720 with 1 Axes>"
      ]
     },
     "metadata": {},
     "output_type": "display_data"
    }
   ],
   "source": [
    "plt.figure(figsize=(12,10))\n",
    "sns.barplot(x = dead_patients.index , y = dead_patients.patient_dead, alpha=1, palette =['red'])\n",
    "sns.barplot(x = alive_patients.index, y = alive_patients.patient_dead, alpha = 0.5, palette = ['#000000'], estimator=sum, ci=None, )\n",
    "plt.title('Dead or Alive')\n",
    "plt.xlabel('Age group of Patients')\n",
    "dead = mpatches.Patch(color= 'red', label='Dead')\n",
    "alive = mpatches.Patch(color='aquamarine', label='Alive')\n",
    "plt.legend(handles=[dead, alive])\n",
    "plt.ylabel('Number of Patients');"
   ]
  },
  {
   "cell_type": "markdown",
   "metadata": {
    "id": "UFWfBvg4an_T"
   },
   "source": [
    "As we can clearly see, that there are more number of patients died (during the follow-up period is) in 60-65 age group (i.e 15 Patients). It's obvious, since we have more number of patients in 60-65 age group. And the proportion of patients died starts increasing from 65-70 age group and the number of patients died is more than alive patients in the age group of '80-85', '85-90' and '90-95'. This is because over the time, the body’s immune system naturally becomes less capable of handling new threats, such as viruses including novel corona virus. This increases the risk of having issues with various illnesses which ultimately leads to their end."
   ]
  },
  {
   "cell_type": "markdown",
   "metadata": {
    "id": "297lVNjiar9B"
   },
   "source": [
    "#### Death and Gender"
   ]
  },
  {
   "cell_type": "markdown",
   "metadata": {
    "id": "7GfZRIveavMW"
   },
   "source": [
    "We already have a look at the relationship between the different age groups and death rate. Now let's have a look at how the death rate varies with respect to patients gender. Let's use 'countplot' function from seaborn library to visualize."
   ]
  },
  {
   "cell_type": "code",
   "execution_count": 77,
   "metadata": {
    "colab": {
     "base_uri": "https://localhost:8080/",
     "height": 362
    },
    "executionInfo": {
     "elapsed": 1197,
     "status": "ok",
     "timestamp": 1663870689893,
     "user": {
      "displayName": "Avneet Kumar",
      "userId": "08327085032726843331"
     },
     "user_tz": -330
    },
    "id": "iQY8OmsZajAz",
    "outputId": "c7d62a15-c9b9-41e8-e55e-11ae296b5dee"
   },
   "outputs": [
    {
     "data": {
      "image/png": "[encoded data removed]",
      "text/plain": [
       "<Figure size 648x360 with 1 Axes>"
      ]
     },
     "metadata": {},
     "output_type": "display_data"
    }
   ],
   "source": [
    "sns.countplot(x = heart_failure_df.patient_dead, hue = heart_failure_df.sex, palette =['#FFCCCB', '#FF0000'])\n",
    "plt.title('Dead or Alive')\n",
    "plt.xlabel('Patient Dead')\n",
    "plt.ylabel('Number of Patients');"
   ]
  },
  {
   "cell_type": "markdown",
   "metadata": {
    "id": "PkWsGvyPbDQo"
   },
   "source": [
    "We can conclude from the above output, though we have more number of male patients, the proportion of male and female patients died during the follow-up period is almost equal."
   ]
  },
  {
   "cell_type": "markdown",
   "metadata": {
    "id": "0KMCmzDIbHK-"
   },
   "source": [
    "### Diseases"
   ]
  },
  {
   "cell_type": "markdown",
   "metadata": {
    "id": "MMmWaVeLbLhh"
   },
   "source": [
    "We have to analyze the number of patients having anaemia, diabetes, high blood pressure, smoking habit, abnormal ejection fraction, abnormal creatinine and sodium level.\n",
    "\n",
    "So, let's create another column in our data frame to indicate the abnormalities of the various records.\n",
    "\n",
    "Let's use 'subplot' function from 'matplotlib.pyplot' to display 8 plots in a single output."
   ]
  },
  {
   "cell_type": "code",
   "execution_count": 78,
   "metadata": {
    "executionInfo": {
     "elapsed": 582,
     "status": "ok",
     "timestamp": 1663870794781,
     "user": {
      "displayName": "Avneet Kumar",
      "userId": "08327085032726843331"
     },
     "user_tz": -330
    },
    "id": "EGCiTzQjaizl"
   },
   "outputs": [],
   "source": [
    "#create columns to indicate abnormalities \n",
    "heart_failure_df['abnormal_ef'] = np.where(((heart_failure_df.ejection_fraction >= 55) &\n",
    "                                            (heart_failure_df.ejection_fraction <=70)) , 'Normal', 'Abormal')\n",
    "heart_failure_df['abnormal_platelets'] = np.where(((heart_failure_df.platelets >= 150) & \n",
    "                                                   (heart_failure_df.platelets <= 400)) , 'Normal', 'Abnormal')\n",
    "heart_failure_df['abnormal_creatinine'] = np.where(((heart_failure_df.serum_creatinine >= 0.6) & \n",
    "                                                    (heart_failure_df.serum_creatinine <= 1.2)), 'Normal','Abnormal')\n",
    "heart_failure_df['abnormal_sodium'] = np.where(((heart_failure_df.serum_sodium >= 135) & \n",
    "                                                (heart_failure_df.serum_sodium <= 145)) , 'Normal', 'Abnormal') "
   ]
  },
  {
   "cell_type": "code",
   "execution_count": 83,
   "metadata": {
    "colab": {
     "base_uri": "https://localhost:8080/",
     "height": 480
    },
    "executionInfo": {
     "elapsed": 2679,
     "status": "ok",
     "timestamp": 1663871127145,
     "user": {
      "displayName": "Avneet Kumar",
      "userId": "08327085032726843331"
     },
     "user_tz": -330
    },
    "id": "Sf-nETkSaixK",
    "outputId": "40cea433-5a93-4944-b716-13afa95f8ef4"
   },
   "outputs": [
    {
     "data": {
      "image/png": "[encoded data removed]",
      "text/plain": [
       "<Figure size 1728x864 with 8 Axes>"
      ]
     },
     "metadata": {},
     "output_type": "display_data"
    }
   ],
   "source": [
    "fig, axis = plt.subplots(2,4, figsize =(24, 12)) \n",
    "#axis(0,0) use this axis for Anaemia \n",
    "axis[0,0].set_title(\" Patients with Anaemia\")\n",
    "sns.countplot(x = heart_failure_df.anaemia, ax=axis[0,0], palette=['#FFCCCB', 'lightcoral'] )\n",
    "axis[0,0].set_xlabel(\"\")\n",
    "axis[0,0].set_ylabel(\"Number of Patients\")\n",
    "axis[0,0].set_ylim([0, 220])\n",
    "\n",
    "#axis(0,1) use this axis for Diabetes \n",
    "axis[0,1].set_title(\" Patients with Diabetes\")\n",
    "sns.countplot(x = heart_failure_df.diabetes, ax=axis[0,1], palette=['#9FE2BF', 'lightcoral'])\n",
    "axis[0,1].set_xlabel(\"\")\n",
    "axis[0,1].set_ylabel(\"Number of Patients\")\n",
    "axis[0,1].set_ylim([0, 220])\n",
    "\n",
    "\n",
    "#axis(0,2) use this axis for High blood pressure \n",
    "axis[0,2].set_title(\" Patients with High Blood Pressure\")\n",
    "sns.countplot(x = heart_failure_df.high_blood_pressure, ax=axis[0,2], palette=['#CCCCFF', 'lightcoral'])\n",
    "axis[0,2].set_xlabel(\"\")\n",
    "axis[0,2].set_ylabel(\"Number of Patients\")\n",
    "axis[0,2].set_ylim([0, 220])\n",
    "\n",
    "#axis(0,3) use this axis for smoking habit \n",
    "axis[0,3].set_title(\" Patients with Smoking Habit\")\n",
    "sns.countplot(x = heart_failure_df.smoking, ax=axis[0,3], palette=['#FF7F50', 'lightcoral'])\n",
    "axis[0,3].set_xlabel(\"\")\n",
    "axis[0,3].set_ylabel(\"Number of Patients\")\n",
    "axis[0,3].set_ylim([0, 220])\n",
    "\n",
    "\n",
    "#axis(1,0) use this axis for Ejection Fraction \n",
    "axis[1,0].set_title(\" Patients with Abnormal EF\")\n",
    "sns.countplot(x = heart_failure_df.abnormal_ef.sort_values(ascending =False) , ax=axis[1,0], palette=['#6495ED', 'lightcoral'])\n",
    "axis[1,0].set_xlabel(\"\")\n",
    "axis[1,0].set_ylabel(\"Number of Patients\")\n",
    "axis[1,0].set_ylim([0, 270])\n",
    "\n",
    "#axis(1,1) use this axis for Platelets count \n",
    "axis[1,1].set_title(\" Patients with Abnormal Platelets Count\")\n",
    "sns.countplot(x = heart_failure_df.abnormal_platelets.sort_values(ascending =False) , ax=axis[1,1], palette=['#E9967A', 'lightcoral'])\n",
    "axis[1,1].set_xlabel(\"\")\n",
    "axis[1,1].set_ylabel(\"Number of Patients\")\n",
    "axis[1,1].set_ylim([0, 270])\n",
    "\n",
    "#axis(1,2) use this axis for Creatinine level \n",
    "axis[1,2].set_title(\" Patients with Abnormal Creatinine level\")\n",
    "sns.countplot(x = heart_failure_df.abnormal_creatinine.sort_values(ascending =False), ax=axis[1,2], palette=['#FFA07A', 'lightcoral'])\n",
    "axis[1,2].set_xlabel(\"\")\n",
    "axis[1,2].set_ylabel(\"Number of Patients\")\n",
    "axis[1,2].set_ylim([0, 270])\n",
    "\n",
    "#axis(1,3) use this axis for sodium level\n",
    "axis[1,3].set_title(\" Patients with Abnormal Sodium level\")\n",
    "sns.countplot(x = heart_failure_df.abnormal_sodium.sort_values(ascending =False), ax=axis[1,3], palette=['#FFBF00', 'lightcoral'])\n",
    "axis[1,3].set_xlabel(\"\")\n",
    "axis[1,3].set_ylabel(\"Number of Patients\")\n",
    "axis[1,3].set_ylim([0, 270])\n",
    "\n",
    "#to provide spacing between adjacent plots\n",
    "plt.tight_layout(pad=2);"
   ]
  },
  {
   "cell_type": "markdown",
   "metadata": {
    "id": "kSgDAS6VcusR"
   },
   "source": [
    "As we can clearly identify, that abnormality in Ejection Fraction(EF) is the most common factor among the heart failure patients.\n",
    "\n",
    "\"EF refers to the amount of blood being pumped out of the left ventricle each time it contracts. The left ventricle is the heart's main pumping chamber. Heart failure (HF) occurs when the heart cannot pump enough blood to meet the needs of the body\".\n",
    "\n",
    "Low EF is one of the primary reasons which causes heart failure, that's the reason we have more number of patients with abnormal Ejection Fraction.\n",
    "\n",
    "Abnormal Ejection Fraction is followed by the abnormal creatinine and sodium level respectively, the factor which is least common among the heart failure patients is abnormal Platelets Count (i.e only 47 Patients).\n",
    "\n",
    "Number of Patients with Anaemia, Diabetes and High Blood Pressure are almost equal and ranges from 100 - 120 Patients."
   ]
  },
  {
   "cell_type": "markdown",
   "metadata": {
    "id": "S-pFumWvcyau"
   },
   "source": [
    "#### Pair wise relationship"
   ]
  },
  {
   "cell_type": "markdown",
   "metadata": {
    "id": "5Q1e2LpIc3a7"
   },
   "source": [
    "A pair plot gives pairwise relationships in a dataset. Let’s say that we have 5 variables in a dataset. When we implement pair plot with this data, it will create plots between those 5 variables. Say for example, the first variable will be taken as the x-axis value and other variables will be taken as y-axis value individually. As a result, you will have 5 plots for 1st variable alone. This will be repeated for the other variables as well.\n",
    "\n",
    "The idea behind pair plot is to understand the relationship between the variables present in the data.\n",
    "\n",
    "Let's separate numeric columns from the dataset to apply 'pairplot' function to understand the relationship between the different attributes."
   ]
  },
  {
   "cell_type": "code",
   "execution_count": 84,
   "metadata": {
    "executionInfo": {
     "elapsed": 486,
     "status": "ok",
     "timestamp": 1663871206330,
     "user": {
      "displayName": "Avneet Kumar",
      "userId": "08327085032726843331"
     },
     "user_tz": -330
    },
    "id": "8gHcB5hqaitM"
   },
   "outputs": [],
   "source": [
    "#filter columns with numeric value\n",
    "numeric_column = heart_failure_df[['age', 'ejection_fraction', 'platelets', 'serum_creatinine', 'serum_sodium']]"
   ]
  },
  {
   "cell_type": "code",
   "execution_count": 85,
   "metadata": {
    "colab": {
     "base_uri": "https://localhost:8080/",
     "height": 899
    },
    "executionInfo": {
     "elapsed": 12083,
     "status": "ok",
     "timestamp": 1663871227951,
     "user": {
      "displayName": "Avneet Kumar",
      "userId": "08327085032726843331"
     },
     "user_tz": -330
    },
    "id": "mimjT352aiqk",
    "outputId": "59be1bb3-bc0e-42b2-a282-913b6e125ddb"
   },
   "outputs": [
    {
     "data": {
      "image/png": "[encoded data removed]",
      "text/plain": [
       "<Figure size 900x900 with 30 Axes>"
      ]
     },
     "metadata": {},
     "output_type": "display_data"
    }
   ],
   "source": [
    "sns.pairplot(numeric_column);"
   ]
  },
  {
   "cell_type": "markdown",
   "metadata": {
    "id": "ChgKqJhldDIl"
   },
   "source": [
    "By using 'pairplot' function, we can easily understand and visualize the relationship between the different variables. For example, from the above output we found that only a few patients has normal creatinine and sodium level."
   ]
  },
  {
   "cell_type": "markdown",
   "metadata": {
    "id": "uxk8J2ywdELL"
   },
   "source": [
    "#### Attributes - Distribution"
   ]
  },
  {
   "cell_type": "markdown",
   "metadata": {
    "id": "WvQtj3sgdIYX"
   },
   "source": [
    "Let's build distribution plot for all columns with numeric values.\n",
    "\n",
    "Distribution plot helps us to find whether the variables are normally distributed or skewed."
   ]
  },
  {
   "cell_type": "code",
   "execution_count": 86,
   "metadata": {
    "colab": {
     "base_uri": "https://localhost:8080/",
     "height": 362
    },
    "executionInfo": {
     "elapsed": 2114,
     "status": "ok",
     "timestamp": 1663873146280,
     "user": {
      "displayName": "Avneet Kumar",
      "userId": "08327085032726843331"
     },
     "user_tz": -330
    },
    "id": "oMUN9ju5aini",
    "outputId": "d3082e16-c84b-4fa6-e8ce-5fcf7a17ebc1"
   },
   "outputs": [
    {
     "data": {
      "image/png": "[encoded data removed]",
      "text/plain": [
       "<Figure size 648x360 with 1 Axes>"
      ]
     },
     "metadata": {},
     "output_type": "display_data"
    }
   ],
   "source": [
    "plt.title(\"Distribution of Ejection Fraction\")\n",
    "sns.histplot(heart_failure_df.ejection_fraction, kde = True, color ='#C71585');"
   ]
  },
  {
   "cell_type": "code",
   "execution_count": 87,
   "metadata": {
    "colab": {
     "base_uri": "https://localhost:8080/",
     "height": 362
    },
    "executionInfo": {
     "elapsed": 1480,
     "status": "ok",
     "timestamp": 1663873185632,
     "user": {
      "displayName": "Avneet Kumar",
      "userId": "08327085032726843331"
     },
     "user_tz": -330
    },
    "id": "6SR7xqhhailA",
    "outputId": "ea6c5e86-7292-4554-c10f-934fb94a15c7"
   },
   "outputs": [
    {
     "data": {
      "image/png": "[encoded data removed]",
      "text/plain": [
       "<Figure size 648x360 with 1 Axes>"
      ]
     },
     "metadata": {},
     "output_type": "display_data"
    }
   ],
   "source": [
    "plt.title(\"Distribution of Platelets Count\") \n",
    "sns.histplot(heart_failure_df.platelets, kde = True, color ='#FF4500');"
   ]
  },
  {
   "cell_type": "code",
   "execution_count": 91,
   "metadata": {
    "colab": {
     "base_uri": "https://localhost:8080/",
     "height": 362
    },
    "executionInfo": {
     "elapsed": 2125,
     "status": "ok",
     "timestamp": 1663873318503,
     "user": {
      "displayName": "Avneet Kumar",
      "userId": "08327085032726843331"
     },
     "user_tz": -330
    },
    "id": "Hub0ZBFRaih3",
    "outputId": "bd6b79c0-ec51-4efb-e308-fbabe5b974f0"
   },
   "outputs": [
    {
     "data": {
      "image/png": "[encoded data removed]",
      "text/plain": [
       "<Figure size 648x360 with 1 Axes>"
      ]
     },
     "metadata": {},
     "output_type": "display_data"
    }
   ],
   "source": [
    "plt.title(\"Distribution of Creatinine Level in the blood\") \n",
    "sns.histplot(heart_failure_df.serum_creatinine, kde = True, bins = 30, color ='#BA55D3');"
   ]
  },
  {
   "cell_type": "code",
   "execution_count": 92,
   "metadata": {
    "colab": {
     "base_uri": "https://localhost:8080/",
     "height": 362
    },
    "executionInfo": {
     "elapsed": 1421,
     "status": "ok",
     "timestamp": 1663873343953,
     "user": {
      "displayName": "Avneet Kumar",
      "userId": "08327085032726843331"
     },
     "user_tz": -330
    },
    "id": "E8rvr8PTkoxJ",
    "outputId": "91b81b00-1a10-4352-f40c-35d4622b8596"
   },
   "outputs": [
    {
     "data": {
      "image/png": "[encoded data removed]",
      "text/plain": [
       "<Figure size 648x360 with 1 Axes>"
      ]
     },
     "metadata": {},
     "output_type": "display_data"
    }
   ],
   "source": [
    "plt.title(\"Distribution of Sodium Level in the blood\") \n",
    "sns.histplot(heart_failure_df.serum_sodium, kde = True, color ='#BDB76B');"
   ]
  },
  {
   "cell_type": "markdown",
   "metadata": {
    "id": "_tCxtn2rlGnM"
   },
   "source": [
    "Now that we have plotted distribution plot for platelets count, creatinine level, sodium level and ejection fraction and it's obvious that no values are normally distributed. Platelets count, Ejection Fraction and Creatinine Level are right skewed and Sodium Level is left skewed. If the skewness in the data is more, we may have to perform some modifications, in order to get better results from the Machine Learning models once we train them."
   ]
  },
  {
   "cell_type": "markdown",
   "metadata": {
    "id": "UkW8q9MhlR-5"
   },
   "source": [
    "## Question & Answer\n",
    "\n",
    "We've already gained several insights about the heart failure patients and their clinical records by exploring individual columns of the dataset. Let's ask some specific questions and we'll try to answer them using data frame operations and visualization."
   ]
  },
  {
   "cell_type": "markdown",
   "metadata": {
    "id": "W0bhB1QNli6x"
   },
   "source": [
    "### Ques: How many number of patients are there in our observation? out of them how many male and female patients are there?"
   ]
  },
  {
   "cell_type": "code",
   "execution_count": 93,
   "metadata": {
    "colab": {
     "base_uri": "https://localhost:8080/"
    },
    "executionInfo": {
     "elapsed": 467,
     "status": "ok",
     "timestamp": 1663873485589,
     "user": {
      "displayName": "Avneet Kumar",
      "userId": "08327085032726843331"
     },
     "user_tz": -330
    },
    "id": "eTItqQwfkosB",
    "outputId": "ab95c187-1216-4db1-b8bc-5fbe60fcdd2a"
   },
   "outputs": [
    {
     "data": {
      "text/plain": [
       "(299, 16)"
      ]
     },
     "execution_count": 93,
     "metadata": {},
     "output_type": "execute_result"
    }
   ],
   "source": [
    "heart_failure_df.shape"
   ]
  },
  {
   "cell_type": "code",
   "execution_count": 94,
   "metadata": {
    "colab": {
     "base_uri": "https://localhost:8080/"
    },
    "executionInfo": {
     "elapsed": 12,
     "status": "ok",
     "timestamp": 1663873500180,
     "user": {
      "displayName": "Avneet Kumar",
      "userId": "08327085032726843331"
     },
     "user_tz": -330
    },
    "id": "doHlJd-Jkope",
    "outputId": "4434785b-a5d1-4d91-ebd0-f67a76238ed7"
   },
   "outputs": [
    {
     "name": "stdout",
     "output_type": "stream",
     "text": [
      "Total number of patients in our observation is 299.\n"
     ]
    }
   ],
   "source": [
    "print(\"Total number of patients in our observation is {}.\".format(heart_failure_df.shape[0]))"
   ]
  },
  {
   "cell_type": "code",
   "execution_count": 95,
   "metadata": {
    "colab": {
     "base_uri": "https://localhost:8080/"
    },
    "executionInfo": {
     "elapsed": 665,
     "status": "ok",
     "timestamp": 1663873518167,
     "user": {
      "displayName": "Avneet Kumar",
      "userId": "08327085032726843331"
     },
     "user_tz": -330
    },
    "id": "4_kAUleOkom4",
    "outputId": "d597cf4f-5393-4cd1-a51f-0d732060d5ea"
   },
   "outputs": [
    {
     "data": {
      "text/plain": [
       "Male      194\n",
       "Female    105\n",
       "Name: sex, dtype: int64"
      ]
     },
     "execution_count": 95,
     "metadata": {},
     "output_type": "execute_result"
    }
   ],
   "source": [
    "heart_failure_df.sex.value_counts()"
   ]
  },
  {
   "cell_type": "code",
   "execution_count": 96,
   "metadata": {
    "colab": {
     "base_uri": "https://localhost:8080/"
    },
    "executionInfo": {
     "elapsed": 413,
     "status": "ok",
     "timestamp": 1663873541183,
     "user": {
      "displayName": "Avneet Kumar",
      "userId": "08327085032726843331"
     },
     "user_tz": -330
    },
    "id": "FtwC1U66kokY",
    "outputId": "304633ce-e0a7-4201-d5c4-06b3af4eacd5"
   },
   "outputs": [
    {
     "name": "stdout",
     "output_type": "stream",
     "text": [
      "Number of Male patients in our observation is 194.\n",
      "Number of Female patients in our observation is 105.\n"
     ]
    }
   ],
   "source": [
    "print(\"Number of Male patients in our observation is {}.\".format(heart_failure_df.sex.value_counts()[0]))\n",
    "print(\"Number of Female patients in our observation is {}.\".format(heart_failure_df.sex.value_counts()[1]))"
   ]
  },
  {
   "cell_type": "markdown",
   "metadata": {
    "id": "H_sSz4VTmDLQ"
   },
   "source": [
    "### Ques: What is the normal level of Ejection Fraction? How many patients had abnormal Ejection Fraction?"
   ]
  },
  {
   "cell_type": "code",
   "execution_count": 97,
   "metadata": {
    "colab": {
     "base_uri": "https://localhost:8080/",
     "height": 35
    },
    "executionInfo": {
     "elapsed": 700,
     "status": "ok",
     "timestamp": 1663873616773,
     "user": {
      "displayName": "Avneet Kumar",
      "userId": "08327085032726843331"
     },
     "user_tz": -330
    },
    "id": "UetK27GUaifi",
    "outputId": "858c53e9-c845-406c-b28e-b2e05f587cf0"
   },
   "outputs": [
    {
     "data": {
      "application/vnd.google.colaboratory.intrinsic+json": {
       "type": "string"
      },
      "text/plain": [
       "'55% - 70%'"
      ]
     },
     "execution_count": 97,
     "metadata": {},
     "output_type": "execute_result"
    }
   ],
   "source": [
    "column_details_df.normal_value['ejection_fraction']"
   ]
  },
  {
   "cell_type": "code",
   "execution_count": 98,
   "metadata": {
    "colab": {
     "base_uri": "https://localhost:8080/"
    },
    "executionInfo": {
     "elapsed": 440,
     "status": "ok",
     "timestamp": 1663873640434,
     "user": {
      "displayName": "Avneet Kumar",
      "userId": "08327085032726843331"
     },
     "user_tz": -330
    },
    "id": "fwSmMYi0QCCX",
    "outputId": "27a27e0a-534a-4d15-9f65-ef55f6f33fc1"
   },
   "outputs": [
    {
     "name": "stdout",
     "output_type": "stream",
     "text": [
      "The normal level of Ejection Fraction is 55% - 70%.\n"
     ]
    }
   ],
   "source": [
    "print(\"The normal level of Ejection Fraction is {}.\".format(column_details_df.normal_value['ejection_fraction']))"
   ]
  },
  {
   "cell_type": "code",
   "execution_count": 99,
   "metadata": {
    "colab": {
     "base_uri": "https://localhost:8080/"
    },
    "executionInfo": {
     "elapsed": 481,
     "status": "ok",
     "timestamp": 1663873656518,
     "user": {
      "displayName": "Avneet Kumar",
      "userId": "08327085032726843331"
     },
     "user_tz": -330
    },
    "id": "fW0zJMhkmNn4",
    "outputId": "f7e966a0-bb3d-4180-d021-d5183f1c5302"
   },
   "outputs": [
    {
     "data": {
      "text/plain": [
       "(38, 16)"
      ]
     },
     "execution_count": 99,
     "metadata": {},
     "output_type": "execute_result"
    }
   ],
   "source": [
    "heart_failure_df[(heart_failure_df.ejection_fraction >= 55) & (heart_failure_df.ejection_fraction <= 70)].shape"
   ]
  },
  {
   "cell_type": "code",
   "execution_count": 101,
   "metadata": {
    "colab": {
     "base_uri": "https://localhost:8080/"
    },
    "executionInfo": {
     "elapsed": 431,
     "status": "ok",
     "timestamp": 1663873693620,
     "user": {
      "displayName": "Avneet Kumar",
      "userId": "08327085032726843331"
     },
     "user_tz": -330
    },
    "id": "HfpF82pFmNk6",
    "outputId": "871561c7-6c1a-436d-df16-7e18da96b42b"
   },
   "outputs": [
    {
     "name": "stdout",
     "output_type": "stream",
     "text": [
      "Number of Patients with Normal Ejection Fraction rate is 38\n"
     ]
    }
   ],
   "source": [
    "print(\"Number of Patients with Normal Ejection Fraction rate is {}\".format(heart_failure_df[(heart_failure_df.ejection_fraction >= 55) &\n",
    "                                                                                             (heart_failure_df.ejection_fraction <= 70)].shape[0]))"
   ]
  },
  {
   "cell_type": "markdown",
   "metadata": {
    "id": "pcZAZZQbmi1B"
   },
   "source": [
    "### Ques: How many patients had smoking habit? out of them how many male and female patients are there?"
   ]
  },
  {
   "cell_type": "code",
   "execution_count": 102,
   "metadata": {
    "colab": {
     "base_uri": "https://localhost:8080/",
     "height": 488
    },
    "executionInfo": {
     "elapsed": 21,
     "status": "ok",
     "timestamp": 1663873742836,
     "user": {
      "displayName": "Avneet Kumar",
      "userId": "08327085032726843331"
     },
     "user_tz": -330
    },
    "id": "o2b4k8dPmNid",
    "outputId": "74b934a0-24c8-4735-a02e-274912d774e0"
   },
   "outputs": [
    {
     "data": {
      "text/html": [
       "\n",
       "  <div id=\"df-0c7569ef-752d-40db-8088-e72ab80fa931\">\n",
       "    <div class=\"colab-df-container\">\n",
       "      <div>\n",
       "<style scoped>\n",
       "    .dataframe tbody tr th:only-of-type {\n",
       "        vertical-align: middle;\n",
       "    }\n",
       "\n",
       "    .dataframe tbody tr th {\n",
       "        vertical-align: top;\n",
       "    }\n",
       "\n",
       "    .dataframe thead th {\n",
       "        text-align: right;\n",
       "    }\n",
       "</style>\n",
       "<table border=\"1\" class=\"dataframe\">\n",
       "  <thead>\n",
       "    <tr style=\"text-align: right;\">\n",
       "      <th></th>\n",
       "      <th>age</th>\n",
       "      <th>anaemia</th>\n",
       "      <th>diabetes</th>\n",
       "      <th>ejection_fraction</th>\n",
       "      <th>high_blood_pressure</th>\n",
       "      <th>platelets</th>\n",
       "      <th>serum_creatinine</th>\n",
       "      <th>serum_sodium</th>\n",
       "      <th>sex</th>\n",
       "      <th>smoking</th>\n",
       "      <th>patient_dead</th>\n",
       "      <th>age_group</th>\n",
       "      <th>abnormal_ef</th>\n",
       "      <th>abnormal_platelets</th>\n",
       "      <th>abnormal_creatinine</th>\n",
       "      <th>abnormal_sodium</th>\n",
       "    </tr>\n",
       "  </thead>\n",
       "  <tbody>\n",
       "    <tr>\n",
       "      <th>2</th>\n",
       "      <td>65</td>\n",
       "      <td>False</td>\n",
       "      <td>False</td>\n",
       "      <td>20</td>\n",
       "      <td>False</td>\n",
       "      <td>162</td>\n",
       "      <td>1.3</td>\n",
       "      <td>129</td>\n",
       "      <td>Male</td>\n",
       "      <td>True</td>\n",
       "      <td>True</td>\n",
       "      <td>65-70</td>\n",
       "      <td>Abormal</td>\n",
       "      <td>Normal</td>\n",
       "      <td>Abnormal</td>\n",
       "      <td>Abnormal</td>\n",
       "    </tr>\n",
       "    <tr>\n",
       "      <th>5</th>\n",
       "      <td>90</td>\n",
       "      <td>True</td>\n",
       "      <td>False</td>\n",
       "      <td>40</td>\n",
       "      <td>True</td>\n",
       "      <td>204</td>\n",
       "      <td>2.1</td>\n",
       "      <td>132</td>\n",
       "      <td>Male</td>\n",
       "      <td>True</td>\n",
       "      <td>True</td>\n",
       "      <td>90-95</td>\n",
       "      <td>Abormal</td>\n",
       "      <td>Normal</td>\n",
       "      <td>Abnormal</td>\n",
       "      <td>Abnormal</td>\n",
       "    </tr>\n",
       "    <tr>\n",
       "      <th>7</th>\n",
       "      <td>60</td>\n",
       "      <td>True</td>\n",
       "      <td>True</td>\n",
       "      <td>60</td>\n",
       "      <td>False</td>\n",
       "      <td>454</td>\n",
       "      <td>1.1</td>\n",
       "      <td>131</td>\n",
       "      <td>Male</td>\n",
       "      <td>True</td>\n",
       "      <td>True</td>\n",
       "      <td>60-65</td>\n",
       "      <td>Normal</td>\n",
       "      <td>Abnormal</td>\n",
       "      <td>Normal</td>\n",
       "      <td>Abnormal</td>\n",
       "    </tr>\n",
       "    <tr>\n",
       "      <th>9</th>\n",
       "      <td>80</td>\n",
       "      <td>True</td>\n",
       "      <td>False</td>\n",
       "      <td>35</td>\n",
       "      <td>True</td>\n",
       "      <td>388</td>\n",
       "      <td>9.4</td>\n",
       "      <td>133</td>\n",
       "      <td>Male</td>\n",
       "      <td>True</td>\n",
       "      <td>True</td>\n",
       "      <td>80-85</td>\n",
       "      <td>Abormal</td>\n",
       "      <td>Normal</td>\n",
       "      <td>Abnormal</td>\n",
       "      <td>Abnormal</td>\n",
       "    </tr>\n",
       "    <tr>\n",
       "      <th>10</th>\n",
       "      <td>75</td>\n",
       "      <td>True</td>\n",
       "      <td>False</td>\n",
       "      <td>38</td>\n",
       "      <td>True</td>\n",
       "      <td>368</td>\n",
       "      <td>4.0</td>\n",
       "      <td>131</td>\n",
       "      <td>Male</td>\n",
       "      <td>True</td>\n",
       "      <td>True</td>\n",
       "      <td>75-80</td>\n",
       "      <td>Abormal</td>\n",
       "      <td>Normal</td>\n",
       "      <td>Abnormal</td>\n",
       "      <td>Abnormal</td>\n",
       "    </tr>\n",
       "    <tr>\n",
       "      <th>...</th>\n",
       "      <td>...</td>\n",
       "      <td>...</td>\n",
       "      <td>...</td>\n",
       "      <td>...</td>\n",
       "      <td>...</td>\n",
       "      <td>...</td>\n",
       "      <td>...</td>\n",
       "      <td>...</td>\n",
       "      <td>...</td>\n",
       "      <td>...</td>\n",
       "      <td>...</td>\n",
       "      <td>...</td>\n",
       "      <td>...</td>\n",
       "      <td>...</td>\n",
       "      <td>...</td>\n",
       "      <td>...</td>\n",
       "    </tr>\n",
       "    <tr>\n",
       "      <th>292</th>\n",
       "      <td>52</td>\n",
       "      <td>False</td>\n",
       "      <td>True</td>\n",
       "      <td>38</td>\n",
       "      <td>False</td>\n",
       "      <td>382</td>\n",
       "      <td>1.0</td>\n",
       "      <td>140</td>\n",
       "      <td>Male</td>\n",
       "      <td>True</td>\n",
       "      <td>False</td>\n",
       "      <td>50-55</td>\n",
       "      <td>Abormal</td>\n",
       "      <td>Normal</td>\n",
       "      <td>Normal</td>\n",
       "      <td>Normal</td>\n",
       "    </tr>\n",
       "    <tr>\n",
       "      <th>293</th>\n",
       "      <td>63</td>\n",
       "      <td>True</td>\n",
       "      <td>True</td>\n",
       "      <td>35</td>\n",
       "      <td>False</td>\n",
       "      <td>179</td>\n",
       "      <td>0.9</td>\n",
       "      <td>136</td>\n",
       "      <td>Male</td>\n",
       "      <td>True</td>\n",
       "      <td>False</td>\n",
       "      <td>60-65</td>\n",
       "      <td>Abormal</td>\n",
       "      <td>Normal</td>\n",
       "      <td>Normal</td>\n",
       "      <td>Normal</td>\n",
       "    </tr>\n",
       "    <tr>\n",
       "      <th>294</th>\n",
       "      <td>62</td>\n",
       "      <td>False</td>\n",
       "      <td>True</td>\n",
       "      <td>38</td>\n",
       "      <td>True</td>\n",
       "      <td>155</td>\n",
       "      <td>1.1</td>\n",
       "      <td>143</td>\n",
       "      <td>Male</td>\n",
       "      <td>True</td>\n",
       "      <td>False</td>\n",
       "      <td>60-65</td>\n",
       "      <td>Abormal</td>\n",
       "      <td>Normal</td>\n",
       "      <td>Normal</td>\n",
       "      <td>Normal</td>\n",
       "    </tr>\n",
       "    <tr>\n",
       "      <th>297</th>\n",
       "      <td>45</td>\n",
       "      <td>False</td>\n",
       "      <td>False</td>\n",
       "      <td>38</td>\n",
       "      <td>False</td>\n",
       "      <td>140</td>\n",
       "      <td>1.4</td>\n",
       "      <td>140</td>\n",
       "      <td>Male</td>\n",
       "      <td>True</td>\n",
       "      <td>False</td>\n",
       "      <td>45-50</td>\n",
       "      <td>Abormal</td>\n",
       "      <td>Abnormal</td>\n",
       "      <td>Abnormal</td>\n",
       "      <td>Normal</td>\n",
       "    </tr>\n",
       "    <tr>\n",
       "      <th>298</th>\n",
       "      <td>50</td>\n",
       "      <td>False</td>\n",
       "      <td>False</td>\n",
       "      <td>45</td>\n",
       "      <td>False</td>\n",
       "      <td>395</td>\n",
       "      <td>1.6</td>\n",
       "      <td>136</td>\n",
       "      <td>Male</td>\n",
       "      <td>True</td>\n",
       "      <td>False</td>\n",
       "      <td>50-55</td>\n",
       "      <td>Abormal</td>\n",
       "      <td>Normal</td>\n",
       "      <td>Abnormal</td>\n",
       "      <td>Normal</td>\n",
       "    </tr>\n",
       "  </tbody>\n",
       "</table>\n",
       "<p>96 rows × 16 columns</p>\n",
       "</div>\n",
       "      <button class=\"colab-df-convert\" onclick=\"convertToInteractive('df-0c7569ef-752d-40db-8088-e72ab80fa931')\"\n",
       "              title=\"Convert this dataframe to an interactive table.\"\n",
       "              style=\"display:none;\">\n",
       "        \n",
       "  <svg xmlns=\"http://www.w3.org/2000/svg\" height=\"24px\"viewBox=\"0 0 24 24\"\n",
       "       width=\"24px\">\n",
       "    <path d=\"M0 0h24v24H0V0z\" fill=\"none\"/>\n",
       "    <path d=\"M18.56 5.44l.94 2.06.94-2.06 2.06-.94-2.06-.94-.94-2.06-.94 2.06-2.06.94zm-11 1L8.5 8.5l.94-2.06 2.06-.94-2.06-.94L8.5 2.5l-.94 2.06-2.06.94zm10 10l.94 2.06.94-2.06 2.06-.94-2.06-.94-.94-2.06-.94 2.06-2.06.94z\"/><path d=\"M17.41 7.96l-1.37-1.37c-.4-.4-.92-.59-1.43-.59-.52 0-1.04.2-1.43.59L10.3 9.45l-7.72 7.72c-.78.78-.78 2.05 0 2.83L4 21.41c.39.39.9.59 1.41.59.51 0 1.02-.2 1.41-.59l7.78-7.78 2.81-2.81c.8-.78.8-2.07 0-2.86zM5.41 20L4 18.59l7.72-7.72 1.47 1.35L5.41 20z\"/>\n",
       "  </svg>\n",
       "      </button>\n",
       "      \n",
       "  <style>\n",
       "    .colab-df-container {\n",
       "      display:flex;\n",
       "      flex-wrap:wrap;\n",
       "      gap: 12px;\n",
       "    }\n",
       "\n",
       "    .colab-df-convert {\n",
       "      background-color: #E8F0FE;\n",
       "      border: none;\n",
       "      border-radius: 50%;\n",
       "      cursor: pointer;\n",
       "      display: none;\n",
       "      fill: #1967D2;\n",
       "      height: 32px;\n",
       "      padding: 0 0 0 0;\n",
       "      width: 32px;\n",
       "    }\n",
       "\n",
       "    .colab-df-convert:hover {\n",
       "      background-color: #E2EBFA;\n",
       "      box-shadow: 0px 1px 2px rgba(60, 64, 67, 0.3), 0px 1px 3px 1px rgba(60, 64, 67, 0.15);\n",
       "      fill: #174EA6;\n",
       "    }\n",
       "\n",
       "    [theme=dark] .colab-df-convert {\n",
       "      background-color: #3B4455;\n",
       "      fill: #D2E3FC;\n",
       "    }\n",
       "\n",
       "    [theme=dark] .colab-df-convert:hover {\n",
       "      background-color: #434B5C;\n",
       "      box-shadow: 0px 1px 3px 1px rgba(0, 0, 0, 0.15);\n",
       "      filter: drop-shadow(0px 1px 2px rgba(0, 0, 0, 0.3));\n",
       "      fill: #FFFFFF;\n",
       "    }\n",
       "  </style>\n",
       "\n",
       "      <script>\n",
       "        const buttonEl =\n",
       "          document.querySelector('#df-0c7569ef-752d-40db-8088-e72ab80fa931 button.colab-df-convert');\n",
       "        buttonEl.style.display =\n",
       "          google.colab.kernel.accessAllowed ? 'block' : 'none';\n",
       "\n",
       "        async function convertToInteractive(key) {\n",
       "          const element = document.querySelector('#df-0c7569ef-752d-40db-8088-e72ab80fa931');\n",
       "          const dataTable =\n",
       "            await google.colab.kernel.invokeFunction('convertToInteractive',\n",
       "                                                     [key], {});\n",
       "          if (!dataTable) return;\n",
       "\n",
       "          const docLinkHtml = 'Like what you see? Visit the ' +\n",
       "            '<a target=\"_blank\" href=https://colab.research.google.com/notebooks/data_table.ipynb>data table notebook</a>'\n",
       "            + ' to learn more about interactive tables.';\n",
       "          element.innerHTML = '';\n",
       "          dataTable['output_type'] = 'display_data';\n",
       "          await google.colab.output.renderOutput(dataTable, element);\n",
       "          const docLink = document.createElement('div');\n",
       "          docLink.innerHTML = docLinkHtml;\n",
       "          element.appendChild(docLink);\n",
       "        }\n",
       "      </script>\n",
       "    </div>\n",
       "  </div>\n",
       "  "
      ],
      "text/plain": [
       "     age  anaemia  diabetes  ejection_fraction  high_blood_pressure  \\\n",
       "2     65    False     False                 20                False   \n",
       "5     90     True     False                 40                 True   \n",
       "7     60     True      True                 60                False   \n",
       "9     80     True     False                 35                 True   \n",
       "10    75     True     False                 38                 True   \n",
       "..   ...      ...       ...                ...                  ...   \n",
       "292   52    False      True                 38                False   \n",
       "293   63     True      True                 35                False   \n",
       "294   62    False      True                 38                 True   \n",
       "297   45    False     False                 38                False   \n",
       "298   50    False     False                 45                False   \n",
       "\n",
       "     platelets  serum_creatinine  serum_sodium   sex  smoking  patient_dead  \\\n",
       "2          162               1.3           129  Male     True          True   \n",
       "5          204               2.1           132  Male     True          True   \n",
       "7          454               1.1           131  Male     True          True   \n",
       "9          388               9.4           133  Male     True          True   \n",
       "10         368               4.0           131  Male     True          True   \n",
       "..         ...               ...           ...   ...      ...           ...   \n",
       "292        382               1.0           140  Male     True         False   \n",
       "293        179               0.9           136  Male     True         False   \n",
       "294        155               1.1           143  Male     True         False   \n",
       "297        140               1.4           140  Male     True         False   \n",
       "298        395               1.6           136  Male     True         False   \n",
       "\n",
       "    age_group abnormal_ef abnormal_platelets abnormal_creatinine  \\\n",
       "2       65-70     Abormal             Normal            Abnormal   \n",
       "5       90-95     Abormal             Normal            Abnormal   \n",
       "7       60-65      Normal           Abnormal              Normal   \n",
       "9       80-85     Abormal             Normal            Abnormal   \n",
       "10      75-80     Abormal             Normal            Abnormal   \n",
       "..        ...         ...                ...                 ...   \n",
       "292     50-55     Abormal             Normal              Normal   \n",
       "293     60-65     Abormal             Normal              Normal   \n",
       "294     60-65     Abormal             Normal              Normal   \n",
       "297     45-50     Abormal           Abnormal            Abnormal   \n",
       "298     50-55     Abormal             Normal            Abnormal   \n",
       "\n",
       "    abnormal_sodium  \n",
       "2          Abnormal  \n",
       "5          Abnormal  \n",
       "7          Abnormal  \n",
       "9          Abnormal  \n",
       "10         Abnormal  \n",
       "..              ...  \n",
       "292          Normal  \n",
       "293          Normal  \n",
       "294          Normal  \n",
       "297          Normal  \n",
       "298          Normal  \n",
       "\n",
       "[96 rows x 16 columns]"
      ]
     },
     "execution_count": 102,
     "metadata": {},
     "output_type": "execute_result"
    }
   ],
   "source": [
    "heart_failure_df[heart_failure_df.smoking == True]"
   ]
  },
  {
   "cell_type": "code",
   "execution_count": 103,
   "metadata": {
    "colab": {
     "base_uri": "https://localhost:8080/"
    },
    "executionInfo": {
     "elapsed": 500,
     "status": "ok",
     "timestamp": 1663873769239,
     "user": {
      "displayName": "Avneet Kumar",
      "userId": "08327085032726843331"
     },
     "user_tz": -330
    },
    "id": "Kj7jk0bHQCAi",
    "outputId": "9469795b-fce6-4fa2-b1c4-3d08ad358ba1"
   },
   "outputs": [
    {
     "name": "stdout",
     "output_type": "stream",
     "text": [
      "Number of Patients with Smoking Habit is 96.\n"
     ]
    }
   ],
   "source": [
    "print(\"Number of Patients with Smoking Habit is {}.\".format(heart_failure_df[heart_failure_df.smoking == True].shape[0]))"
   ]
  },
  {
   "cell_type": "code",
   "execution_count": 104,
   "metadata": {
    "colab": {
     "base_uri": "https://localhost:8080/"
    },
    "executionInfo": {
     "elapsed": 2733,
     "status": "ok",
     "timestamp": 1663873782962,
     "user": {
      "displayName": "Avneet Kumar",
      "userId": "08327085032726843331"
     },
     "user_tz": -330
    },
    "id": "7y10p6dV47N8",
    "outputId": "f4716fe9-8a11-4027-f315-11d0af8c9144"
   },
   "outputs": [
    {
     "data": {
      "text/plain": [
       "sex\n",
       "Female     4\n",
       "Male      92\n",
       "Name: smoking, dtype: int64"
      ]
     },
     "execution_count": 104,
     "metadata": {},
     "output_type": "execute_result"
    }
   ],
   "source": [
    "smokers = heart_failure_df[heart_failure_df.smoking == True].groupby('sex').count()\n",
    "smokers = smokers['smoking']\n",
    "smokers"
   ]
  },
  {
   "cell_type": "code",
   "execution_count": 105,
   "metadata": {
    "colab": {
     "base_uri": "https://localhost:8080/"
    },
    "executionInfo": {
     "elapsed": 419,
     "status": "ok",
     "timestamp": 1663873809485,
     "user": {
      "displayName": "Avneet Kumar",
      "userId": "08327085032726843331"
     },
     "user_tz": -330
    },
    "id": "Tq6j989A47KS",
    "outputId": "1d10566f-db8c-4e94-fff9-9b0c640d3d28"
   },
   "outputs": [
    {
     "name": "stdout",
     "output_type": "stream",
     "text": [
      "Number of Male Patients with Smoking Habit is 92.\n"
     ]
    }
   ],
   "source": [
    "print(\"Number of Male Patients with Smoking Habit is {}.\".format(smokers[1]))"
   ]
  },
  {
   "cell_type": "code",
   "execution_count": 106,
   "metadata": {
    "colab": {
     "base_uri": "https://localhost:8080/"
    },
    "executionInfo": {
     "elapsed": 448,
     "status": "ok",
     "timestamp": 1663873818486,
     "user": {
      "displayName": "Avneet Kumar",
      "userId": "08327085032726843331"
     },
     "user_tz": -330
    },
    "id": "KL0GjQ7x47Ik",
    "outputId": "be7bd15c-101a-443f-f617-f6f748d0584b"
   },
   "outputs": [
    {
     "name": "stdout",
     "output_type": "stream",
     "text": [
      "Number of Female Patients with Smoking Habit is 4.\n"
     ]
    }
   ],
   "source": [
    "print(\"Number of Female Patients with Smoking Habit is {}.\".format(smokers[0]))"
   ]
  },
  {
   "cell_type": "markdown",
   "metadata": {
    "id": "1xK5D0Gxm9eF"
   },
   "source": [
    "### Ques: How many patients had anaemia or diabetes or high blood pressure?"
   ]
  },
  {
   "cell_type": "code",
   "execution_count": 107,
   "metadata": {
    "executionInfo": {
     "elapsed": 418,
     "status": "ok",
     "timestamp": 1663873861003,
     "user": {
      "displayName": "Avneet Kumar",
      "userId": "08327085032726843331"
     },
     "user_tz": -330
    },
    "id": "rrYenpKn47F0"
   },
   "outputs": [],
   "source": [
    "anaemia_patients = heart_failure_df[heart_failure_df.anaemia == True].shape[0]\n",
    "diabetes_patients = heart_failure_df[heart_failure_df.diabetes == True].shape[0]\n",
    "high_bp_patients = heart_failure_df[heart_failure_df.high_blood_pressure == True].shape[0]"
   ]
  },
  {
   "cell_type": "code",
   "execution_count": 108,
   "metadata": {
    "colab": {
     "base_uri": "https://localhost:8080/"
    },
    "executionInfo": {
     "elapsed": 447,
     "status": "ok",
     "timestamp": 1663873873328,
     "user": {
      "displayName": "Avneet Kumar",
      "userId": "08327085032726843331"
     },
     "user_tz": -330
    },
    "id": "owzzMKlO47Dn",
    "outputId": "0086cbd0-8663-4385-c050-457fd004b92d"
   },
   "outputs": [
    {
     "name": "stdout",
     "output_type": "stream",
     "text": [
      "Number of Patients with Anaemia is 129.\n",
      "Number of Patients with Diabetes is 125.\n",
      "Number of Patients with High Blood Pressure is 105.\n"
     ]
    }
   ],
   "source": [
    "print(\"Number of Patients with Anaemia is {}.\".format(anaemia_patients))\n",
    "print(\"Number of Patients with Diabetes is {}.\".format(diabetes_patients))\n",
    "print(\"Number of Patients with High Blood Pressure is {}.\".format(high_bp_patients))"
   ]
  },
  {
   "cell_type": "markdown",
   "metadata": {
    "id": "igi1ZR8EnOz6"
   },
   "source": [
    "### Ques: How many patients had both (anaemia & diabetes) or (anaemia & high blood pressure) or (diabetes & high blood pressure)? And how many patients had all three?"
   ]
  },
  {
   "cell_type": "code",
   "execution_count": 109,
   "metadata": {
    "executionInfo": {
     "elapsed": 442,
     "status": "ok",
     "timestamp": 1663873940012,
     "user": {
      "displayName": "Avneet Kumar",
      "userId": "08327085032726843331"
     },
     "user_tz": -330
    },
    "id": "sB1kCgGQnJuH"
   },
   "outputs": [],
   "source": [
    "anaemia_diabetes = heart_failure_df[(heart_failure_df.anaemia == True) & \n",
    "                                    (heart_failure_df.diabetes == True)].shape[0]\n",
    "anaemia_high_bp = heart_failure_df[(heart_failure_df.anaemia == True) & \n",
    "                                   (heart_failure_df.high_blood_pressure == True)].shape[0]\n",
    "diabetes_high_bp = heart_failure_df[(heart_failure_df.high_blood_pressure == True) & \n",
    "                                    (heart_failure_df.diabetes == True)].shape[0]"
   ]
  },
  {
   "cell_type": "code",
   "execution_count": 110,
   "metadata": {
    "colab": {
     "base_uri": "https://localhost:8080/"
    },
    "executionInfo": {
     "elapsed": 1000,
     "status": "ok",
     "timestamp": 1663874014380,
     "user": {
      "displayName": "Avneet Kumar",
      "userId": "08327085032726843331"
     },
     "user_tz": -330
    },
    "id": "SIfbbfvy47AO",
    "outputId": "43182997-b600-4ef8-89d5-243920a9b6f1"
   },
   "outputs": [
    {
     "name": "stdout",
     "output_type": "stream",
     "text": [
      "Number of Patients with Anaemia and Diabetes is 53.\n",
      "Number of Patients with Anaemia and High Blood Pressure is 48.\n",
      "Number of Patients with Diabetes and High Blood Pressure is 43.\n"
     ]
    }
   ],
   "source": [
    "print(\"Number of Patients with Anaemia and Diabetes is {}.\".format(anaemia_diabetes))\n",
    "print(\"Number of Patients with Anaemia and High Blood Pressure is {}.\".format(anaemia_high_bp))\n",
    "print(\"Number of Patients with Diabetes and High Blood Pressure is {}.\".format(diabetes_high_bp))"
   ]
  },
  {
   "cell_type": "code",
   "execution_count": 113,
   "metadata": {
    "colab": {
     "base_uri": "https://localhost:8080/"
    },
    "executionInfo": {
     "elapsed": 652,
     "status": "ok",
     "timestamp": 1663874058878,
     "user": {
      "displayName": "Avneet Kumar",
      "userId": "08327085032726843331"
     },
     "user_tz": -330
    },
    "id": "fSRQ3jNM46-z",
    "outputId": "256d8d89-c859-4af6-8f7c-fe4646f1f01d"
   },
   "outputs": [
    {
     "data": {
      "text/plain": [
       "17"
      ]
     },
     "execution_count": 113,
     "metadata": {},
     "output_type": "execute_result"
    }
   ],
   "source": [
    "all_three = heart_failure_df[(heart_failure_df.anaemia == True) & (heart_failure_df.diabetes == True) & \n",
    "                             (heart_failure_df.high_blood_pressure == True)].shape[0]\n",
    "all_three"
   ]
  },
  {
   "cell_type": "code",
   "execution_count": 112,
   "metadata": {
    "colab": {
     "base_uri": "https://localhost:8080/"
    },
    "executionInfo": {
     "elapsed": 440,
     "status": "ok",
     "timestamp": 1663874050958,
     "user": {
      "displayName": "Avneet Kumar",
      "userId": "08327085032726843331"
     },
     "user_tz": -330
    },
    "id": "X3yHEoJhnq-g",
    "outputId": "708f5f29-eb64-40a7-c0a5-aa1f4269674c"
   },
   "outputs": [
    {
     "name": "stdout",
     "output_type": "stream",
     "text": [
      "Number of Patients with Anaemia, Diabetes and High Blood Pressure is 17.\n"
     ]
    }
   ],
   "source": [
    "print(\"Number of Patients with Anaemia, Diabetes and High Blood Pressure is {}.\".format(all_three))"
   ]
  },
  {
   "cell_type": "markdown",
   "metadata": {
    "id": "XHg8ZRzbn6X3"
   },
   "source": [
    "### Ques: Which disease / abnormality is most common and least common among the heart failure patients?"
   ]
  },
  {
   "cell_type": "code",
   "execution_count": 114,
   "metadata": {
    "colab": {
     "base_uri": "https://localhost:8080/"
    },
    "executionInfo": {
     "elapsed": 760,
     "status": "ok",
     "timestamp": 1663874104398,
     "user": {
      "displayName": "Avneet Kumar",
      "userId": "08327085032726843331"
     },
     "user_tz": -330
    },
    "id": "eje3gOxknq7d",
    "outputId": "72fb08d4-ffdc-4653-97e1-744abb705f56"
   },
   "outputs": [
    {
     "data": {
      "text/plain": [
       "Index(['age', 'anaemia', 'diabetes', 'ejection_fraction',\n",
       "       'high_blood_pressure', 'platelets', 'serum_creatinine', 'serum_sodium',\n",
       "       'sex', 'smoking', 'patient_dead', 'age_group', 'abnormal_ef',\n",
       "       'abnormal_platelets', 'abnormal_creatinine', 'abnormal_sodium'],\n",
       "      dtype='object')"
      ]
     },
     "execution_count": 114,
     "metadata": {},
     "output_type": "execute_result"
    }
   ],
   "source": [
    "heart_failure_df.columns"
   ]
  },
  {
   "cell_type": "code",
   "execution_count": 115,
   "metadata": {
    "colab": {
     "base_uri": "https://localhost:8080/"
    },
    "executionInfo": {
     "elapsed": 405,
     "status": "ok",
     "timestamp": 1663874153067,
     "user": {
      "displayName": "Avneet Kumar",
      "userId": "08327085032726843331"
     },
     "user_tz": -330
    },
    "id": "aQupOg66nq5U",
    "outputId": "b605557c-3e7c-4ec0-882b-7dfc0594590b"
   },
   "outputs": [
    {
     "name": "stdout",
     "output_type": "stream",
     "text": [
      "({'ejection_fraction': 261}, {'platelets': 47}, {'serum_creatinine': 102}, {'serum_sodium': 85}, {'anaemia': 129}, {'diabetes': 125}, {'high_blood_pressure': 105})\n",
      "261\n",
      "47\n"
     ]
    }
   ],
   "source": [
    "dict = ({heart_failure_df.columns[3]:abn_ef.shape[0]} , \n",
    "        {heart_failure_df.columns[5]:abn_platelets.shape[0]} ,\n",
    "        {heart_failure_df.columns[6]:abn_creatinine.shape[0]}, \n",
    "        {heart_failure_df.columns[7]: abn_sodium.shape[0]} , \n",
    "        {heart_failure_df.columns[1]:anaemia_patients} , \n",
    "        {heart_failure_df.columns[2]:diabetes_patients} , \n",
    "        {heart_failure_df.columns[4]:high_bp_patients})\n",
    "print (dict)\n",
    "print (max(abn_ef.shape[0], abn_platelets.shape[0], abn_creatinine.shape[0],\n",
    "           abn_sodium.shape[0], anaemia_patients , diabetes_patients , high_bp_patients )) \n",
    "print (min(abn_ef.shape[0], abn_platelets.shape[0], abn_creatinine.shape[0],\n",
    "           abn_sodium.shape[0], anaemia_patients , diabetes_patients , high_bp_patients )) "
   ]
  },
  {
   "cell_type": "code",
   "execution_count": 116,
   "metadata": {
    "colab": {
     "base_uri": "https://localhost:8080/"
    },
    "executionInfo": {
     "elapsed": 704,
     "status": "ok",
     "timestamp": 1663874189101,
     "user": {
      "displayName": "Avneet Kumar",
      "userId": "08327085032726843331"
     },
     "user_tz": -330
    },
    "id": "4xtArujl467P",
    "outputId": "f0cb34ae-4de5-4b9f-90d5-c8b153c5824a"
   },
   "outputs": [
    {
     "name": "stdout",
     "output_type": "stream",
     "text": [
      "The most common abnormality or disease among the heart failure patients is Ejection Fraction and 261 Patients had abnormal Ejection Fraction.\n"
     ]
    }
   ],
   "source": [
    "print(\"The most common abnormality or disease among the heart failure patients is Ejection Fraction and 261 Patients had abnormal Ejection Fraction.\")"
   ]
  },
  {
   "cell_type": "code",
   "execution_count": 117,
   "metadata": {
    "colab": {
     "base_uri": "https://localhost:8080/"
    },
    "executionInfo": {
     "elapsed": 418,
     "status": "ok",
     "timestamp": 1663874220369,
     "user": {
      "displayName": "Avneet Kumar",
      "userId": "08327085032726843331"
     },
     "user_tz": -330
    },
    "id": "4zBDRZOX465l",
    "outputId": "eaa4fe05-6d0d-4568-f588-603591fcabdf"
   },
   "outputs": [
    {
     "data": {
      "text/plain": [
       "47"
      ]
     },
     "execution_count": 117,
     "metadata": {},
     "output_type": "execute_result"
    }
   ],
   "source": [
    "heart_failure_df[(heart_failure_df.platelets < 150) | (heart_failure_df.platelets >400)].shape [0]"
   ]
  },
  {
   "cell_type": "code",
   "execution_count": 118,
   "metadata": {
    "colab": {
     "base_uri": "https://localhost:8080/"
    },
    "executionInfo": {
     "elapsed": 399,
     "status": "ok",
     "timestamp": 1663874231645,
     "user": {
      "displayName": "Avneet Kumar",
      "userId": "08327085032726843331"
     },
     "user_tz": -330
    },
    "id": "ek3qO3W-oa2M",
    "outputId": "267b00b7-e268-433e-d294-fe4f7039486e"
   },
   "outputs": [
    {
     "name": "stdout",
     "output_type": "stream",
     "text": [
      "The least common abnormality or disease among the heart failure patients is Abnormal Platelets Count and 47 Patients had abnormal Platelets Count.\n"
     ]
    }
   ],
   "source": [
    "print(\"The least common abnormality or disease among the heart failure patients is Abnormal Platelets Count and 47 Patients had abnormal Platelets Count.\")"
   ]
  },
  {
   "cell_type": "markdown",
   "metadata": {
    "id": "RLjtuhjsolGW"
   },
   "source": [
    "### Ques: Does smoking habit affects the life of a heart failure patient?"
   ]
  },
  {
   "cell_type": "code",
   "execution_count": 119,
   "metadata": {
    "colab": {
     "base_uri": "https://localhost:8080/"
    },
    "executionInfo": {
     "elapsed": 451,
     "status": "ok",
     "timestamp": 1663874279790,
     "user": {
      "displayName": "Avneet Kumar",
      "userId": "08327085032726843331"
     },
     "user_tz": -330
    },
    "id": "Z_hbHr2doazN",
    "outputId": "2e84556c-4894-4de1-dbca-a4a72e9b51d0"
   },
   "outputs": [
    {
     "data": {
      "text/plain": [
       "sex\n",
       "Female     4\n",
       "Male      92\n",
       "Name: smoking, dtype: int64"
      ]
     },
     "execution_count": 119,
     "metadata": {},
     "output_type": "execute_result"
    }
   ],
   "source": [
    "smokers"
   ]
  },
  {
   "cell_type": "code",
   "execution_count": 120,
   "metadata": {
    "colab": {
     "base_uri": "https://localhost:8080/",
     "height": 362
    },
    "executionInfo": {
     "elapsed": 753,
     "status": "ok",
     "timestamp": 1663874294680,
     "user": {
      "displayName": "Avneet Kumar",
      "userId": "08327085032726843331"
     },
     "user_tz": -330
    },
    "id": "ArSFh7U3oaxJ",
    "outputId": "ef6e6b6b-716e-4587-d668-aac4df80f612"
   },
   "outputs": [
    {
     "data": {
      "image/png": "[encoded data removed]",
      "text/plain": [
       "<Figure size 648x360 with 1 Axes>"
      ]
     },
     "metadata": {},
     "output_type": "display_data"
    }
   ],
   "source": [
    "plt.title('Dead & Alive Patients with Smoking Habit')\n",
    "plt.xlabel('Age of Patients(Years)')\n",
    "plt.ylabel('Alive or Dead')\n",
    "sns.scatterplot(x = 'age', y = 'patient_dead', hue = 'smoking', data = heart_failure_df);"
   ]
  },
  {
   "cell_type": "markdown",
   "metadata": {
    "id": "BbKTW8ppo118"
   },
   "source": [
    "From the above result, we can conclude that the number of patients with smoking habit died during follow-up period is less when compared to alive patients with smoking habit. It indicates that smoking habit has very less impact on the life of a heart failure patient.\n",
    "\n",
    "Totally 30 smokers died during the follow-up period, let's check the records of individual patients to analyze."
   ]
  },
  {
   "cell_type": "code",
   "execution_count": 121,
   "metadata": {
    "colab": {
     "base_uri": "https://localhost:8080/",
     "height": 1000
    },
    "executionInfo": {
     "elapsed": 571,
     "status": "ok",
     "timestamp": 1663874344066,
     "user": {
      "displayName": "Avneet Kumar",
      "userId": "08327085032726843331"
     },
     "user_tz": -330
    },
    "id": "e1WICpazoaum",
    "outputId": "96c7b05e-6b67-4f16-ac66-cdcf9a7f8617"
   },
   "outputs": [
    {
     "data": {
      "text/html": [
       "\n",
       "  <div id=\"df-51265f52-ae25-40dc-a6db-3cd91a6e8b3f\">\n",
       "    <div class=\"colab-df-container\">\n",
       "      <div>\n",
       "<style scoped>\n",
       "    .dataframe tbody tr th:only-of-type {\n",
       "        vertical-align: middle;\n",
       "    }\n",
       "\n",
       "    .dataframe tbody tr th {\n",
       "        vertical-align: top;\n",
       "    }\n",
       "\n",
       "    .dataframe thead th {\n",
       "        text-align: right;\n",
       "    }\n",
       "</style>\n",
       "<table border=\"1\" class=\"dataframe\">\n",
       "  <thead>\n",
       "    <tr style=\"text-align: right;\">\n",
       "      <th></th>\n",
       "      <th>age</th>\n",
       "      <th>anaemia</th>\n",
       "      <th>diabetes</th>\n",
       "      <th>ejection_fraction</th>\n",
       "      <th>high_blood_pressure</th>\n",
       "      <th>platelets</th>\n",
       "      <th>serum_creatinine</th>\n",
       "      <th>serum_sodium</th>\n",
       "      <th>sex</th>\n",
       "      <th>smoking</th>\n",
       "      <th>patient_dead</th>\n",
       "      <th>age_group</th>\n",
       "      <th>abnormal_ef</th>\n",
       "      <th>abnormal_platelets</th>\n",
       "      <th>abnormal_creatinine</th>\n",
       "      <th>abnormal_sodium</th>\n",
       "    </tr>\n",
       "  </thead>\n",
       "  <tbody>\n",
       "    <tr>\n",
       "      <th>2</th>\n",
       "      <td>65</td>\n",
       "      <td>False</td>\n",
       "      <td>False</td>\n",
       "      <td>20</td>\n",
       "      <td>False</td>\n",
       "      <td>162</td>\n",
       "      <td>1.30</td>\n",
       "      <td>129</td>\n",
       "      <td>Male</td>\n",
       "      <td>True</td>\n",
       "      <td>True</td>\n",
       "      <td>65-70</td>\n",
       "      <td>Abormal</td>\n",
       "      <td>Normal</td>\n",
       "      <td>Abnormal</td>\n",
       "      <td>Abnormal</td>\n",
       "    </tr>\n",
       "    <tr>\n",
       "      <th>5</th>\n",
       "      <td>90</td>\n",
       "      <td>True</td>\n",
       "      <td>False</td>\n",
       "      <td>40</td>\n",
       "      <td>True</td>\n",
       "      <td>204</td>\n",
       "      <td>2.10</td>\n",
       "      <td>132</td>\n",
       "      <td>Male</td>\n",
       "      <td>True</td>\n",
       "      <td>True</td>\n",
       "      <td>90-95</td>\n",
       "      <td>Abormal</td>\n",
       "      <td>Normal</td>\n",
       "      <td>Abnormal</td>\n",
       "      <td>Abnormal</td>\n",
       "    </tr>\n",
       "    <tr>\n",
       "      <th>7</th>\n",
       "      <td>60</td>\n",
       "      <td>True</td>\n",
       "      <td>True</td>\n",
       "      <td>60</td>\n",
       "      <td>False</td>\n",
       "      <td>454</td>\n",
       "      <td>1.10</td>\n",
       "      <td>131</td>\n",
       "      <td>Male</td>\n",
       "      <td>True</td>\n",
       "      <td>True</td>\n",
       "      <td>60-65</td>\n",
       "      <td>Normal</td>\n",
       "      <td>Abnormal</td>\n",
       "      <td>Normal</td>\n",
       "      <td>Abnormal</td>\n",
       "    </tr>\n",
       "    <tr>\n",
       "      <th>9</th>\n",
       "      <td>80</td>\n",
       "      <td>True</td>\n",
       "      <td>False</td>\n",
       "      <td>35</td>\n",
       "      <td>True</td>\n",
       "      <td>388</td>\n",
       "      <td>9.40</td>\n",
       "      <td>133</td>\n",
       "      <td>Male</td>\n",
       "      <td>True</td>\n",
       "      <td>True</td>\n",
       "      <td>80-85</td>\n",
       "      <td>Abormal</td>\n",
       "      <td>Normal</td>\n",
       "      <td>Abnormal</td>\n",
       "      <td>Abnormal</td>\n",
       "    </tr>\n",
       "    <tr>\n",
       "      <th>10</th>\n",
       "      <td>75</td>\n",
       "      <td>True</td>\n",
       "      <td>False</td>\n",
       "      <td>38</td>\n",
       "      <td>True</td>\n",
       "      <td>368</td>\n",
       "      <td>4.00</td>\n",
       "      <td>131</td>\n",
       "      <td>Male</td>\n",
       "      <td>True</td>\n",
       "      <td>True</td>\n",
       "      <td>75-80</td>\n",
       "      <td>Abormal</td>\n",
       "      <td>Normal</td>\n",
       "      <td>Abnormal</td>\n",
       "      <td>Abnormal</td>\n",
       "    </tr>\n",
       "    <tr>\n",
       "      <th>11</th>\n",
       "      <td>62</td>\n",
       "      <td>False</td>\n",
       "      <td>False</td>\n",
       "      <td>25</td>\n",
       "      <td>True</td>\n",
       "      <td>253</td>\n",
       "      <td>0.90</td>\n",
       "      <td>140</td>\n",
       "      <td>Male</td>\n",
       "      <td>True</td>\n",
       "      <td>True</td>\n",
       "      <td>60-65</td>\n",
       "      <td>Abormal</td>\n",
       "      <td>Normal</td>\n",
       "      <td>Normal</td>\n",
       "      <td>Normal</td>\n",
       "    </tr>\n",
       "    <tr>\n",
       "      <th>22</th>\n",
       "      <td>68</td>\n",
       "      <td>True</td>\n",
       "      <td>False</td>\n",
       "      <td>35</td>\n",
       "      <td>True</td>\n",
       "      <td>289</td>\n",
       "      <td>0.90</td>\n",
       "      <td>140</td>\n",
       "      <td>Male</td>\n",
       "      <td>True</td>\n",
       "      <td>True</td>\n",
       "      <td>65-70</td>\n",
       "      <td>Abormal</td>\n",
       "      <td>Normal</td>\n",
       "      <td>Normal</td>\n",
       "      <td>Normal</td>\n",
       "    </tr>\n",
       "    <tr>\n",
       "      <th>25</th>\n",
       "      <td>80</td>\n",
       "      <td>False</td>\n",
       "      <td>True</td>\n",
       "      <td>38</td>\n",
       "      <td>False</td>\n",
       "      <td>149</td>\n",
       "      <td>1.90</td>\n",
       "      <td>144</td>\n",
       "      <td>Male</td>\n",
       "      <td>True</td>\n",
       "      <td>True</td>\n",
       "      <td>80-85</td>\n",
       "      <td>Abormal</td>\n",
       "      <td>Abnormal</td>\n",
       "      <td>Abnormal</td>\n",
       "      <td>Normal</td>\n",
       "    </tr>\n",
       "    <tr>\n",
       "      <th>27</th>\n",
       "      <td>70</td>\n",
       "      <td>False</td>\n",
       "      <td>True</td>\n",
       "      <td>45</td>\n",
       "      <td>True</td>\n",
       "      <td>284</td>\n",
       "      <td>1.30</td>\n",
       "      <td>136</td>\n",
       "      <td>Male</td>\n",
       "      <td>True</td>\n",
       "      <td>True</td>\n",
       "      <td>70-75</td>\n",
       "      <td>Abormal</td>\n",
       "      <td>Normal</td>\n",
       "      <td>Abnormal</td>\n",
       "      <td>Normal</td>\n",
       "    </tr>\n",
       "    <tr>\n",
       "      <th>29</th>\n",
       "      <td>82</td>\n",
       "      <td>False</td>\n",
       "      <td>True</td>\n",
       "      <td>30</td>\n",
       "      <td>False</td>\n",
       "      <td>200</td>\n",
       "      <td>1.20</td>\n",
       "      <td>132</td>\n",
       "      <td>Male</td>\n",
       "      <td>True</td>\n",
       "      <td>True</td>\n",
       "      <td>80-85</td>\n",
       "      <td>Abormal</td>\n",
       "      <td>Normal</td>\n",
       "      <td>Normal</td>\n",
       "      <td>Abnormal</td>\n",
       "    </tr>\n",
       "    <tr>\n",
       "      <th>40</th>\n",
       "      <td>70</td>\n",
       "      <td>False</td>\n",
       "      <td>False</td>\n",
       "      <td>20</td>\n",
       "      <td>True</td>\n",
       "      <td>263</td>\n",
       "      <td>1.83</td>\n",
       "      <td>134</td>\n",
       "      <td>Male</td>\n",
       "      <td>True</td>\n",
       "      <td>True</td>\n",
       "      <td>70-75</td>\n",
       "      <td>Abormal</td>\n",
       "      <td>Normal</td>\n",
       "      <td>Abnormal</td>\n",
       "      <td>Abnormal</td>\n",
       "    </tr>\n",
       "    <tr>\n",
       "      <th>41</th>\n",
       "      <td>50</td>\n",
       "      <td>False</td>\n",
       "      <td>True</td>\n",
       "      <td>30</td>\n",
       "      <td>True</td>\n",
       "      <td>153</td>\n",
       "      <td>1.20</td>\n",
       "      <td>136</td>\n",
       "      <td>Female</td>\n",
       "      <td>True</td>\n",
       "      <td>True</td>\n",
       "      <td>50-55</td>\n",
       "      <td>Abormal</td>\n",
       "      <td>Normal</td>\n",
       "      <td>Normal</td>\n",
       "      <td>Normal</td>\n",
       "    </tr>\n",
       "    <tr>\n",
       "      <th>42</th>\n",
       "      <td>70</td>\n",
       "      <td>False</td>\n",
       "      <td>True</td>\n",
       "      <td>45</td>\n",
       "      <td>True</td>\n",
       "      <td>185</td>\n",
       "      <td>1.20</td>\n",
       "      <td>139</td>\n",
       "      <td>Male</td>\n",
       "      <td>True</td>\n",
       "      <td>True</td>\n",
       "      <td>70-75</td>\n",
       "      <td>Abormal</td>\n",
       "      <td>Normal</td>\n",
       "      <td>Normal</td>\n",
       "      <td>Normal</td>\n",
       "    </tr>\n",
       "    <tr>\n",
       "      <th>45</th>\n",
       "      <td>50</td>\n",
       "      <td>False</td>\n",
       "      <td>True</td>\n",
       "      <td>38</td>\n",
       "      <td>False</td>\n",
       "      <td>310</td>\n",
       "      <td>1.90</td>\n",
       "      <td>135</td>\n",
       "      <td>Male</td>\n",
       "      <td>True</td>\n",
       "      <td>True</td>\n",
       "      <td>50-55</td>\n",
       "      <td>Abormal</td>\n",
       "      <td>Normal</td>\n",
       "      <td>Abnormal</td>\n",
       "      <td>Normal</td>\n",
       "    </tr>\n",
       "    <tr>\n",
       "      <th>47</th>\n",
       "      <td>60</td>\n",
       "      <td>False</td>\n",
       "      <td>True</td>\n",
       "      <td>38</td>\n",
       "      <td>True</td>\n",
       "      <td>451</td>\n",
       "      <td>0.60</td>\n",
       "      <td>138</td>\n",
       "      <td>Male</td>\n",
       "      <td>True</td>\n",
       "      <td>True</td>\n",
       "      <td>60-65</td>\n",
       "      <td>Abormal</td>\n",
       "      <td>Abnormal</td>\n",
       "      <td>Normal</td>\n",
       "      <td>Normal</td>\n",
       "    </tr>\n",
       "    <tr>\n",
       "      <th>54</th>\n",
       "      <td>60</td>\n",
       "      <td>True</td>\n",
       "      <td>True</td>\n",
       "      <td>38</td>\n",
       "      <td>False</td>\n",
       "      <td>255</td>\n",
       "      <td>2.20</td>\n",
       "      <td>132</td>\n",
       "      <td>Female</td>\n",
       "      <td>True</td>\n",
       "      <td>True</td>\n",
       "      <td>60-65</td>\n",
       "      <td>Abormal</td>\n",
       "      <td>Normal</td>\n",
       "      <td>Abnormal</td>\n",
       "      <td>Abnormal</td>\n",
       "    </tr>\n",
       "    <tr>\n",
       "      <th>58</th>\n",
       "      <td>49</td>\n",
       "      <td>False</td>\n",
       "      <td>False</td>\n",
       "      <td>20</td>\n",
       "      <td>True</td>\n",
       "      <td>319</td>\n",
       "      <td>1.10</td>\n",
       "      <td>136</td>\n",
       "      <td>Male</td>\n",
       "      <td>True</td>\n",
       "      <td>True</td>\n",
       "      <td>45-50</td>\n",
       "      <td>Abormal</td>\n",
       "      <td>Normal</td>\n",
       "      <td>Normal</td>\n",
       "      <td>Normal</td>\n",
       "    </tr>\n",
       "    <tr>\n",
       "      <th>59</th>\n",
       "      <td>72</td>\n",
       "      <td>False</td>\n",
       "      <td>True</td>\n",
       "      <td>20</td>\n",
       "      <td>True</td>\n",
       "      <td>254</td>\n",
       "      <td>1.30</td>\n",
       "      <td>136</td>\n",
       "      <td>Male</td>\n",
       "      <td>True</td>\n",
       "      <td>True</td>\n",
       "      <td>70-75</td>\n",
       "      <td>Abormal</td>\n",
       "      <td>Normal</td>\n",
       "      <td>Abnormal</td>\n",
       "      <td>Normal</td>\n",
       "    </tr>\n",
       "    <tr>\n",
       "      <th>65</th>\n",
       "      <td>60</td>\n",
       "      <td>False</td>\n",
       "      <td>False</td>\n",
       "      <td>20</td>\n",
       "      <td>False</td>\n",
       "      <td>119</td>\n",
       "      <td>2.90</td>\n",
       "      <td>127</td>\n",
       "      <td>Male</td>\n",
       "      <td>True</td>\n",
       "      <td>True</td>\n",
       "      <td>60-65</td>\n",
       "      <td>Abormal</td>\n",
       "      <td>Abnormal</td>\n",
       "      <td>Abnormal</td>\n",
       "      <td>Abnormal</td>\n",
       "    </tr>\n",
       "    <tr>\n",
       "      <th>67</th>\n",
       "      <td>72</td>\n",
       "      <td>True</td>\n",
       "      <td>False</td>\n",
       "      <td>25</td>\n",
       "      <td>False</td>\n",
       "      <td>274</td>\n",
       "      <td>1.00</td>\n",
       "      <td>140</td>\n",
       "      <td>Male</td>\n",
       "      <td>True</td>\n",
       "      <td>True</td>\n",
       "      <td>70-75</td>\n",
       "      <td>Abormal</td>\n",
       "      <td>Normal</td>\n",
       "      <td>Normal</td>\n",
       "      <td>Normal</td>\n",
       "    </tr>\n",
       "    <tr>\n",
       "      <th>72</th>\n",
       "      <td>85</td>\n",
       "      <td>False</td>\n",
       "      <td>False</td>\n",
       "      <td>35</td>\n",
       "      <td>False</td>\n",
       "      <td>243</td>\n",
       "      <td>1.00</td>\n",
       "      <td>132</td>\n",
       "      <td>Male</td>\n",
       "      <td>True</td>\n",
       "      <td>True</td>\n",
       "      <td>85-90</td>\n",
       "      <td>Abormal</td>\n",
       "      <td>Normal</td>\n",
       "      <td>Normal</td>\n",
       "      <td>Abnormal</td>\n",
       "    </tr>\n",
       "    <tr>\n",
       "      <th>74</th>\n",
       "      <td>69</td>\n",
       "      <td>False</td>\n",
       "      <td>False</td>\n",
       "      <td>20</td>\n",
       "      <td>False</td>\n",
       "      <td>266</td>\n",
       "      <td>1.20</td>\n",
       "      <td>134</td>\n",
       "      <td>Male</td>\n",
       "      <td>True</td>\n",
       "      <td>True</td>\n",
       "      <td>65-70</td>\n",
       "      <td>Abormal</td>\n",
       "      <td>Normal</td>\n",
       "      <td>Normal</td>\n",
       "      <td>Abnormal</td>\n",
       "    </tr>\n",
       "    <tr>\n",
       "      <th>75</th>\n",
       "      <td>60</td>\n",
       "      <td>True</td>\n",
       "      <td>False</td>\n",
       "      <td>20</td>\n",
       "      <td>False</td>\n",
       "      <td>204</td>\n",
       "      <td>0.70</td>\n",
       "      <td>139</td>\n",
       "      <td>Male</td>\n",
       "      <td>True</td>\n",
       "      <td>True</td>\n",
       "      <td>60-65</td>\n",
       "      <td>Abormal</td>\n",
       "      <td>Normal</td>\n",
       "      <td>Normal</td>\n",
       "      <td>Normal</td>\n",
       "    </tr>\n",
       "    <tr>\n",
       "      <th>105</th>\n",
       "      <td>72</td>\n",
       "      <td>True</td>\n",
       "      <td>False</td>\n",
       "      <td>30</td>\n",
       "      <td>True</td>\n",
       "      <td>621</td>\n",
       "      <td>1.70</td>\n",
       "      <td>138</td>\n",
       "      <td>Female</td>\n",
       "      <td>True</td>\n",
       "      <td>True</td>\n",
       "      <td>70-75</td>\n",
       "      <td>Abormal</td>\n",
       "      <td>Abnormal</td>\n",
       "      <td>Abnormal</td>\n",
       "      <td>Normal</td>\n",
       "    </tr>\n",
       "    <tr>\n",
       "      <th>110</th>\n",
       "      <td>85</td>\n",
       "      <td>False</td>\n",
       "      <td>False</td>\n",
       "      <td>60</td>\n",
       "      <td>False</td>\n",
       "      <td>306</td>\n",
       "      <td>1.20</td>\n",
       "      <td>132</td>\n",
       "      <td>Male</td>\n",
       "      <td>True</td>\n",
       "      <td>True</td>\n",
       "      <td>85-90</td>\n",
       "      <td>Normal</td>\n",
       "      <td>Normal</td>\n",
       "      <td>Normal</td>\n",
       "      <td>Abnormal</td>\n",
       "    </tr>\n",
       "    <tr>\n",
       "      <th>144</th>\n",
       "      <td>72</td>\n",
       "      <td>True</td>\n",
       "      <td>False</td>\n",
       "      <td>25</td>\n",
       "      <td>True</td>\n",
       "      <td>338</td>\n",
       "      <td>1.70</td>\n",
       "      <td>139</td>\n",
       "      <td>Male</td>\n",
       "      <td>True</td>\n",
       "      <td>True</td>\n",
       "      <td>70-75</td>\n",
       "      <td>Abormal</td>\n",
       "      <td>Normal</td>\n",
       "      <td>Abnormal</td>\n",
       "      <td>Normal</td>\n",
       "    </tr>\n",
       "    <tr>\n",
       "      <th>181</th>\n",
       "      <td>59</td>\n",
       "      <td>True</td>\n",
       "      <td>True</td>\n",
       "      <td>25</td>\n",
       "      <td>False</td>\n",
       "      <td>221</td>\n",
       "      <td>1.00</td>\n",
       "      <td>136</td>\n",
       "      <td>Male</td>\n",
       "      <td>True</td>\n",
       "      <td>True</td>\n",
       "      <td>55-60</td>\n",
       "      <td>Abormal</td>\n",
       "      <td>Normal</td>\n",
       "      <td>Normal</td>\n",
       "      <td>Normal</td>\n",
       "    </tr>\n",
       "    <tr>\n",
       "      <th>182</th>\n",
       "      <td>65</td>\n",
       "      <td>False</td>\n",
       "      <td>True</td>\n",
       "      <td>25</td>\n",
       "      <td>False</td>\n",
       "      <td>265</td>\n",
       "      <td>1.20</td>\n",
       "      <td>136</td>\n",
       "      <td>Male</td>\n",
       "      <td>True</td>\n",
       "      <td>True</td>\n",
       "      <td>65-70</td>\n",
       "      <td>Abormal</td>\n",
       "      <td>Normal</td>\n",
       "      <td>Normal</td>\n",
       "      <td>Normal</td>\n",
       "    </tr>\n",
       "    <tr>\n",
       "      <th>184</th>\n",
       "      <td>58</td>\n",
       "      <td>True</td>\n",
       "      <td>False</td>\n",
       "      <td>25</td>\n",
       "      <td>False</td>\n",
       "      <td>219</td>\n",
       "      <td>1.20</td>\n",
       "      <td>137</td>\n",
       "      <td>Male</td>\n",
       "      <td>True</td>\n",
       "      <td>True</td>\n",
       "      <td>55-60</td>\n",
       "      <td>Abormal</td>\n",
       "      <td>Normal</td>\n",
       "      <td>Normal</td>\n",
       "      <td>Normal</td>\n",
       "    </tr>\n",
       "    <tr>\n",
       "      <th>266</th>\n",
       "      <td>55</td>\n",
       "      <td>False</td>\n",
       "      <td>False</td>\n",
       "      <td>20</td>\n",
       "      <td>False</td>\n",
       "      <td>263</td>\n",
       "      <td>1.83</td>\n",
       "      <td>134</td>\n",
       "      <td>Male</td>\n",
       "      <td>True</td>\n",
       "      <td>True</td>\n",
       "      <td>55-60</td>\n",
       "      <td>Abormal</td>\n",
       "      <td>Normal</td>\n",
       "      <td>Abnormal</td>\n",
       "      <td>Abnormal</td>\n",
       "    </tr>\n",
       "  </tbody>\n",
       "</table>\n",
       "</div>\n",
       "      <button class=\"colab-df-convert\" onclick=\"convertToInteractive('df-51265f52-ae25-40dc-a6db-3cd91a6e8b3f')\"\n",
       "              title=\"Convert this dataframe to an interactive table.\"\n",
       "              style=\"display:none;\">\n",
       "        \n",
       "  <svg xmlns=\"http://www.w3.org/2000/svg\" height=\"24px\"viewBox=\"0 0 24 24\"\n",
       "       width=\"24px\">\n",
       "    <path d=\"M0 0h24v24H0V0z\" fill=\"none\"/>\n",
       "    <path d=\"M18.56 5.44l.94 2.06.94-2.06 2.06-.94-2.06-.94-.94-2.06-.94 2.06-2.06.94zm-11 1L8.5 8.5l.94-2.06 2.06-.94-2.06-.94L8.5 2.5l-.94 2.06-2.06.94zm10 10l.94 2.06.94-2.06 2.06-.94-2.06-.94-.94-2.06-.94 2.06-2.06.94z\"/><path d=\"M17.41 7.96l-1.37-1.37c-.4-.4-.92-.59-1.43-.59-.52 0-1.04.2-1.43.59L10.3 9.45l-7.72 7.72c-.78.78-.78 2.05 0 2.83L4 21.41c.39.39.9.59 1.41.59.51 0 1.02-.2 1.41-.59l7.78-7.78 2.81-2.81c.8-.78.8-2.07 0-2.86zM5.41 20L4 18.59l7.72-7.72 1.47 1.35L5.41 20z\"/>\n",
       "  </svg>\n",
       "      </button>\n",
       "      \n",
       "  <style>\n",
       "    .colab-df-container {\n",
       "      display:flex;\n",
       "      flex-wrap:wrap;\n",
       "      gap: 12px;\n",
       "    }\n",
       "\n",
       "    .colab-df-convert {\n",
       "      background-color: #E8F0FE;\n",
       "      border: none;\n",
       "      border-radius: 50%;\n",
       "      cursor: pointer;\n",
       "      display: none;\n",
       "      fill: #1967D2;\n",
       "      height: 32px;\n",
       "      padding: 0 0 0 0;\n",
       "      width: 32px;\n",
       "    }\n",
       "\n",
       "    .colab-df-convert:hover {\n",
       "      background-color: #E2EBFA;\n",
       "      box-shadow: 0px 1px 2px rgba(60, 64, 67, 0.3), 0px 1px 3px 1px rgba(60, 64, 67, 0.15);\n",
       "      fill: #174EA6;\n",
       "    }\n",
       "\n",
       "    [theme=dark] .colab-df-convert {\n",
       "      background-color: #3B4455;\n",
       "      fill: #D2E3FC;\n",
       "    }\n",
       "\n",
       "    [theme=dark] .colab-df-convert:hover {\n",
       "      background-color: #434B5C;\n",
       "      box-shadow: 0px 1px 3px 1px rgba(0, 0, 0, 0.15);\n",
       "      filter: drop-shadow(0px 1px 2px rgba(0, 0, 0, 0.3));\n",
       "      fill: #FFFFFF;\n",
       "    }\n",
       "  </style>\n",
       "\n",
       "      <script>\n",
       "        const buttonEl =\n",
       "          document.querySelector('#df-51265f52-ae25-40dc-a6db-3cd91a6e8b3f button.colab-df-convert');\n",
       "        buttonEl.style.display =\n",
       "          google.colab.kernel.accessAllowed ? 'block' : 'none';\n",
       "\n",
       "        async function convertToInteractive(key) {\n",
       "          const element = document.querySelector('#df-51265f52-ae25-40dc-a6db-3cd91a6e8b3f');\n",
       "          const dataTable =\n",
       "            await google.colab.kernel.invokeFunction('convertToInteractive',\n",
       "                                                     [key], {});\n",
       "          if (!dataTable) return;\n",
       "\n",
       "          const docLinkHtml = 'Like what you see? Visit the ' +\n",
       "            '<a target=\"_blank\" href=https://colab.research.google.com/notebooks/data_table.ipynb>data table notebook</a>'\n",
       "            + ' to learn more about interactive tables.';\n",
       "          element.innerHTML = '';\n",
       "          dataTable['output_type'] = 'display_data';\n",
       "          await google.colab.output.renderOutput(dataTable, element);\n",
       "          const docLink = document.createElement('div');\n",
       "          docLink.innerHTML = docLinkHtml;\n",
       "          element.appendChild(docLink);\n",
       "        }\n",
       "      </script>\n",
       "    </div>\n",
       "  </div>\n",
       "  "
      ],
      "text/plain": [
       "     age  anaemia  diabetes  ejection_fraction  high_blood_pressure  \\\n",
       "2     65    False     False                 20                False   \n",
       "5     90     True     False                 40                 True   \n",
       "7     60     True      True                 60                False   \n",
       "9     80     True     False                 35                 True   \n",
       "10    75     True     False                 38                 True   \n",
       "11    62    False     False                 25                 True   \n",
       "22    68     True     False                 35                 True   \n",
       "25    80    False      True                 38                False   \n",
       "27    70    False      True                 45                 True   \n",
       "29    82    False      True                 30                False   \n",
       "40    70    False     False                 20                 True   \n",
       "41    50    False      True                 30                 True   \n",
       "42    70    False      True                 45                 True   \n",
       "45    50    False      True                 38                False   \n",
       "47    60    False      True                 38                 True   \n",
       "54    60     True      True                 38                False   \n",
       "58    49    False     False                 20                 True   \n",
       "59    72    False      True                 20                 True   \n",
       "65    60    False     False                 20                False   \n",
       "67    72     True     False                 25                False   \n",
       "72    85    False     False                 35                False   \n",
       "74    69    False     False                 20                False   \n",
       "75    60     True     False                 20                False   \n",
       "105   72     True     False                 30                 True   \n",
       "110   85    False     False                 60                False   \n",
       "144   72     True     False                 25                 True   \n",
       "181   59     True      True                 25                False   \n",
       "182   65    False      True                 25                False   \n",
       "184   58     True     False                 25                False   \n",
       "266   55    False     False                 20                False   \n",
       "\n",
       "     platelets  serum_creatinine  serum_sodium     sex  smoking  patient_dead  \\\n",
       "2          162              1.30           129    Male     True          True   \n",
       "5          204              2.10           132    Male     True          True   \n",
       "7          454              1.10           131    Male     True          True   \n",
       "9          388              9.40           133    Male     True          True   \n",
       "10         368              4.00           131    Male     True          True   \n",
       "11         253              0.90           140    Male     True          True   \n",
       "22         289              0.90           140    Male     True          True   \n",
       "25         149              1.90           144    Male     True          True   \n",
       "27         284              1.30           136    Male     True          True   \n",
       "29         200              1.20           132    Male     True          True   \n",
       "40         263              1.83           134    Male     True          True   \n",
       "41         153              1.20           136  Female     True          True   \n",
       "42         185              1.20           139    Male     True          True   \n",
       "45         310              1.90           135    Male     True          True   \n",
       "47         451              0.60           138    Male     True          True   \n",
       "54         255              2.20           132  Female     True          True   \n",
       "58         319              1.10           136    Male     True          True   \n",
       "59         254              1.30           136    Male     True          True   \n",
       "65         119              2.90           127    Male     True          True   \n",
       "67         274              1.00           140    Male     True          True   \n",
       "72         243              1.00           132    Male     True          True   \n",
       "74         266              1.20           134    Male     True          True   \n",
       "75         204              0.70           139    Male     True          True   \n",
       "105        621              1.70           138  Female     True          True   \n",
       "110        306              1.20           132    Male     True          True   \n",
       "144        338              1.70           139    Male     True          True   \n",
       "181        221              1.00           136    Male     True          True   \n",
       "182        265              1.20           136    Male     True          True   \n",
       "184        219              1.20           137    Male     True          True   \n",
       "266        263              1.83           134    Male     True          True   \n",
       "\n",
       "    age_group abnormal_ef abnormal_platelets abnormal_creatinine  \\\n",
       "2       65-70     Abormal             Normal            Abnormal   \n",
       "5       90-95     Abormal             Normal            Abnormal   \n",
       "7       60-65      Normal           Abnormal              Normal   \n",
       "9       80-85     Abormal             Normal            Abnormal   \n",
       "10      75-80     Abormal             Normal            Abnormal   \n",
       "11      60-65     Abormal             Normal              Normal   \n",
       "22      65-70     Abormal             Normal              Normal   \n",
       "25      80-85     Abormal           Abnormal            Abnormal   \n",
       "27      70-75     Abormal             Normal            Abnormal   \n",
       "29      80-85     Abormal             Normal              Normal   \n",
       "40      70-75     Abormal             Normal            Abnormal   \n",
       "41      50-55     Abormal             Normal              Normal   \n",
       "42      70-75     Abormal             Normal              Normal   \n",
       "45      50-55     Abormal             Normal            Abnormal   \n",
       "47      60-65     Abormal           Abnormal              Normal   \n",
       "54      60-65     Abormal             Normal            Abnormal   \n",
       "58      45-50     Abormal             Normal              Normal   \n",
       "59      70-75     Abormal             Normal            Abnormal   \n",
       "65      60-65     Abormal           Abnormal            Abnormal   \n",
       "67      70-75     Abormal             Normal              Normal   \n",
       "72      85-90     Abormal             Normal              Normal   \n",
       "74      65-70     Abormal             Normal              Normal   \n",
       "75      60-65     Abormal             Normal              Normal   \n",
       "105     70-75     Abormal           Abnormal            Abnormal   \n",
       "110     85-90      Normal             Normal              Normal   \n",
       "144     70-75     Abormal             Normal            Abnormal   \n",
       "181     55-60     Abormal             Normal              Normal   \n",
       "182     65-70     Abormal             Normal              Normal   \n",
       "184     55-60     Abormal             Normal              Normal   \n",
       "266     55-60     Abormal             Normal            Abnormal   \n",
       "\n",
       "    abnormal_sodium  \n",
       "2          Abnormal  \n",
       "5          Abnormal  \n",
       "7          Abnormal  \n",
       "9          Abnormal  \n",
       "10         Abnormal  \n",
       "11           Normal  \n",
       "22           Normal  \n",
       "25           Normal  \n",
       "27           Normal  \n",
       "29         Abnormal  \n",
       "40         Abnormal  \n",
       "41           Normal  \n",
       "42           Normal  \n",
       "45           Normal  \n",
       "47           Normal  \n",
       "54         Abnormal  \n",
       "58           Normal  \n",
       "59           Normal  \n",
       "65         Abnormal  \n",
       "67           Normal  \n",
       "72         Abnormal  \n",
       "74         Abnormal  \n",
       "75           Normal  \n",
       "105          Normal  \n",
       "110        Abnormal  \n",
       "144          Normal  \n",
       "181          Normal  \n",
       "182          Normal  \n",
       "184          Normal  \n",
       "266        Abnormal  "
      ]
     },
     "execution_count": 121,
     "metadata": {},
     "output_type": "execute_result"
    }
   ],
   "source": [
    "heart_failure_df [(heart_failure_df.patient_dead == True) & (heart_failure_df.smoking == True )]"
   ]
  },
  {
   "cell_type": "code",
   "execution_count": 122,
   "metadata": {
    "colab": {
     "base_uri": "https://localhost:8080/"
    },
    "executionInfo": {
     "elapsed": 432,
     "status": "ok",
     "timestamp": 1663874366666,
     "user": {
      "displayName": "Avneet Kumar",
      "userId": "08327085032726843331"
     },
     "user_tz": -330
    },
    "id": "84kV5sY2o5-k",
    "outputId": "2d22e9b4-02f9-4071-890a-7a505ec74621"
   },
   "outputs": [
    {
     "data": {
      "text/plain": [
       "(2, 16)"
      ]
     },
     "execution_count": 122,
     "metadata": {},
     "output_type": "execute_result"
    }
   ],
   "source": [
    "heart_failure_df [(heart_failure_df.patient_dead == True) & \n",
    "                  (heart_failure_df.smoking == True ) & (heart_failure_df.abnormal_ef == 'Normal')].shape "
   ]
  },
  {
   "cell_type": "code",
   "execution_count": 123,
   "metadata": {
    "colab": {
     "base_uri": "https://localhost:8080/"
    },
    "executionInfo": {
     "elapsed": 656,
     "status": "ok",
     "timestamp": 1663874385797,
     "user": {
      "displayName": "Avneet Kumar",
      "userId": "08327085032726843331"
     },
     "user_tz": -330
    },
    "id": "QMvaSwNUo_hO",
    "outputId": "90d22109-59b0-4f51-ac32-b96610b8edc5"
   },
   "outputs": [
    {
     "data": {
      "text/plain": [
       "(16, 16)"
      ]
     },
     "execution_count": 123,
     "metadata": {},
     "output_type": "execute_result"
    }
   ],
   "source": [
    "heart_failure_df [(heart_failure_df.patient_dead == True) & \n",
    "                  (heart_failure_df.smoking == True ) & (heart_failure_df.abnormal_creatinine == 'Normal')].shape"
   ]
  },
  {
   "cell_type": "markdown",
   "metadata": {
    "id": "v71NpnwspH6e"
   },
   "source": [
    "Since, we already know that the most common factor among the heart failure patients was Ejection Fraction followed by abnormal creatinine level in the blood. 2 Patients with smoking habit died, though they had Normal Ejection Fraction and 16 Patients died with smoking habit, though they had Normal Creatinine Level in the blood.\n",
    "\n",
    "So, we can conclude that the smoking habit surely has little impact on the life of a heart failure patient."
   ]
  },
  {
   "cell_type": "markdown",
   "metadata": {
    "id": "8Je7RRm3pJdB"
   },
   "source": [
    "## Inferences and Conclusions\n",
    "We've drawn many inferences from the survey. Here's a summary of a few of them:\n",
    "\n",
    "1. Based on the recorded patients gender, we can infer that the dataset is slightly imbalanced, since only 35.1% of Patients were Female.\n",
    "\n",
    "2. We have more number of patients under 60-65 age group and the next place goes to 50-55 age group. And the number of patients recorded starts declining from 65-70 age group, it's obvious since the life expectancy of a person in Pakistan in 2015 was approximately 67 years.\n",
    "\n",
    "3. 32.1% of patients died during the follow-up period. This might be because the data mentioned in our data frame corresponds to only the certain period of time (April'15 - December'15) and more number of patients might have died after this period (which isn't recorded).\n",
    "\n",
    "4. Maximum patients died (during the follow-up period is) under 60-65 age group (i.e 15 Patients). It's obvious, since we have more number of patients in 60-65 age group. And the proportion of patients died starts increasing from 65-70 age group and the number of patients died is more than alive patients in the age group of 80-85, 85-90 and 90-95. This is because over the time, the body’s immune system naturally becomes less capable of handling new threats, such as viruses including novel corona virus. This increases the risk of having issues with various illnesses which ultimately leads to their end.\n",
    "\n",
    "5. The proportion of male and female patients died during the follow-up period is almost equal (i.e ~32%).\n",
    "\n",
    "6. The abnormality in Ejection Fraction(EF) is the most common factor among the heart failure patients. Abnormal Ejection Fraction is followed by the abnormal creatinine and sodium level in the blood respectively, the factor which is least common among the heart failure patients is abnormal Platelets Count (i.e only 47 Patients).\n",
    "\n",
    "7. No medical record values have been normally distributed. Platelets count, Ejection Fraction and Creatinine Level are right skewed and Sodium Level is left skewed.\n",
    "\n",
    "8. The most common abnormality or disease among the heart failure patients is Ejection Fraction and 261 Patients had abnormal Ejection Fraction.\n",
    "\n",
    "9. The least common abnormality or disease among the heart failure patients is Abnormal Platelets Count and 47 Patients had abnormal Platelets Count.\n",
    "Though they had normal ejection fraction and normal creatinine level in the blood, some patients with smoking habit died. So, we can conclude that the smoking habit has little impact on the life expectancy of a heart failure patient."
   ]
  },
  {
   "cell_type": "markdown",
   "metadata": {
    "id": "Qn1LZ85-qDoi"
   },
   "source": [
    "## References and Future work\n",
    "\n",
    "Check out the following resources to learn more about the dataset, attributes and tools used in this notebook:\n",
    "\n",
    "\n",
    "1.   Heart Failure Clinical Records Dataset in Kaggle: https://www.kaggle.com/andrewmvd/heart-failure-clinical-data\n",
    "2.   Advanced study in Heart Failure Patients Dataset: https://bmcmedinformdecismak.biomedcentral.com/articles/10.1186/s12911-020-1023-5\n",
    "3. Attributes Information Table: https://bmcmedinformdecismak.biomedcentral.com/articles/10.1186/s12911-020-1023-5/tables/1\n",
    "4. Ejection Fraction: https://my.clevelandclinic.org/health/articles/16950-ejection-fraction\n",
    "5. Platelets: https://www.ucsfhealth.org/medical-tests/platelet-count\n",
    "6. Serum Creatinine: https://www.medicinenet.com/creatinine_blood_test/article.html\n",
    "7. Serum Sodium: https://www.healthcheckup.com/general/normal-sodium-levels-in-blood/\n",
    "8. Pandas user guide: https://pandas.pydata.org/docs/user_guide/index.html\n",
    "9. Matplotlib user guide: https://matplotlib.org/3.3.1/users/index.html\n",
    "10. Seaborn user guide & tutorial: https://seaborn.pydata.org/tutorial.html\n",
    "11. opendatasets Python library: https://github.com/JovianML/opendatasets\n",
    "12. Data Visualization in Python: https://medium.com/@siddhardhan23/data-visualization-in-python-a90ddb706b23\n",
    "\n",
    "\n",
    "**Future Work**\n",
    "There are a lot of improvements we can make to our project in the future with the help of necessary tools and datasets. Here are some of the things we could do in enhancing our project:\n",
    "\n",
    "1. Analyze what is the most common factor among heart failure patients to confirm our findings, using data gathered from all over the world on heart failure patients\n",
    "2. Determine the number of patients who died based on their abnormality and disease. For example: Number of Patients who died with Anaemia and Diabetes, Number of Patients who died with Abnormal Ejection Fraction, High Blood Pressure, and Abnormal Creatinine Level.\n",
    "3. Study further about the clinical records like 'Ejection Fraction' and 'Creatinine Level' and how they are interrelated.\n",
    "4. Predict the life expectancy of heart failure patients through machine learning models."
   ]
  },
  {
   "cell_type": "code",
   "execution_count": null,
   "metadata": {
    "id": "pTXx_2RTpEJQ"
   },
   "outputs": [],
   "source": []
  }
 ],
 "metadata": {
  "colab": {
   "provenance": [],
   "toc_visible": true
  },
  "kernelspec": {
   "display_name": "Python 3",
   "language": "python",
   "name": "python3"
  },
  "language_info": {
   "codemirror_mode": {
    "name": "ipython",
    "version": 3
   },
   "file_extension": ".py",
   "mimetype": "text/x-python",
   "name": "python",
   "nbconvert_exporter": "python",
   "pygments_lexer": "ipython3",
   "version": "3.7.6"
  }
 },
 "nbformat": 4,
 "nbformat_minor": 0
}